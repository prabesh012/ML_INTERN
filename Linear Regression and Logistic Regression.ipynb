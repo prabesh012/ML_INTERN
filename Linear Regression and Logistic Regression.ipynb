{
 "cells": [
  {
   "cell_type": "markdown",
   "id": "c1517f5e",
   "metadata": {},
   "source": [
    "# Machine Learning (M.L.)"
   ]
  },
  {
   "cell_type": "markdown",
   "id": "7d237b3c",
   "metadata": {},
   "source": [
    "Machine Learning is one of the ways to achieve Artificial Intelligence(A.I). M.L doesn’t have this one well accepted definition. \n",
    "The term Machine Learning was coined in 1959 by Arthur Samuel.\n",
    "Arthur Lee Samuel describes ML as “The science of getting computers to learn without being explicitly programmed.” "
   ]
  },
  {
   "cell_type": "markdown",
   "id": "c0b7154f",
   "metadata": {},
   "source": [
    "The 2 main families of algorithms in predictive Machine Learning are:\n",
    "   - **Classification**\n",
    "   - **Regression**"
   ]
  },
  {
   "cell_type": "markdown",
   "id": "6c77c05e",
   "metadata": {},
   "source": [
    "**Classification is where we categorize a set of observations into classes.**\n",
    "<br>\n",
    "e.g:\n",
    "- Email Filtering: Spam or Not Spam\n",
    "- Weather Prediction: Rain or No rain\n",
    "<br>\n",
    "\n",
    "**Logistic Regression** is one of the algorithms used for this purpose."
   ]
  },
  {
   "cell_type": "markdown",
   "id": "7cc1823b",
   "metadata": {},
   "source": [
    "**Regression is where we predict a continuous value.**\n",
    "<br>\n",
    "e.g:\n",
    "- Predict the house price based on the features(like Size, # of bedrooms)\n",
    "- How much sales of a candy?\n",
    "<br>\n",
    "\n",
    "**Linear Regression** is one of the algorithms used for this purpose"
   ]
  },
  {
   "cell_type": "markdown",
   "id": "d4fdc2ae",
   "metadata": {},
   "source": [
    "## Linear Regression"
   ]
  },
  {
   "cell_type": "code",
   "execution_count": 3,
   "id": "ccc358d7",
   "metadata": {},
   "outputs": [
    {
     "name": "stdout",
     "output_type": "stream",
     "text": [
      "[1.58458923]\n",
      "-1.2041412175631407\n"
     ]
    },
    {
     "data": {
      "image/png": "[encoded data removed]",
      "text/plain": [
       "<Figure size 432x288 with 1 Axes>"
      ]
     },
     "metadata": {
      "needs_background": "light"
     },
     "output_type": "display_data"
    }
   ],
   "source": [
    "import numpy as np\n",
    "import pandas as pd\n",
    "import matplotlib.pyplot as plt\n",
    "from sklearn.linear_model import LinearRegression\n",
    "\n",
    "sigma = [[0.6, 0.9], [0.9, 2.0]]\n",
    "meu = [2, 2]\n",
    "data = np.random.multivariate_normal(meu, sigma, 100)\n",
    "\n",
    "x = data[:, 0]\n",
    "y = data[:, 1]\n",
    "\n",
    "lin_reg = LinearRegression()\n",
    "lin_reg.fit(x.reshape(-1, 1), y)\n",
    "\n",
    "y_hat = lin_reg.predict(x.reshape(-1, 1))\n",
    "\n",
    "print(lin_reg.coef_)\n",
    "print(lin_reg.intercept_)\n",
    "\n",
    "plt.scatter(x, y)\n",
    "plt.plot(x, y_hat, color=\"r\")\n",
    "plt.show()"
   ]
  },
  {
   "cell_type": "markdown",
   "id": "837442bc",
   "metadata": {},
   "source": [
    "**Fitting a line and using that line for predicting the values. But, the main question is how do we fit that line on the dataset.**"
   ]
  },
  {
   "cell_type": "markdown",
   "id": "3ae93d75",
   "metadata": {},
   "source": [
    "<hr>"
   ]
  },
  {
   "cell_type": "markdown",
   "id": "3235c032",
   "metadata": {},
   "source": [
    "## Logistic Regression"
   ]
  },
  {
   "cell_type": "markdown",
   "id": "3340bd88",
   "metadata": {},
   "source": [
    "Logistic regression is a classification algorithm used to assign observations to a discrete set of classes. Some\n",
    "of the examples of classification problems are Email spam or not spam, Online transactions Fraud or not Fraud,\n",
    "Tumor Malignant or Benign. Logistic regression transforms its output using the logistic sigmoid function to return\n",
    "a probability value."
   ]
  },
  {
   "cell_type": "markdown",
   "id": "37a3b02e",
   "metadata": {},
   "source": [
    "Logistic Regression uses a more complex\n",
    "cost function, this cost function can be defined as the ‘Sigmoid function’ or also known as the ‘logistic function’"
   ]
  },
  {
   "cell_type": "code",
   "execution_count": 4,
   "id": "e5c4a657",
   "metadata": {},
   "outputs": [
    {
     "data": {
      "image/png": "[encoded data removed]",
      "text/plain": [
       "<Figure size 432x288 with 1 Axes>"
      ]
     },
     "metadata": {
      "needs_background": "light"
     },
     "output_type": "display_data"
    }
   ],
   "source": [
    "import matplotlib.pyplot as plt\n",
    "import numpy as np\n",
    "import math\n",
    "  \n",
    "x = np.linspace(-10, 10, 100)\n",
    "z = 1/(1 + np.exp(-x))\n",
    "  \n",
    "plt.plot(x, z)\n",
    "plt.xlabel(\"x\")\n",
    "plt.ylabel(\"Sigmoid(X)\")\n",
    "  \n",
    "plt.show()"
   ]
  },
  {
   "cell_type": "markdown",
   "id": "bd2db341",
   "metadata": {},
   "source": [
    "In order to map predicted values to probabilities, we use the Sigmoid function. The function maps any real value\n",
    "into another value between 0 and 1. In machine learning, we use sigmoid to map predictions to probabilities."
   ]
  }
 ],
 "metadata": {
  "kernelspec": {
   "display_name": "Python 3",
   "language": "python",
   "name": "python3"
  },
  "language_info": {
   "codemirror_mode": {
    "name": "ipython",
    "version": 3
   },
   "file_extension": ".py",
   "mimetype": "text/x-python",
   "name": "python",
   "nbconvert_exporter": "python",
   "pygments_lexer": "ipython3",
   "version": "3.8.8"
  }
 },
 "nbformat": 4,
 "nbformat_minor": 5
}
