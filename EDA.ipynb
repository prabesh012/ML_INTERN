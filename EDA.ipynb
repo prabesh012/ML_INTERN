{
 "cells": [
  {
   "cell_type": "markdown",
   "id": "061349f7",
   "metadata": {},
   "source": [
    "# Importing libraries and dataset"
   ]
  },
  {
   "cell_type": "code",
   "execution_count": 1,
   "id": "3706d17a",
   "metadata": {},
   "outputs": [],
   "source": [
    "import numpy as np\n",
    "import pandas as pd\n",
    "import matplotlib.pyplot as plt\n",
    "import seaborn as sns"
   ]
  },
  {
   "cell_type": "code",
   "execution_count": 2,
   "id": "f618aa80",
   "metadata": {
    "scrolled": true
   },
   "outputs": [
    {
     "name": "stdout",
     "output_type": "stream",
     "text": [
      "application_test.csv  application_train.csv\r\n"
     ]
    }
   ],
   "source": [
    "!ls *.csv"
   ]
  },
  {
   "cell_type": "code",
   "execution_count": 3,
   "id": "018a48d1",
   "metadata": {},
   "outputs": [],
   "source": [
    "train_df = pd.read_csv('application_train.csv')"
   ]
  },
  {
   "cell_type": "code",
   "execution_count": 4,
   "id": "b008412e",
   "metadata": {},
   "outputs": [
    {
     "data": {
      "text/plain": [
       "(307511, 122)"
      ]
     },
     "execution_count": 4,
     "metadata": {},
     "output_type": "execute_result"
    }
   ],
   "source": [
    "train_df.shape"
   ]
  },
  {
   "cell_type": "markdown",
   "id": "b2d4a161",
   "metadata": {},
   "source": [
    "<p> Looks like we have 122 columns which is big, We must apply feature selection, dimentionality reduction techniques.</p>"
   ]
  },
  {
   "cell_type": "markdown",
   "id": "b9b8bd05",
   "metadata": {},
   "source": [
    "<hr>"
   ]
  },
  {
   "cell_type": "markdown",
   "id": "78bf32e8",
   "metadata": {},
   "source": [
    "# A bird eye view of Dataset"
   ]
  },
  {
   "cell_type": "code",
   "execution_count": 5,
   "id": "0de1c026",
   "metadata": {},
   "outputs": [
    {
     "data": {
      "text/html": [
       "<div>\n",
       "<style scoped>\n",
       "    .dataframe tbody tr th:only-of-type {\n",
       "        vertical-align: middle;\n",
       "    }\n",
       "\n",
       "    .dataframe tbody tr th {\n",
       "        vertical-align: top;\n",
       "    }\n",
       "\n",
       "    .dataframe thead th {\n",
       "        text-align: right;\n",
       "    }\n",
       "</style>\n",
       "<table border=\"1\" class=\"dataframe\">\n",
       "  <thead>\n",
       "    <tr style=\"text-align: right;\">\n",
       "      <th></th>\n",
       "      <th>SK_ID_CURR</th>\n",
       "      <th>TARGET</th>\n",
       "      <th>NAME_CONTRACT_TYPE</th>\n",
       "      <th>CODE_GENDER</th>\n",
       "      <th>FLAG_OWN_CAR</th>\n",
       "      <th>FLAG_OWN_REALTY</th>\n",
       "      <th>CNT_CHILDREN</th>\n",
       "      <th>AMT_INCOME_TOTAL</th>\n",
       "      <th>AMT_CREDIT</th>\n",
       "      <th>AMT_ANNUITY</th>\n",
       "      <th>...</th>\n",
       "      <th>FLAG_DOCUMENT_18</th>\n",
       "      <th>FLAG_DOCUMENT_19</th>\n",
       "      <th>FLAG_DOCUMENT_20</th>\n",
       "      <th>FLAG_DOCUMENT_21</th>\n",
       "      <th>AMT_REQ_CREDIT_BUREAU_HOUR</th>\n",
       "      <th>AMT_REQ_CREDIT_BUREAU_DAY</th>\n",
       "      <th>AMT_REQ_CREDIT_BUREAU_WEEK</th>\n",
       "      <th>AMT_REQ_CREDIT_BUREAU_MON</th>\n",
       "      <th>AMT_REQ_CREDIT_BUREAU_QRT</th>\n",
       "      <th>AMT_REQ_CREDIT_BUREAU_YEAR</th>\n",
       "    </tr>\n",
       "  </thead>\n",
       "  <tbody>\n",
       "    <tr>\n",
       "      <th>0</th>\n",
       "      <td>100002</td>\n",
       "      <td>1</td>\n",
       "      <td>Cash loans</td>\n",
       "      <td>M</td>\n",
       "      <td>N</td>\n",
       "      <td>Y</td>\n",
       "      <td>0</td>\n",
       "      <td>202500.0</td>\n",
       "      <td>406597.5</td>\n",
       "      <td>24700.5</td>\n",
       "      <td>...</td>\n",
       "      <td>0</td>\n",
       "      <td>0</td>\n",
       "      <td>0</td>\n",
       "      <td>0</td>\n",
       "      <td>0.0</td>\n",
       "      <td>0.0</td>\n",
       "      <td>0.0</td>\n",
       "      <td>0.0</td>\n",
       "      <td>0.0</td>\n",
       "      <td>1.0</td>\n",
       "    </tr>\n",
       "    <tr>\n",
       "      <th>1</th>\n",
       "      <td>100003</td>\n",
       "      <td>0</td>\n",
       "      <td>Cash loans</td>\n",
       "      <td>F</td>\n",
       "      <td>N</td>\n",
       "      <td>N</td>\n",
       "      <td>0</td>\n",
       "      <td>270000.0</td>\n",
       "      <td>1293502.5</td>\n",
       "      <td>35698.5</td>\n",
       "      <td>...</td>\n",
       "      <td>0</td>\n",
       "      <td>0</td>\n",
       "      <td>0</td>\n",
       "      <td>0</td>\n",
       "      <td>0.0</td>\n",
       "      <td>0.0</td>\n",
       "      <td>0.0</td>\n",
       "      <td>0.0</td>\n",
       "      <td>0.0</td>\n",
       "      <td>0.0</td>\n",
       "    </tr>\n",
       "    <tr>\n",
       "      <th>2</th>\n",
       "      <td>100004</td>\n",
       "      <td>0</td>\n",
       "      <td>Revolving loans</td>\n",
       "      <td>M</td>\n",
       "      <td>Y</td>\n",
       "      <td>Y</td>\n",
       "      <td>0</td>\n",
       "      <td>67500.0</td>\n",
       "      <td>135000.0</td>\n",
       "      <td>6750.0</td>\n",
       "      <td>...</td>\n",
       "      <td>0</td>\n",
       "      <td>0</td>\n",
       "      <td>0</td>\n",
       "      <td>0</td>\n",
       "      <td>0.0</td>\n",
       "      <td>0.0</td>\n",
       "      <td>0.0</td>\n",
       "      <td>0.0</td>\n",
       "      <td>0.0</td>\n",
       "      <td>0.0</td>\n",
       "    </tr>\n",
       "    <tr>\n",
       "      <th>3</th>\n",
       "      <td>100006</td>\n",
       "      <td>0</td>\n",
       "      <td>Cash loans</td>\n",
       "      <td>F</td>\n",
       "      <td>N</td>\n",
       "      <td>Y</td>\n",
       "      <td>0</td>\n",
       "      <td>135000.0</td>\n",
       "      <td>312682.5</td>\n",
       "      <td>29686.5</td>\n",
       "      <td>...</td>\n",
       "      <td>0</td>\n",
       "      <td>0</td>\n",
       "      <td>0</td>\n",
       "      <td>0</td>\n",
       "      <td>NaN</td>\n",
       "      <td>NaN</td>\n",
       "      <td>NaN</td>\n",
       "      <td>NaN</td>\n",
       "      <td>NaN</td>\n",
       "      <td>NaN</td>\n",
       "    </tr>\n",
       "    <tr>\n",
       "      <th>4</th>\n",
       "      <td>100007</td>\n",
       "      <td>0</td>\n",
       "      <td>Cash loans</td>\n",
       "      <td>M</td>\n",
       "      <td>N</td>\n",
       "      <td>Y</td>\n",
       "      <td>0</td>\n",
       "      <td>121500.0</td>\n",
       "      <td>513000.0</td>\n",
       "      <td>21865.5</td>\n",
       "      <td>...</td>\n",
       "      <td>0</td>\n",
       "      <td>0</td>\n",
       "      <td>0</td>\n",
       "      <td>0</td>\n",
       "      <td>0.0</td>\n",
       "      <td>0.0</td>\n",
       "      <td>0.0</td>\n",
       "      <td>0.0</td>\n",
       "      <td>0.0</td>\n",
       "      <td>0.0</td>\n",
       "    </tr>\n",
       "  </tbody>\n",
       "</table>\n",
       "<p>5 rows × 122 columns</p>\n",
       "</div>"
      ],
      "text/plain": [
       "   SK_ID_CURR  TARGET NAME_CONTRACT_TYPE CODE_GENDER FLAG_OWN_CAR  \\\n",
       "0      100002       1         Cash loans           M            N   \n",
       "1      100003       0         Cash loans           F            N   \n",
       "2      100004       0    Revolving loans           M            Y   \n",
       "3      100006       0         Cash loans           F            N   \n",
       "4      100007       0         Cash loans           M            N   \n",
       "\n",
       "  FLAG_OWN_REALTY  CNT_CHILDREN  AMT_INCOME_TOTAL  AMT_CREDIT  AMT_ANNUITY  \\\n",
       "0               Y             0          202500.0    406597.5      24700.5   \n",
       "1               N             0          270000.0   1293502.5      35698.5   \n",
       "2               Y             0           67500.0    135000.0       6750.0   \n",
       "3               Y             0          135000.0    312682.5      29686.5   \n",
       "4               Y             0          121500.0    513000.0      21865.5   \n",
       "\n",
       "   ...  FLAG_DOCUMENT_18 FLAG_DOCUMENT_19 FLAG_DOCUMENT_20 FLAG_DOCUMENT_21  \\\n",
       "0  ...                 0                0                0                0   \n",
       "1  ...                 0                0                0                0   \n",
       "2  ...                 0                0                0                0   \n",
       "3  ...                 0                0                0                0   \n",
       "4  ...                 0                0                0                0   \n",
       "\n",
       "  AMT_REQ_CREDIT_BUREAU_HOUR AMT_REQ_CREDIT_BUREAU_DAY  \\\n",
       "0                        0.0                       0.0   \n",
       "1                        0.0                       0.0   \n",
       "2                        0.0                       0.0   \n",
       "3                        NaN                       NaN   \n",
       "4                        0.0                       0.0   \n",
       "\n",
       "   AMT_REQ_CREDIT_BUREAU_WEEK  AMT_REQ_CREDIT_BUREAU_MON  \\\n",
       "0                         0.0                        0.0   \n",
       "1                         0.0                        0.0   \n",
       "2                         0.0                        0.0   \n",
       "3                         NaN                        NaN   \n",
       "4                         0.0                        0.0   \n",
       "\n",
       "   AMT_REQ_CREDIT_BUREAU_QRT  AMT_REQ_CREDIT_BUREAU_YEAR  \n",
       "0                        0.0                         1.0  \n",
       "1                        0.0                         0.0  \n",
       "2                        0.0                         0.0  \n",
       "3                        NaN                         NaN  \n",
       "4                        0.0                         0.0  \n",
       "\n",
       "[5 rows x 122 columns]"
      ]
     },
     "execution_count": 5,
     "metadata": {},
     "output_type": "execute_result"
    }
   ],
   "source": [
    "train_df.head()"
   ]
  },
  {
   "cell_type": "code",
   "execution_count": 6,
   "id": "d3c5ba39",
   "metadata": {},
   "outputs": [
    {
     "data": {
      "text/html": [
       "<div>\n",
       "<style scoped>\n",
       "    .dataframe tbody tr th:only-of-type {\n",
       "        vertical-align: middle;\n",
       "    }\n",
       "\n",
       "    .dataframe tbody tr th {\n",
       "        vertical-align: top;\n",
       "    }\n",
       "\n",
       "    .dataframe thead th {\n",
       "        text-align: right;\n",
       "    }\n",
       "</style>\n",
       "<table border=\"1\" class=\"dataframe\">\n",
       "  <thead>\n",
       "    <tr style=\"text-align: right;\">\n",
       "      <th></th>\n",
       "      <th>SK_ID_CURR</th>\n",
       "      <th>TARGET</th>\n",
       "      <th>CNT_CHILDREN</th>\n",
       "      <th>AMT_INCOME_TOTAL</th>\n",
       "      <th>AMT_CREDIT</th>\n",
       "      <th>AMT_ANNUITY</th>\n",
       "      <th>AMT_GOODS_PRICE</th>\n",
       "      <th>REGION_POPULATION_RELATIVE</th>\n",
       "      <th>DAYS_BIRTH</th>\n",
       "      <th>DAYS_EMPLOYED</th>\n",
       "      <th>...</th>\n",
       "      <th>FLAG_DOCUMENT_18</th>\n",
       "      <th>FLAG_DOCUMENT_19</th>\n",
       "      <th>FLAG_DOCUMENT_20</th>\n",
       "      <th>FLAG_DOCUMENT_21</th>\n",
       "      <th>AMT_REQ_CREDIT_BUREAU_HOUR</th>\n",
       "      <th>AMT_REQ_CREDIT_BUREAU_DAY</th>\n",
       "      <th>AMT_REQ_CREDIT_BUREAU_WEEK</th>\n",
       "      <th>AMT_REQ_CREDIT_BUREAU_MON</th>\n",
       "      <th>AMT_REQ_CREDIT_BUREAU_QRT</th>\n",
       "      <th>AMT_REQ_CREDIT_BUREAU_YEAR</th>\n",
       "    </tr>\n",
       "  </thead>\n",
       "  <tbody>\n",
       "    <tr>\n",
       "      <th>count</th>\n",
       "      <td>307511.000000</td>\n",
       "      <td>307511.000000</td>\n",
       "      <td>307511.000000</td>\n",
       "      <td>3.075110e+05</td>\n",
       "      <td>3.075110e+05</td>\n",
       "      <td>307499.000000</td>\n",
       "      <td>3.072330e+05</td>\n",
       "      <td>307511.000000</td>\n",
       "      <td>307511.000000</td>\n",
       "      <td>307511.000000</td>\n",
       "      <td>...</td>\n",
       "      <td>307511.000000</td>\n",
       "      <td>307511.000000</td>\n",
       "      <td>307511.000000</td>\n",
       "      <td>307511.000000</td>\n",
       "      <td>265992.000000</td>\n",
       "      <td>265992.000000</td>\n",
       "      <td>265992.000000</td>\n",
       "      <td>265992.000000</td>\n",
       "      <td>265992.000000</td>\n",
       "      <td>265992.000000</td>\n",
       "    </tr>\n",
       "    <tr>\n",
       "      <th>mean</th>\n",
       "      <td>278180.518577</td>\n",
       "      <td>0.080729</td>\n",
       "      <td>0.417052</td>\n",
       "      <td>1.687979e+05</td>\n",
       "      <td>5.990260e+05</td>\n",
       "      <td>27108.573909</td>\n",
       "      <td>5.383962e+05</td>\n",
       "      <td>0.020868</td>\n",
       "      <td>-16036.995067</td>\n",
       "      <td>63815.045904</td>\n",
       "      <td>...</td>\n",
       "      <td>0.008130</td>\n",
       "      <td>0.000595</td>\n",
       "      <td>0.000507</td>\n",
       "      <td>0.000335</td>\n",
       "      <td>0.006402</td>\n",
       "      <td>0.007000</td>\n",
       "      <td>0.034362</td>\n",
       "      <td>0.267395</td>\n",
       "      <td>0.265474</td>\n",
       "      <td>1.899974</td>\n",
       "    </tr>\n",
       "    <tr>\n",
       "      <th>std</th>\n",
       "      <td>102790.175348</td>\n",
       "      <td>0.272419</td>\n",
       "      <td>0.722121</td>\n",
       "      <td>2.371231e+05</td>\n",
       "      <td>4.024908e+05</td>\n",
       "      <td>14493.737315</td>\n",
       "      <td>3.694465e+05</td>\n",
       "      <td>0.013831</td>\n",
       "      <td>4363.988632</td>\n",
       "      <td>141275.766519</td>\n",
       "      <td>...</td>\n",
       "      <td>0.089798</td>\n",
       "      <td>0.024387</td>\n",
       "      <td>0.022518</td>\n",
       "      <td>0.018299</td>\n",
       "      <td>0.083849</td>\n",
       "      <td>0.110757</td>\n",
       "      <td>0.204685</td>\n",
       "      <td>0.916002</td>\n",
       "      <td>0.794056</td>\n",
       "      <td>1.869295</td>\n",
       "    </tr>\n",
       "    <tr>\n",
       "      <th>min</th>\n",
       "      <td>100002.000000</td>\n",
       "      <td>0.000000</td>\n",
       "      <td>0.000000</td>\n",
       "      <td>2.565000e+04</td>\n",
       "      <td>4.500000e+04</td>\n",
       "      <td>1615.500000</td>\n",
       "      <td>4.050000e+04</td>\n",
       "      <td>0.000290</td>\n",
       "      <td>-25229.000000</td>\n",
       "      <td>-17912.000000</td>\n",
       "      <td>...</td>\n",
       "      <td>0.000000</td>\n",
       "      <td>0.000000</td>\n",
       "      <td>0.000000</td>\n",
       "      <td>0.000000</td>\n",
       "      <td>0.000000</td>\n",
       "      <td>0.000000</td>\n",
       "      <td>0.000000</td>\n",
       "      <td>0.000000</td>\n",
       "      <td>0.000000</td>\n",
       "      <td>0.000000</td>\n",
       "    </tr>\n",
       "    <tr>\n",
       "      <th>25%</th>\n",
       "      <td>189145.500000</td>\n",
       "      <td>0.000000</td>\n",
       "      <td>0.000000</td>\n",
       "      <td>1.125000e+05</td>\n",
       "      <td>2.700000e+05</td>\n",
       "      <td>16524.000000</td>\n",
       "      <td>2.385000e+05</td>\n",
       "      <td>0.010006</td>\n",
       "      <td>-19682.000000</td>\n",
       "      <td>-2760.000000</td>\n",
       "      <td>...</td>\n",
       "      <td>0.000000</td>\n",
       "      <td>0.000000</td>\n",
       "      <td>0.000000</td>\n",
       "      <td>0.000000</td>\n",
       "      <td>0.000000</td>\n",
       "      <td>0.000000</td>\n",
       "      <td>0.000000</td>\n",
       "      <td>0.000000</td>\n",
       "      <td>0.000000</td>\n",
       "      <td>0.000000</td>\n",
       "    </tr>\n",
       "    <tr>\n",
       "      <th>50%</th>\n",
       "      <td>278202.000000</td>\n",
       "      <td>0.000000</td>\n",
       "      <td>0.000000</td>\n",
       "      <td>1.471500e+05</td>\n",
       "      <td>5.135310e+05</td>\n",
       "      <td>24903.000000</td>\n",
       "      <td>4.500000e+05</td>\n",
       "      <td>0.018850</td>\n",
       "      <td>-15750.000000</td>\n",
       "      <td>-1213.000000</td>\n",
       "      <td>...</td>\n",
       "      <td>0.000000</td>\n",
       "      <td>0.000000</td>\n",
       "      <td>0.000000</td>\n",
       "      <td>0.000000</td>\n",
       "      <td>0.000000</td>\n",
       "      <td>0.000000</td>\n",
       "      <td>0.000000</td>\n",
       "      <td>0.000000</td>\n",
       "      <td>0.000000</td>\n",
       "      <td>1.000000</td>\n",
       "    </tr>\n",
       "    <tr>\n",
       "      <th>75%</th>\n",
       "      <td>367142.500000</td>\n",
       "      <td>0.000000</td>\n",
       "      <td>1.000000</td>\n",
       "      <td>2.025000e+05</td>\n",
       "      <td>8.086500e+05</td>\n",
       "      <td>34596.000000</td>\n",
       "      <td>6.795000e+05</td>\n",
       "      <td>0.028663</td>\n",
       "      <td>-12413.000000</td>\n",
       "      <td>-289.000000</td>\n",
       "      <td>...</td>\n",
       "      <td>0.000000</td>\n",
       "      <td>0.000000</td>\n",
       "      <td>0.000000</td>\n",
       "      <td>0.000000</td>\n",
       "      <td>0.000000</td>\n",
       "      <td>0.000000</td>\n",
       "      <td>0.000000</td>\n",
       "      <td>0.000000</td>\n",
       "      <td>0.000000</td>\n",
       "      <td>3.000000</td>\n",
       "    </tr>\n",
       "    <tr>\n",
       "      <th>max</th>\n",
       "      <td>456255.000000</td>\n",
       "      <td>1.000000</td>\n",
       "      <td>19.000000</td>\n",
       "      <td>1.170000e+08</td>\n",
       "      <td>4.050000e+06</td>\n",
       "      <td>258025.500000</td>\n",
       "      <td>4.050000e+06</td>\n",
       "      <td>0.072508</td>\n",
       "      <td>-7489.000000</td>\n",
       "      <td>365243.000000</td>\n",
       "      <td>...</td>\n",
       "      <td>1.000000</td>\n",
       "      <td>1.000000</td>\n",
       "      <td>1.000000</td>\n",
       "      <td>1.000000</td>\n",
       "      <td>4.000000</td>\n",
       "      <td>9.000000</td>\n",
       "      <td>8.000000</td>\n",
       "      <td>27.000000</td>\n",
       "      <td>261.000000</td>\n",
       "      <td>25.000000</td>\n",
       "    </tr>\n",
       "  </tbody>\n",
       "</table>\n",
       "<p>8 rows × 106 columns</p>\n",
       "</div>"
      ],
      "text/plain": [
       "          SK_ID_CURR         TARGET   CNT_CHILDREN  AMT_INCOME_TOTAL  \\\n",
       "count  307511.000000  307511.000000  307511.000000      3.075110e+05   \n",
       "mean   278180.518577       0.080729       0.417052      1.687979e+05   \n",
       "std    102790.175348       0.272419       0.722121      2.371231e+05   \n",
       "min    100002.000000       0.000000       0.000000      2.565000e+04   \n",
       "25%    189145.500000       0.000000       0.000000      1.125000e+05   \n",
       "50%    278202.000000       0.000000       0.000000      1.471500e+05   \n",
       "75%    367142.500000       0.000000       1.000000      2.025000e+05   \n",
       "max    456255.000000       1.000000      19.000000      1.170000e+08   \n",
       "\n",
       "         AMT_CREDIT    AMT_ANNUITY  AMT_GOODS_PRICE  \\\n",
       "count  3.075110e+05  307499.000000     3.072330e+05   \n",
       "mean   5.990260e+05   27108.573909     5.383962e+05   \n",
       "std    4.024908e+05   14493.737315     3.694465e+05   \n",
       "min    4.500000e+04    1615.500000     4.050000e+04   \n",
       "25%    2.700000e+05   16524.000000     2.385000e+05   \n",
       "50%    5.135310e+05   24903.000000     4.500000e+05   \n",
       "75%    8.086500e+05   34596.000000     6.795000e+05   \n",
       "max    4.050000e+06  258025.500000     4.050000e+06   \n",
       "\n",
       "       REGION_POPULATION_RELATIVE     DAYS_BIRTH  DAYS_EMPLOYED  ...  \\\n",
       "count               307511.000000  307511.000000  307511.000000  ...   \n",
       "mean                     0.020868  -16036.995067   63815.045904  ...   \n",
       "std                      0.013831    4363.988632  141275.766519  ...   \n",
       "min                      0.000290  -25229.000000  -17912.000000  ...   \n",
       "25%                      0.010006  -19682.000000   -2760.000000  ...   \n",
       "50%                      0.018850  -15750.000000   -1213.000000  ...   \n",
       "75%                      0.028663  -12413.000000    -289.000000  ...   \n",
       "max                      0.072508   -7489.000000  365243.000000  ...   \n",
       "\n",
       "       FLAG_DOCUMENT_18  FLAG_DOCUMENT_19  FLAG_DOCUMENT_20  FLAG_DOCUMENT_21  \\\n",
       "count     307511.000000     307511.000000     307511.000000     307511.000000   \n",
       "mean           0.008130          0.000595          0.000507          0.000335   \n",
       "std            0.089798          0.024387          0.022518          0.018299   \n",
       "min            0.000000          0.000000          0.000000          0.000000   \n",
       "25%            0.000000          0.000000          0.000000          0.000000   \n",
       "50%            0.000000          0.000000          0.000000          0.000000   \n",
       "75%            0.000000          0.000000          0.000000          0.000000   \n",
       "max            1.000000          1.000000          1.000000          1.000000   \n",
       "\n",
       "       AMT_REQ_CREDIT_BUREAU_HOUR  AMT_REQ_CREDIT_BUREAU_DAY  \\\n",
       "count               265992.000000              265992.000000   \n",
       "mean                     0.006402                   0.007000   \n",
       "std                      0.083849                   0.110757   \n",
       "min                      0.000000                   0.000000   \n",
       "25%                      0.000000                   0.000000   \n",
       "50%                      0.000000                   0.000000   \n",
       "75%                      0.000000                   0.000000   \n",
       "max                      4.000000                   9.000000   \n",
       "\n",
       "       AMT_REQ_CREDIT_BUREAU_WEEK  AMT_REQ_CREDIT_BUREAU_MON  \\\n",
       "count               265992.000000              265992.000000   \n",
       "mean                     0.034362                   0.267395   \n",
       "std                      0.204685                   0.916002   \n",
       "min                      0.000000                   0.000000   \n",
       "25%                      0.000000                   0.000000   \n",
       "50%                      0.000000                   0.000000   \n",
       "75%                      0.000000                   0.000000   \n",
       "max                      8.000000                  27.000000   \n",
       "\n",
       "       AMT_REQ_CREDIT_BUREAU_QRT  AMT_REQ_CREDIT_BUREAU_YEAR  \n",
       "count              265992.000000               265992.000000  \n",
       "mean                    0.265474                    1.899974  \n",
       "std                     0.794056                    1.869295  \n",
       "min                     0.000000                    0.000000  \n",
       "25%                     0.000000                    0.000000  \n",
       "50%                     0.000000                    1.000000  \n",
       "75%                     0.000000                    3.000000  \n",
       "max                   261.000000                   25.000000  \n",
       "\n",
       "[8 rows x 106 columns]"
      ]
     },
     "execution_count": 6,
     "metadata": {},
     "output_type": "execute_result"
    }
   ],
   "source": [
    "train_df.describe()"
   ]
  },
  {
   "cell_type": "code",
   "execution_count": 7,
   "id": "d27d3c29",
   "metadata": {},
   "outputs": [
    {
     "data": {
      "text/plain": [
       "'16 non numerical columns'"
      ]
     },
     "execution_count": 7,
     "metadata": {},
     "output_type": "execute_result"
    }
   ],
   "source": [
    "# Looks like we have 106 numerical columns as pd.describe only takes numerical features\n",
    "str(122-106) + \" non numerical columns\""
   ]
  },
  {
   "cell_type": "code",
   "execution_count": 8,
   "id": "4847b3f4",
   "metadata": {},
   "outputs": [
    {
     "data": {
      "text/plain": [
       "(16,)"
      ]
     },
     "execution_count": 8,
     "metadata": {},
     "output_type": "execute_result"
    }
   ],
   "source": [
    "train_df.dtypes[train_df.dtypes == 'object'].shape"
   ]
  },
  {
   "cell_type": "markdown",
   "id": "09bed164",
   "metadata": {},
   "source": [
    "<p> We have 16 columns with non numerical values. The values in these columns must be encoded.</p>"
   ]
  },
  {
   "cell_type": "code",
   "execution_count": 9,
   "id": "2eaa99c9",
   "metadata": {},
   "outputs": [
    {
     "data": {
      "text/plain": [
       "NAME_CONTRACT_TYPE            object\n",
       "CODE_GENDER                   object\n",
       "FLAG_OWN_CAR                  object\n",
       "FLAG_OWN_REALTY               object\n",
       "NAME_TYPE_SUITE               object\n",
       "NAME_INCOME_TYPE              object\n",
       "NAME_EDUCATION_TYPE           object\n",
       "NAME_FAMILY_STATUS            object\n",
       "NAME_HOUSING_TYPE             object\n",
       "OCCUPATION_TYPE               object\n",
       "WEEKDAY_APPR_PROCESS_START    object\n",
       "ORGANIZATION_TYPE             object\n",
       "FONDKAPREMONT_MODE            object\n",
       "HOUSETYPE_MODE                object\n",
       "WALLSMATERIAL_MODE            object\n",
       "EMERGENCYSTATE_MODE           object\n",
       "dtype: object"
      ]
     },
     "execution_count": 9,
     "metadata": {},
     "output_type": "execute_result"
    }
   ],
   "source": [
    "train_df.dtypes[train_df.dtypes == 'object']"
   ]
  },
  {
   "cell_type": "code",
   "execution_count": 10,
   "id": "7b8e0b6c",
   "metadata": {},
   "outputs": [
    {
     "name": "stdout",
     "output_type": "stream",
     "text": [
      "<class 'pandas.core.frame.DataFrame'>\n",
      "RangeIndex: 307511 entries, 0 to 307510\n",
      "Columns: 122 entries, SK_ID_CURR to AMT_REQ_CREDIT_BUREAU_YEAR\n",
      "dtypes: float64(65), int64(41), object(16)\n",
      "memory usage: 286.2+ MB\n"
     ]
    }
   ],
   "source": [
    "train_df.info()"
   ]
  },
  {
   "cell_type": "code",
   "execution_count": 11,
   "id": "a7df65f6",
   "metadata": {
    "scrolled": true
   },
   "outputs": [],
   "source": [
    "#sns.heatmap(train_df.corr())"
   ]
  },
  {
   "cell_type": "code",
   "execution_count": 12,
   "id": "5d6f0a51",
   "metadata": {
    "scrolled": true
   },
   "outputs": [
    {
     "data": {
      "text/plain": [
       "TARGET\n",
       "0         282686\n",
       "1          24825\n",
       "dtype: int64"
      ]
     },
     "execution_count": 12,
     "metadata": {},
     "output_type": "execute_result"
    }
   ],
   "source": [
    "train_df[['TARGET']].value_counts()"
   ]
  },
  {
   "cell_type": "markdown",
   "id": "3e4ecd15",
   "metadata": {},
   "source": [
    "<p> The target looks imbalanced. </p>"
   ]
  },
  {
   "cell_type": "code",
   "execution_count": 13,
   "id": "13748140",
   "metadata": {},
   "outputs": [
    {
     "data": {
      "text/plain": [
       "<AxesSubplot:xlabel='TARGET', ylabel='count'>"
      ]
     },
     "execution_count": 13,
     "metadata": {},
     "output_type": "execute_result"
    },
    {
     "data": {
      "image/png": "[encoded data removed]",
      "text/plain": [
       "<Figure size 432x288 with 1 Axes>"
      ]
     },
     "metadata": {
      "needs_background": "light"
     },
     "output_type": "display_data"
    }
   ],
   "source": [
    "sns.countplot(x='TARGET',data=train_df)"
   ]
  },
  {
   "cell_type": "markdown",
   "id": "3d8db2a7",
   "metadata": {},
   "source": [
    "<hr>"
   ]
  },
  {
   "cell_type": "markdown",
   "id": "59d93f56",
   "metadata": {},
   "source": [
    "# Dealing with NaN Values"
   ]
  },
  {
   "cell_type": "code",
   "execution_count": 14,
   "id": "6a414492",
   "metadata": {},
   "outputs": [
    {
     "data": {
      "text/plain": [
       "SK_ID_CURR                    False\n",
       "TARGET                        False\n",
       "NAME_CONTRACT_TYPE            False\n",
       "CODE_GENDER                   False\n",
       "FLAG_OWN_CAR                  False\n",
       "                              ...  \n",
       "AMT_REQ_CREDIT_BUREAU_DAY      True\n",
       "AMT_REQ_CREDIT_BUREAU_WEEK     True\n",
       "AMT_REQ_CREDIT_BUREAU_MON      True\n",
       "AMT_REQ_CREDIT_BUREAU_QRT      True\n",
       "AMT_REQ_CREDIT_BUREAU_YEAR     True\n",
       "Length: 122, dtype: bool"
      ]
     },
     "execution_count": 14,
     "metadata": {},
     "output_type": "execute_result"
    }
   ],
   "source": [
    "train_df.isna().sum() != 0"
   ]
  },
  {
   "cell_type": "code",
   "execution_count": 15,
   "id": "17e0d83c",
   "metadata": {},
   "outputs": [
    {
     "data": {
      "text/plain": [
       "(122,)"
      ]
     },
     "execution_count": 15,
     "metadata": {},
     "output_type": "execute_result"
    }
   ],
   "source": [
    "# no of columns\n",
    "train_df.columns.shape"
   ]
  },
  {
   "cell_type": "code",
   "execution_count": 16,
   "id": "f7b606ff",
   "metadata": {},
   "outputs": [
    {
     "data": {
      "text/plain": [
       "(67,)"
      ]
     },
     "execution_count": 16,
     "metadata": {},
     "output_type": "execute_result"
    }
   ],
   "source": [
    "# no of columns with nan values\n",
    "train_df.columns[train_df.isna().sum() != 0].shape"
   ]
  },
  {
   "cell_type": "code",
   "execution_count": 17,
   "id": "e7d6040d",
   "metadata": {},
   "outputs": [],
   "source": [
    "cols_with_nan = train_df.columns[train_df.isna().sum() != 0]"
   ]
  },
  {
   "cell_type": "markdown",
   "id": "4965693e",
   "metadata": {},
   "source": [
    "<p>67 Columns have NaN values.</p>"
   ]
  },
  {
   "cell_type": "markdown",
   "id": "b9a4634b",
   "metadata": {},
   "source": [
    "<hr>"
   ]
  },
  {
   "cell_type": "markdown",
   "id": "4446da78",
   "metadata": {},
   "source": [
    "# Dealing with Null values, if any"
   ]
  },
  {
   "cell_type": "code",
   "execution_count": 18,
   "id": "8bd3503a",
   "metadata": {},
   "outputs": [
    {
     "data": {
      "text/plain": [
       "SK_ID_CURR                    False\n",
       "TARGET                        False\n",
       "NAME_CONTRACT_TYPE            False\n",
       "CODE_GENDER                   False\n",
       "FLAG_OWN_CAR                  False\n",
       "                              ...  \n",
       "AMT_REQ_CREDIT_BUREAU_DAY      True\n",
       "AMT_REQ_CREDIT_BUREAU_WEEK     True\n",
       "AMT_REQ_CREDIT_BUREAU_MON      True\n",
       "AMT_REQ_CREDIT_BUREAU_QRT      True\n",
       "AMT_REQ_CREDIT_BUREAU_YEAR     True\n",
       "Length: 122, dtype: bool"
      ]
     },
     "execution_count": 18,
     "metadata": {},
     "output_type": "execute_result"
    }
   ],
   "source": [
    "train_df.isnull().sum() != 0"
   ]
  },
  {
   "cell_type": "code",
   "execution_count": 19,
   "id": "d236c865",
   "metadata": {},
   "outputs": [
    {
     "data": {
      "text/plain": [
       "(67,)"
      ]
     },
     "execution_count": 19,
     "metadata": {},
     "output_type": "execute_result"
    }
   ],
   "source": [
    "train_df.columns[train_df.isnull().sum() != 0].shape"
   ]
  },
  {
   "cell_type": "code",
   "execution_count": 20,
   "id": "dac47a00",
   "metadata": {},
   "outputs": [
    {
     "data": {
      "text/plain": [
       "True"
      ]
     },
     "execution_count": 20,
     "metadata": {},
     "output_type": "execute_result"
    }
   ],
   "source": [
    "all(train_df.columns[train_df.isna().sum() != 0] == train_df.columns[train_df.isnull().sum() != 0])"
   ]
  },
  {
   "cell_type": "markdown",
   "id": "be095c0b",
   "metadata": {},
   "source": [
    "<p>Looks like NaN values and Null values represent same in case of our dataset and there are 67 of them. </p>"
   ]
  },
  {
   "cell_type": "markdown",
   "id": "2a743abe",
   "metadata": {},
   "source": [
    "<hr>"
   ]
  },
  {
   "cell_type": "markdown",
   "id": "e4de1157",
   "metadata": {},
   "source": [
    "# Columns with Null/NaN values with count"
   ]
  },
  {
   "cell_type": "code",
   "execution_count": 21,
   "id": "b0394b1f",
   "metadata": {},
   "outputs": [],
   "source": [
    "# for c in train_df.columns[train_df.isna().sum() != 0]:\n",
    "#     print(c,\" \",train_df[c].isna().sum())"
   ]
  },
  {
   "cell_type": "code",
   "execution_count": 64,
   "id": "862974db",
   "metadata": {},
   "outputs": [
    {
     "name": "stdout",
     "output_type": "stream",
     "text": [
      "COMMONAREA_MEDI 69.87229725115525\n",
      "COMMONAREA_AVG 69.87229725115525\n",
      "COMMONAREA_MODE 69.87229725115525\n",
      "NONLIVINGAPARTMENTS_MEDI 69.43296337366793\n",
      "NONLIVINGAPARTMENTS_MODE 69.43296337366793\n",
      "NONLIVINGAPARTMENTS_AVG 69.43296337366793\n",
      "FONDKAPREMONT_MODE 68.38617155158677\n",
      "LIVINGAPARTMENTS_MODE 68.35495315614726\n",
      "LIVINGAPARTMENTS_MEDI 68.35495315614726\n",
      "LIVINGAPARTMENTS_AVG 68.35495315614726\n",
      "FLOORSMIN_MODE 67.84862980511267\n",
      "FLOORSMIN_MEDI 67.84862980511267\n",
      "FLOORSMIN_AVG 67.84862980511267\n",
      "YEARS_BUILD_MODE 66.49778381911543\n",
      "YEARS_BUILD_MEDI 66.49778381911543\n",
      "YEARS_BUILD_AVG 66.49778381911543\n",
      "OWN_CAR_AGE 65.9908100848425\n",
      "LANDAREA_AVG 59.376737742714894\n",
      "LANDAREA_MEDI 59.376737742714894\n",
      "LANDAREA_MODE 59.376737742714894\n",
      "BASEMENTAREA_MEDI 58.51595552679416\n",
      "BASEMENTAREA_AVG 58.51595552679416\n",
      "BASEMENTAREA_MODE 58.51595552679416\n",
      "EXT_SOURCE_1 56.381072546998325\n",
      "NONLIVINGAREA_MEDI 55.17916432257708\n",
      "NONLIVINGAREA_MODE 55.17916432257708\n",
      "NONLIVINGAREA_AVG 55.17916432257708\n",
      "ELEVATORS_MEDI 53.29597965601231\n",
      "ELEVATORS_MODE 53.29597965601231\n",
      "ELEVATORS_AVG 53.29597965601231\n",
      "WALLSMATERIAL_MODE 50.8407829313423\n",
      "APARTMENTS_MODE 50.74972927797705\n",
      "APARTMENTS_MEDI 50.74972927797705\n",
      "APARTMENTS_AVG 50.74972927797705\n",
      "ENTRANCES_MODE 50.3487680115508\n",
      "ENTRANCES_AVG 50.3487680115508\n",
      "ENTRANCES_MEDI 50.3487680115508\n",
      "LIVINGAREA_MEDI 50.193326417591564\n",
      "LIVINGAREA_MODE 50.193326417591564\n",
      "LIVINGAREA_AVG 50.193326417591564\n",
      "HOUSETYPE_MODE 50.176091261776\n",
      "FLOORSMAX_MEDI 49.76082156410665\n",
      "FLOORSMAX_AVG 49.76082156410665\n",
      "FLOORSMAX_MODE 49.76082156410665\n",
      "YEARS_BEGINEXPLUATATION_AVG 48.781019215572776\n",
      "YEARS_BEGINEXPLUATATION_MEDI 48.781019215572776\n",
      "YEARS_BEGINEXPLUATATION_MODE 48.781019215572776\n",
      "TOTALAREA_MODE 48.26851722377411\n",
      "EMERGENCYSTATE_MODE 47.39830445089769\n",
      "OCCUPATION_TYPE 31.345545362604916\n",
      "EXT_SOURCE_3 19.825307062186393\n",
      "AMT_REQ_CREDIT_BUREAU_WEEK 13.501630835970097\n",
      "AMT_REQ_CREDIT_BUREAU_DAY 13.501630835970097\n",
      "AMT_REQ_CREDIT_BUREAU_MON 13.501630835970097\n",
      "AMT_REQ_CREDIT_BUREAU_QRT 13.501630835970097\n",
      "AMT_REQ_CREDIT_BUREAU_HOUR 13.501630835970097\n",
      "AMT_REQ_CREDIT_BUREAU_YEAR 13.501630835970097\n",
      "NAME_TYPE_SUITE 0.42014757195677555\n",
      "DEF_30_CNT_SOCIAL_CIRCLE 0.3320206431639844\n",
      "OBS_60_CNT_SOCIAL_CIRCLE 0.3320206431639844\n",
      "DEF_60_CNT_SOCIAL_CIRCLE 0.3320206431639844\n",
      "OBS_30_CNT_SOCIAL_CIRCLE 0.3320206431639844\n",
      "EXT_SOURCE_2 0.21462646864665005\n",
      "AMT_GOODS_PRICE 0.09040327012692229\n",
      "AMT_ANNUITY 0.003902299429939092\n",
      "CNT_FAM_MEMBERS 0.0006503832383231819\n",
      "DAYS_LAST_PHONE_CHANGE 0.00032519161916159093\n"
     ]
    }
   ],
   "source": [
    "for col,no_of_nans in train_df[train_df.columns[train_df.isna().sum() != 0]].isna().sum().sort_values(ascending=False).iteritems():\n",
    "    print(col,no_of_nans/train_df.shape[0]*100)\n"
   ]
  },
  {
   "cell_type": "markdown",
   "id": "735a367d",
   "metadata": {},
   "source": [
    "<hr>"
   ]
  },
  {
   "cell_type": "markdown",
   "id": "42cda307",
   "metadata": {},
   "source": [
    "# Columns names with int, float and object"
   ]
  },
  {
   "cell_type": "code",
   "execution_count": 23,
   "id": "ddfef75f",
   "metadata": {},
   "outputs": [
    {
     "name": "stdout",
     "output_type": "stream",
     "text": [
      "<class 'pandas.core.frame.DataFrame'>\n",
      "RangeIndex: 307511 entries, 0 to 307510\n",
      "Columns: 122 entries, SK_ID_CURR to AMT_REQ_CREDIT_BUREAU_YEAR\n",
      "dtypes: float64(65), int64(41), object(16)\n",
      "memory usage: 286.2+ MB\n"
     ]
    }
   ],
   "source": [
    "train_df.info()"
   ]
  },
  {
   "cell_type": "code",
   "execution_count": 24,
   "id": "1859d787",
   "metadata": {},
   "outputs": [
    {
     "data": {
      "text/plain": [
       "(41,)"
      ]
     },
     "execution_count": 24,
     "metadata": {},
     "output_type": "execute_result"
    }
   ],
   "source": [
    "int_cols_name = train_df.columns[train_df.dtypes=='int64']\n",
    "int_cols_name.shape"
   ]
  },
  {
   "cell_type": "code",
   "execution_count": 25,
   "id": "f593d175",
   "metadata": {},
   "outputs": [
    {
     "data": {
      "text/plain": [
       "(65,)"
      ]
     },
     "execution_count": 25,
     "metadata": {},
     "output_type": "execute_result"
    }
   ],
   "source": [
    "float_cols_name = train_df.columns[train_df.dtypes=='float64']\n",
    "float_cols_name.shape"
   ]
  },
  {
   "cell_type": "code",
   "execution_count": 26,
   "id": "909c6a5d",
   "metadata": {},
   "outputs": [
    {
     "data": {
      "text/plain": [
       "(16,)"
      ]
     },
     "execution_count": 26,
     "metadata": {},
     "output_type": "execute_result"
    }
   ],
   "source": [
    "object_cols_name = train_df.columns[train_df.dtypes=='object']\n",
    "object_cols_name.shape"
   ]
  },
  {
   "cell_type": "code",
   "execution_count": 27,
   "id": "7a31ec04",
   "metadata": {},
   "outputs": [],
   "source": [
    "# This loop shows the type of data for every column\n",
    "# for i,j in zip(train_df.columns,train_df.dtypes):\n",
    "#    print(i,j)"
   ]
  },
  {
   "cell_type": "code",
   "execution_count": 28,
   "id": "7cbdf81c",
   "metadata": {},
   "outputs": [],
   "source": [
    "# columns with non numerical data\n",
    "# for i in train_df.dtypes[train_df.dtypes == 'object'].keys():\n",
    "#     print(i)"
   ]
  },
  {
   "cell_type": "markdown",
   "id": "67fba863",
   "metadata": {},
   "source": [
    "<hr>"
   ]
  },
  {
   "cell_type": "markdown",
   "id": "ff45fd74",
   "metadata": {},
   "source": [
    "# Non Numerical columns, values, categories"
   ]
  },
  {
   "cell_type": "code",
   "execution_count": 69,
   "id": "ae09c6b6",
   "metadata": {
    "scrolled": true
   },
   "outputs": [
    {
     "name": "stdout",
     "output_type": "stream",
     "text": [
      "EMERGENCYSTATE_MODE\n",
      "['Cash loans', 'Cash loans', 'Revolving loans', 'Cash loans', 'Cash loans', ..., 'Cash loans', 'Cash loans', 'Cash loans', 'Cash loans', 'Cash loans']\n",
      "Length: 307511\n",
      "Categories (2, object): ['Cash loans', 'Revolving loans']\n",
      "************************************************************\n",
      "\n",
      "\n",
      "\n",
      "EMERGENCYSTATE_MODE\n",
      "['M', 'F', 'M', 'F', 'M', ..., 'M', 'F', 'F', 'F', 'F']\n",
      "Length: 307511\n",
      "Categories (3, object): ['F', 'M', 'XNA']\n",
      "************************************************************\n",
      "\n",
      "\n",
      "\n",
      "EMERGENCYSTATE_MODE\n",
      "['N', 'N', 'Y', 'N', 'N', ..., 'N', 'N', 'N', 'N', 'N']\n",
      "Length: 307511\n",
      "Categories (2, object): ['N', 'Y']\n",
      "************************************************************\n",
      "\n",
      "\n",
      "\n",
      "EMERGENCYSTATE_MODE\n",
      "['Y', 'N', 'Y', 'Y', 'Y', ..., 'N', 'Y', 'Y', 'Y', 'N']\n",
      "Length: 307511\n",
      "Categories (2, object): ['N', 'Y']\n",
      "************************************************************\n",
      "\n",
      "\n",
      "\n",
      "EMERGENCYSTATE_MODE\n",
      "['Unaccompanied', 'Family', 'Unaccompanied', 'Unaccompanied', 'Unaccompanied', ..., 'Unaccompanied', 'Unaccompanied', 'Unaccompanied', 'Unaccompanied', 'Unaccompanied']\n",
      "Length: 307511\n",
      "Categories (7, object): ['Children', 'Family', 'Group of people', 'Other_A', 'Other_B', 'Spouse, partner', 'Unaccompanied']\n",
      "************************************************************\n",
      "\n",
      "\n",
      "\n",
      "EMERGENCYSTATE_MODE\n",
      "['Working', 'State servant', 'Working', 'Working', 'Working', ..., 'Working', 'Pensioner', 'Working', 'Commercial associate', 'Commercial associate']\n",
      "Length: 307511\n",
      "Categories (8, object): ['Businessman', 'Commercial associate', 'Maternity leave', 'Pensioner', 'State servant', 'Student', 'Unemployed', 'Working']\n",
      "************************************************************\n",
      "\n",
      "\n",
      "\n",
      "EMERGENCYSTATE_MODE\n",
      "['Secondary / secondary special', 'Higher education', 'Secondary / secondary special', 'Secondary / secondary special', 'Secondary / secondary special', ..., 'Secondary / secondary special', 'Secondary / secondary special', 'Higher education', 'Secondary / secondary special', 'Higher education']\n",
      "Length: 307511\n",
      "Categories (5, object): ['Academic degree', 'Higher education', 'Incomplete higher', 'Lower secondary', 'Secondary / secondary special']\n",
      "************************************************************\n",
      "\n",
      "\n",
      "\n",
      "EMERGENCYSTATE_MODE\n",
      "['Single / not married', 'Married', 'Single / not married', 'Civil marriage', 'Single / not married', ..., 'Separated', 'Widow', 'Separated', 'Married', 'Married']\n",
      "Length: 307511\n",
      "Categories (6, object): ['Civil marriage', 'Married', 'Separated', 'Single / not married', 'Unknown', 'Widow']\n",
      "************************************************************\n",
      "\n",
      "\n",
      "\n",
      "EMERGENCYSTATE_MODE\n",
      "['House / apartment', 'House / apartment', 'House / apartment', 'House / apartment', 'House / apartment', ..., 'With parents', 'House / apartment', 'House / apartment', 'House / apartment', 'House / apartment']\n",
      "Length: 307511\n",
      "Categories (6, object): ['Co-op apartment', 'House / apartment', 'Municipal apartment', 'Office apartment', 'Rented apartment', 'With parents']\n",
      "************************************************************\n",
      "\n",
      "\n",
      "\n",
      "EMERGENCYSTATE_MODE\n",
      "['Laborers', 'Core staff', 'Laborers', 'Laborers', 'Core staff', ..., 'Sales staff', NaN, 'Managers', 'Laborers', 'Laborers']\n",
      "Length: 307511\n",
      "Categories (18, object): ['Accountants', 'Cleaning staff', 'Cooking staff', 'Core staff', ..., 'Sales staff', 'Secretaries', 'Security staff', 'Waiters/barmen staff']\n",
      "************************************************************\n",
      "\n",
      "\n",
      "\n",
      "EMERGENCYSTATE_MODE\n",
      "['WEDNESDAY', 'MONDAY', 'MONDAY', 'WEDNESDAY', 'THURSDAY', ..., 'THURSDAY', 'MONDAY', 'THURSDAY', 'WEDNESDAY', 'THURSDAY']\n",
      "Length: 307511\n",
      "Categories (7, object): ['FRIDAY', 'MONDAY', 'SATURDAY', 'SUNDAY', 'THURSDAY', 'TUESDAY', 'WEDNESDAY']\n",
      "************************************************************\n",
      "\n",
      "\n",
      "\n",
      "EMERGENCYSTATE_MODE\n",
      "['Business Entity Type 3', 'School', 'Government', 'Business Entity Type 3', 'Religion', ..., 'Services', 'XNA', 'School', 'Business Entity Type 1', 'Business Entity Type 3']\n",
      "Length: 307511\n",
      "Categories (58, object): ['Advertising', 'Agriculture', 'Bank', 'Business Entity Type 1', ..., 'Transport: type 3', 'Transport: type 4', 'University', 'XNA']\n",
      "************************************************************\n",
      "\n",
      "\n",
      "\n",
      "EMERGENCYSTATE_MODE\n",
      "['reg oper account', 'reg oper account', NaN, NaN, NaN, ..., 'reg oper account', 'reg oper account', 'reg oper account', NaN, NaN]\n",
      "Length: 307511\n",
      "Categories (4, object): ['not specified', 'org spec account', 'reg oper account', 'reg oper spec account']\n",
      "************************************************************\n",
      "\n",
      "\n",
      "\n",
      "EMERGENCYSTATE_MODE\n",
      "['block of flats', 'block of flats', NaN, NaN, NaN, ..., 'block of flats', 'block of flats', 'block of flats', 'block of flats', 'block of flats']\n",
      "Length: 307511\n",
      "Categories (3, object): ['block of flats', 'specific housing', 'terraced house']\n",
      "************************************************************\n",
      "\n",
      "\n",
      "\n",
      "EMERGENCYSTATE_MODE\n",
      "['Stone, brick', 'Block', NaN, NaN, NaN, ..., 'Stone, brick', 'Stone, brick', 'Panel', 'Stone, brick', 'Panel']\n",
      "Length: 307511\n",
      "Categories (7, object): ['Block', 'Mixed', 'Monolithic', 'Others', 'Panel', 'Stone, brick', 'Wooden']\n",
      "************************************************************\n",
      "\n",
      "\n",
      "\n",
      "EMERGENCYSTATE_MODE\n",
      "['No', 'No', NaN, NaN, NaN, ..., 'No', 'No', 'No', 'No', 'No']\n",
      "Length: 307511\n",
      "Categories (2, object): ['No', 'Yes']\n",
      "************************************************************\n",
      "\n",
      "\n",
      "\n"
     ]
    }
   ],
   "source": [
    "for i in train_df.dtypes[train_df.dtypes == 'object'].keys():\n",
    "#     print(\"-\"*20,i,\"-\"*20)\n",
    "    print(c)\n",
    "    print(pd.Categorical(train_df[i]))\n",
    "    print(\"*\"*60)\n",
    "    print(\"\\n\\n\")"
   ]
  },
  {
   "cell_type": "markdown",
   "id": "442863ce",
   "metadata": {},
   "source": [
    "<hr>"
   ]
  },
  {
   "cell_type": "markdown",
   "id": "c46f18c8",
   "metadata": {},
   "source": [
    "# Non Numerical Columns having NaN"
   ]
  },
  {
   "cell_type": "code",
   "execution_count": 30,
   "id": "e1e5a00e",
   "metadata": {},
   "outputs": [
    {
     "data": {
      "text/plain": [
       "(16,)"
      ]
     },
     "execution_count": 30,
     "metadata": {},
     "output_type": "execute_result"
    }
   ],
   "source": [
    "train_df.dtypes[train_df.dtypes == 'object'].shape"
   ]
  },
  {
   "cell_type": "code",
   "execution_count": 31,
   "id": "0fec7b47",
   "metadata": {},
   "outputs": [
    {
     "data": {
      "text/plain": [
       "NAME_CONTRACT_TYPE                 0\n",
       "CODE_GENDER                        0\n",
       "FLAG_OWN_CAR                       0\n",
       "FLAG_OWN_REALTY                    0\n",
       "NAME_TYPE_SUITE                 1292\n",
       "NAME_INCOME_TYPE                   0\n",
       "NAME_EDUCATION_TYPE                0\n",
       "NAME_FAMILY_STATUS                 0\n",
       "NAME_HOUSING_TYPE                  0\n",
       "OCCUPATION_TYPE                96391\n",
       "WEEKDAY_APPR_PROCESS_START         0\n",
       "ORGANIZATION_TYPE                  0\n",
       "FONDKAPREMONT_MODE            210295\n",
       "HOUSETYPE_MODE                154297\n",
       "WALLSMATERIAL_MODE            156341\n",
       "EMERGENCYSTATE_MODE           145755\n",
       "dtype: int64"
      ]
     },
     "execution_count": 31,
     "metadata": {},
     "output_type": "execute_result"
    }
   ],
   "source": [
    "train_df[train_df.columns[train_df.dtypes == 'object']].isna().sum()"
   ]
  },
  {
   "cell_type": "code",
   "execution_count": 32,
   "id": "430f6844",
   "metadata": {},
   "outputs": [],
   "source": [
    "object_cols_name_with_nan = train_df.columns[train_df.dtypes == 'object'][train_df[train_df.columns[train_df.dtypes == 'object']].isna().sum() != 0]"
   ]
  },
  {
   "cell_type": "code",
   "execution_count": 65,
   "id": "6aa09f97",
   "metadata": {},
   "outputs": [
    {
     "data": {
      "text/plain": [
       "(6,)"
      ]
     },
     "execution_count": 65,
     "metadata": {},
     "output_type": "execute_result"
    }
   ],
   "source": [
    "object_cols_name_with_nan.shape"
   ]
  },
  {
   "cell_type": "markdown",
   "id": "177b98db",
   "metadata": {},
   "source": [
    "<p>6 Non Numerical Columns have NaN values.</p>"
   ]
  },
  {
   "cell_type": "code",
   "execution_count": 67,
   "id": "620fa6fc",
   "metadata": {},
   "outputs": [
    {
     "name": "stdout",
     "output_type": "stream",
     "text": [
      "NAME_TYPE_SUITE 0.42014757195677555\n",
      "OCCUPATION_TYPE 31.345545362604916\n",
      "FONDKAPREMONT_MODE 68.38617155158677\n",
      "HOUSETYPE_MODE 50.176091261776\n",
      "WALLSMATERIAL_MODE 50.8407829313423\n",
      "EMERGENCYSTATE_MODE 47.39830445089769\n"
     ]
    }
   ],
   "source": [
    "for c in object_cols_name_with_nan:\n",
    "    print(c,train_df[c].isna().sum()/train_df.shape[0]*100)"
   ]
  },
  {
   "cell_type": "markdown",
   "id": "66e9a2ac",
   "metadata": {},
   "source": [
    "<hr>"
   ]
  },
  {
   "cell_type": "code",
   "execution_count": 34,
   "id": "5a73808e",
   "metadata": {},
   "outputs": [],
   "source": [
    "# train_df.columns[train_df.dtypes != 'object']"
   ]
  },
  {
   "cell_type": "code",
   "execution_count": 35,
   "id": "18028b3d",
   "metadata": {},
   "outputs": [],
   "source": [
    "# plt.figure(figsize=(10,10))\n",
    "# for i in train_df.columns[train_df.dtypes != 'object']:\n",
    "#     sns.histplot(train_df[i])\n",
    "#     plt.show()\n",
    "    "
   ]
  },
  {
   "cell_type": "code",
   "execution_count": 36,
   "id": "45f6077f",
   "metadata": {},
   "outputs": [],
   "source": [
    "# train_df[train_df.columns[train_df.isna().sum() != 0]].isna().sum().max()"
   ]
  },
  {
   "cell_type": "code",
   "execution_count": 37,
   "id": "05f3a6f9",
   "metadata": {},
   "outputs": [],
   "source": [
    "# train_df.shape"
   ]
  },
  {
   "cell_type": "markdown",
   "id": "d24c1138",
   "metadata": {},
   "source": [
    "<hr>"
   ]
  },
  {
   "cell_type": "code",
   "execution_count": 38,
   "id": "ac5b31ed",
   "metadata": {
    "scrolled": false
   },
   "outputs": [
    {
     "name": "stdout",
     "output_type": "stream",
     "text": [
      "SK_ID_CURR\n",
      "[100002, 100003, 100004, 100006, 100007, ..., 456251, 456252, 456253, 456254, 456255]\n",
      "Length: 307511\n",
      "Categories (307511, int64): [100002, 100003, 100004, 100006, ..., 456252, 456253, 456254, 456255]\n",
      "************************************************************\n",
      "\n",
      "\n",
      "\n",
      "TARGET\n",
      "[1, 0, 0, 0, 0, ..., 0, 0, 0, 1, 0]\n",
      "Length: 307511\n",
      "Categories (2, int64): [0, 1]\n",
      "************************************************************\n",
      "\n",
      "\n",
      "\n",
      "CNT_CHILDREN\n",
      "[0, 0, 0, 0, 0, ..., 0, 0, 0, 0, 0]\n",
      "Length: 307511\n",
      "Categories (15, int64): [0, 1, 2, 3, ..., 11, 12, 14, 19]\n",
      "************************************************************\n",
      "\n",
      "\n",
      "\n",
      "DAYS_BIRTH\n",
      "[-9461, -16765, -19046, -19005, -19932, ..., -9327, -20775, -14966, -11961, -16856]\n",
      "Length: 307511\n",
      "Categories (17460, int64): [-25229, -25201, -25200, -25197, ..., -7678, -7676, -7673, -7489]\n",
      "************************************************************\n",
      "\n",
      "\n",
      "\n",
      "DAYS_EMPLOYED\n",
      "[-637, -1188, -225, -3039, -3038, ..., -236, 365243, -7921, -4786, -1262]\n",
      "Length: 307511\n",
      "Categories (12574, int64): [-17912, -17583, -17546, -17531, ..., -2, -1, 0, 365243]\n",
      "************************************************************\n",
      "\n",
      "\n",
      "\n",
      "DAYS_ID_PUBLISH\n",
      "[-2120, -291, -2531, -2437, -3458, ..., -1982, -4090, -5150, -931, -410]\n",
      "Length: 307511\n",
      "Categories (6168, int64): [-7197, -6551, -6383, -6337, ..., -3, -2, -1, 0]\n",
      "************************************************************\n",
      "\n",
      "\n",
      "\n",
      "FLAG_MOBIL\n",
      "[1, 1, 1, 1, 1, ..., 1, 1, 1, 1, 1]\n",
      "Length: 307511\n",
      "Categories (2, int64): [0, 1]\n",
      "************************************************************\n",
      "\n",
      "\n",
      "\n",
      "FLAG_EMP_PHONE\n",
      "[1, 1, 1, 1, 1, ..., 1, 0, 1, 1, 1]\n",
      "Length: 307511\n",
      "Categories (2, int64): [0, 1]\n",
      "************************************************************\n",
      "\n",
      "\n",
      "\n",
      "FLAG_WORK_PHONE\n",
      "[0, 0, 1, 0, 0, ..., 0, 0, 0, 0, 1]\n",
      "Length: 307511\n",
      "Categories (2, int64): [0, 1]\n",
      "************************************************************\n",
      "\n",
      "\n",
      "\n",
      "FLAG_CONT_MOBILE\n",
      "[1, 1, 1, 1, 1, ..., 1, 1, 1, 1, 1]\n",
      "Length: 307511\n",
      "Categories (2, int64): [0, 1]\n",
      "************************************************************\n",
      "\n",
      "\n",
      "\n",
      "FLAG_PHONE\n",
      "[1, 1, 1, 0, 0, ..., 0, 1, 0, 0, 1]\n",
      "Length: 307511\n",
      "Categories (2, int64): [0, 1]\n",
      "************************************************************\n",
      "\n",
      "\n",
      "\n",
      "FLAG_EMAIL\n",
      "[0, 0, 0, 0, 0, ..., 0, 0, 1, 0, 0]\n",
      "Length: 307511\n",
      "Categories (2, int64): [0, 1]\n",
      "************************************************************\n",
      "\n",
      "\n",
      "\n",
      "REGION_RATING_CLIENT\n",
      "[2, 1, 2, 2, 2, ..., 1, 2, 3, 2, 1]\n",
      "Length: 307511\n",
      "Categories (3, int64): [1, 2, 3]\n",
      "************************************************************\n",
      "\n",
      "\n",
      "\n",
      "REGION_RATING_CLIENT_W_CITY\n",
      "[2, 1, 2, 2, 2, ..., 1, 2, 3, 2, 1]\n",
      "Length: 307511\n",
      "Categories (3, int64): [1, 2, 3]\n",
      "************************************************************\n",
      "\n",
      "\n",
      "\n",
      "HOUR_APPR_PROCESS_START\n",
      "[10, 11, 9, 17, 11, ..., 15, 8, 9, 9, 20]\n",
      "Length: 307511\n",
      "Categories (24, int64): [0, 1, 2, 3, ..., 20, 21, 22, 23]\n",
      "************************************************************\n",
      "\n",
      "\n",
      "\n",
      "REG_REGION_NOT_LIVE_REGION\n",
      "[0, 0, 0, 0, 0, ..., 0, 0, 0, 0, 0]\n",
      "Length: 307511\n",
      "Categories (2, int64): [0, 1]\n",
      "************************************************************\n",
      "\n",
      "\n",
      "\n",
      "REG_REGION_NOT_WORK_REGION\n",
      "[0, 0, 0, 0, 0, ..., 0, 0, 0, 0, 0]\n",
      "Length: 307511\n",
      "Categories (2, int64): [0, 1]\n",
      "************************************************************\n",
      "\n",
      "\n",
      "\n",
      "LIVE_REGION_NOT_WORK_REGION\n",
      "[0, 0, 0, 0, 0, ..., 0, 0, 0, 0, 0]\n",
      "Length: 307511\n",
      "Categories (2, int64): [0, 1]\n",
      "************************************************************\n",
      "\n",
      "\n",
      "\n",
      "REG_CITY_NOT_LIVE_CITY\n",
      "[0, 0, 0, 0, 0, ..., 0, 0, 0, 1, 0]\n",
      "Length: 307511\n",
      "Categories (2, int64): [0, 1]\n",
      "************************************************************\n",
      "\n",
      "\n",
      "\n",
      "REG_CITY_NOT_WORK_CITY\n",
      "[0, 0, 0, 0, 1, ..., 0, 0, 1, 1, 1]\n",
      "Length: 307511\n",
      "Categories (2, int64): [0, 1]\n",
      "************************************************************\n",
      "\n",
      "\n",
      "\n",
      "LIVE_CITY_NOT_WORK_CITY\n",
      "[0, 0, 0, 0, 1, ..., 0, 0, 1, 0, 1]\n",
      "Length: 307511\n",
      "Categories (2, int64): [0, 1]\n",
      "************************************************************\n",
      "\n",
      "\n",
      "\n",
      "FLAG_DOCUMENT_2\n",
      "[0, 0, 0, 0, 0, ..., 0, 0, 0, 0, 0]\n",
      "Length: 307511\n",
      "Categories (2, int64): [0, 1]\n",
      "************************************************************\n",
      "\n",
      "\n",
      "\n",
      "FLAG_DOCUMENT_3\n",
      "[1, 1, 0, 1, 0, ..., 0, 1, 1, 1, 1]\n",
      "Length: 307511\n",
      "Categories (2, int64): [0, 1]\n",
      "************************************************************\n",
      "\n",
      "\n",
      "\n",
      "FLAG_DOCUMENT_4\n",
      "[0, 0, 0, 0, 0, ..., 0, 0, 0, 0, 0]\n",
      "Length: 307511\n",
      "Categories (2, int64): [0, 1]\n",
      "************************************************************\n",
      "\n",
      "\n",
      "\n",
      "FLAG_DOCUMENT_5\n",
      "[0, 0, 0, 0, 0, ..., 0, 0, 0, 0, 0]\n",
      "Length: 307511\n",
      "Categories (2, int64): [0, 1]\n",
      "************************************************************\n",
      "\n",
      "\n",
      "\n",
      "FLAG_DOCUMENT_6\n",
      "[0, 0, 0, 0, 0, ..., 0, 0, 0, 0, 0]\n",
      "Length: 307511\n",
      "Categories (2, int64): [0, 1]\n",
      "************************************************************\n",
      "\n",
      "\n",
      "\n",
      "FLAG_DOCUMENT_7\n",
      "[0, 0, 0, 0, 0, ..., 0, 0, 0, 0, 0]\n",
      "Length: 307511\n",
      "Categories (2, int64): [0, 1]\n",
      "************************************************************\n",
      "\n",
      "\n",
      "\n",
      "FLAG_DOCUMENT_8\n",
      "[0, 0, 0, 0, 1, ..., 1, 0, 0, 0, 0]\n",
      "Length: 307511\n",
      "Categories (2, int64): [0, 1]\n",
      "************************************************************\n",
      "\n",
      "\n",
      "\n",
      "FLAG_DOCUMENT_9\n",
      "[0, 0, 0, 0, 0, ..., 0, 0, 0, 0, 0]\n",
      "Length: 307511\n",
      "Categories (2, int64): [0, 1]\n",
      "************************************************************\n",
      "\n",
      "\n",
      "\n",
      "FLAG_DOCUMENT_10\n",
      "[0, 0, 0, 0, 0, ..., 0, 0, 0, 0, 0]\n",
      "Length: 307511\n",
      "Categories (2, int64): [0, 1]\n",
      "************************************************************\n",
      "\n",
      "\n",
      "\n",
      "FLAG_DOCUMENT_11\n",
      "[0, 0, 0, 0, 0, ..., 0, 0, 0, 0, 0]\n",
      "Length: 307511\n",
      "Categories (2, int64): [0, 1]\n",
      "************************************************************\n",
      "\n",
      "\n",
      "\n",
      "FLAG_DOCUMENT_12\n",
      "[0, 0, 0, 0, 0, ..., 0, 0, 0, 0, 0]\n",
      "Length: 307511\n",
      "Categories (2, int64): [0, 1]\n",
      "************************************************************\n",
      "\n",
      "\n",
      "\n",
      "FLAG_DOCUMENT_13\n",
      "[0, 0, 0, 0, 0, ..., 0, 0, 0, 0, 0]\n",
      "Length: 307511\n",
      "Categories (2, int64): [0, 1]\n",
      "************************************************************\n",
      "\n",
      "\n",
      "\n",
      "FLAG_DOCUMENT_14\n",
      "[0, 0, 0, 0, 0, ..., 0, 0, 0, 0, 0]\n",
      "Length: 307511\n",
      "Categories (2, int64): [0, 1]\n",
      "************************************************************\n",
      "\n",
      "\n",
      "\n",
      "FLAG_DOCUMENT_15\n",
      "[0, 0, 0, 0, 0, ..., 0, 0, 0, 0, 0]\n",
      "Length: 307511\n",
      "Categories (2, int64): [0, 1]\n",
      "************************************************************\n",
      "\n",
      "\n",
      "\n",
      "FLAG_DOCUMENT_16\n",
      "[0, 0, 0, 0, 0, ..., 0, 0, 0, 0, 0]\n",
      "Length: 307511\n",
      "Categories (2, int64): [0, 1]\n",
      "************************************************************\n",
      "\n",
      "\n",
      "\n",
      "FLAG_DOCUMENT_17\n",
      "[0, 0, 0, 0, 0, ..., 0, 0, 0, 0, 0]\n",
      "Length: 307511\n",
      "Categories (2, int64): [0, 1]\n",
      "************************************************************\n",
      "\n",
      "\n",
      "\n",
      "FLAG_DOCUMENT_18\n",
      "[0, 0, 0, 0, 0, ..., 0, 0, 0, 0, 0]\n",
      "Length: 307511\n",
      "Categories (2, int64): [0, 1]\n",
      "************************************************************\n",
      "\n",
      "\n",
      "\n",
      "FLAG_DOCUMENT_19\n",
      "[0, 0, 0, 0, 0, ..., 0, 0, 0, 0, 0]\n",
      "Length: 307511\n",
      "Categories (2, int64): [0, 1]\n",
      "************************************************************\n",
      "\n",
      "\n",
      "\n",
      "FLAG_DOCUMENT_20\n",
      "[0, 0, 0, 0, 0, ..., 0, 0, 0, 0, 0]\n",
      "Length: 307511\n",
      "Categories (2, int64): [0, 1]\n",
      "************************************************************\n",
      "\n",
      "\n",
      "\n",
      "FLAG_DOCUMENT_21\n",
      "[0, 0, 0, 0, 0, ..., 0, 0, 0, 0, 0]\n",
      "Length: 307511\n",
      "Categories (2, int64): [0, 1]\n",
      "************************************************************\n",
      "\n",
      "\n",
      "\n"
     ]
    }
   ],
   "source": [
    "for c in int_cols_name:\n",
    "    print(c)\n",
    "    print(pd.Categorical(train_df[c]))\n",
    "    print(\"*\"*60)\n",
    "    print(\"\\n\\n\")"
   ]
  },
  {
   "cell_type": "markdown",
   "id": "46c705d9",
   "metadata": {},
   "source": [
    "<p>Looks like most of the integer columns are discrete.</p>"
   ]
  },
  {
   "cell_type": "code",
   "execution_count": 39,
   "id": "50f366f9",
   "metadata": {},
   "outputs": [],
   "source": [
    "cols_for_hist='SK_ID_CURR','DAYS_BIRTH','DAYS_EMPLOYED','DAYS_ID_PUBLISH'"
   ]
  },
  {
   "cell_type": "code",
   "execution_count": 80,
   "id": "18010cf5",
   "metadata": {},
   "outputs": [
    {
     "data": {
      "image/png": "[encoded data removed]",
      "text/plain": [
       "<Figure size 2160x2160 with 4 Axes>"
      ]
     },
     "metadata": {
      "needs_background": "light"
     },
     "output_type": "display_data"
    }
   ],
   "source": [
    "plt.figure(figsize=(30,30))\n",
    "for i,j in enumerate(cols_for_hist):\n",
    "    plt.subplot(2,2,i+1)\n",
    "    sns.histplot(train_df[j],bins=100)\n",
    "#     plt.hist(train_df[j])\n",
    "plt.show()"
   ]
  },
  {
   "cell_type": "code",
   "execution_count": 41,
   "id": "c6ab1ce7",
   "metadata": {},
   "outputs": [
    {
     "data": {
      "image/png": "[encoded data removed]",
      "text/plain": [
       "<Figure size 1440x1440 with 4 Axes>"
      ]
     },
     "metadata": {
      "needs_background": "light"
     },
     "output_type": "display_data"
    }
   ],
   "source": [
    "plt.figure(figsize=(20,20))\n",
    "for i,j in enumerate(cols_for_hist):\n",
    "    plt.subplot(2,2,i+1)\n",
    "    sns.kdeplot(train_df[j])\n",
    "#     plt.hist(train_df[j])\n",
    "plt.show()"
   ]
  },
  {
   "cell_type": "code",
   "execution_count": 70,
   "id": "4e589c8c",
   "metadata": {},
   "outputs": [],
   "source": [
    "# float_cols_name.shape"
   ]
  },
  {
   "cell_type": "code",
   "execution_count": 71,
   "id": "f64ae5a5",
   "metadata": {},
   "outputs": [],
   "source": [
    "# for i,j in enumerate(float_cols_name):\n",
    "#     plt.figure(figsize=(10,10))\n",
    "#     plt.subplot(33,2,i+1)\n",
    "#     sns.kdeplot(train_df[j])\n",
    "# plt.show() "
   ]
  },
  {
   "cell_type": "code",
   "execution_count": 76,
   "id": "ed7fa665",
   "metadata": {},
   "outputs": [
    {
     "data": {
      "text/plain": [
       "SK_ID_CURR                     0\n",
       "TARGET                         0\n",
       "CNT_CHILDREN                   0\n",
       "DAYS_BIRTH                     0\n",
       "DAYS_EMPLOYED                  0\n",
       "DAYS_ID_PUBLISH                0\n",
       "FLAG_MOBIL                     0\n",
       "FLAG_EMP_PHONE                 0\n",
       "FLAG_WORK_PHONE                0\n",
       "FLAG_CONT_MOBILE               0\n",
       "FLAG_PHONE                     0\n",
       "FLAG_EMAIL                     0\n",
       "REGION_RATING_CLIENT           0\n",
       "REGION_RATING_CLIENT_W_CITY    0\n",
       "HOUR_APPR_PROCESS_START        0\n",
       "REG_REGION_NOT_LIVE_REGION     0\n",
       "REG_REGION_NOT_WORK_REGION     0\n",
       "LIVE_REGION_NOT_WORK_REGION    0\n",
       "REG_CITY_NOT_LIVE_CITY         0\n",
       "REG_CITY_NOT_WORK_CITY         0\n",
       "LIVE_CITY_NOT_WORK_CITY        0\n",
       "FLAG_DOCUMENT_2                0\n",
       "FLAG_DOCUMENT_3                0\n",
       "FLAG_DOCUMENT_4                0\n",
       "FLAG_DOCUMENT_5                0\n",
       "FLAG_DOCUMENT_6                0\n",
       "FLAG_DOCUMENT_7                0\n",
       "FLAG_DOCUMENT_8                0\n",
       "FLAG_DOCUMENT_9                0\n",
       "FLAG_DOCUMENT_10               0\n",
       "FLAG_DOCUMENT_11               0\n",
       "FLAG_DOCUMENT_12               0\n",
       "FLAG_DOCUMENT_13               0\n",
       "FLAG_DOCUMENT_14               0\n",
       "FLAG_DOCUMENT_15               0\n",
       "FLAG_DOCUMENT_16               0\n",
       "FLAG_DOCUMENT_17               0\n",
       "FLAG_DOCUMENT_18               0\n",
       "FLAG_DOCUMENT_19               0\n",
       "FLAG_DOCUMENT_20               0\n",
       "FLAG_DOCUMENT_21               0\n",
       "dtype: int64"
      ]
     },
     "execution_count": 76,
     "metadata": {},
     "output_type": "execute_result"
    }
   ],
   "source": [
    "train_df[train_df.columns[train_df.dtypes == 'int64']].isna().sum()"
   ]
  },
  {
   "cell_type": "markdown",
   "id": "e1f4d960",
   "metadata": {},
   "source": [
    "<p>Looks like none of the int columns are NaN</p>"
   ]
  },
  {
   "cell_type": "code",
   "execution_count": 77,
   "id": "aeed1e46",
   "metadata": {},
   "outputs": [
    {
     "data": {
      "text/plain": [
       "AMT_INCOME_TOTAL                  0\n",
       "AMT_CREDIT                        0\n",
       "AMT_ANNUITY                      12\n",
       "AMT_GOODS_PRICE                 278\n",
       "REGION_POPULATION_RELATIVE        0\n",
       "                              ...  \n",
       "AMT_REQ_CREDIT_BUREAU_DAY     41519\n",
       "AMT_REQ_CREDIT_BUREAU_WEEK    41519\n",
       "AMT_REQ_CREDIT_BUREAU_MON     41519\n",
       "AMT_REQ_CREDIT_BUREAU_QRT     41519\n",
       "AMT_REQ_CREDIT_BUREAU_YEAR    41519\n",
       "Length: 65, dtype: int64"
      ]
     },
     "execution_count": 77,
     "metadata": {},
     "output_type": "execute_result"
    }
   ],
   "source": [
    "train_df[train_df.columns[train_df.dtypes == 'float64']].isna().sum()"
   ]
  },
  {
   "cell_type": "code",
   "execution_count": 78,
   "id": "ece3acfc",
   "metadata": {},
   "outputs": [
    {
     "name": "stdout",
     "output_type": "stream",
     "text": [
      "Index(['AMT_INCOME_TOTAL', 'AMT_CREDIT', 'AMT_ANNUITY', 'AMT_GOODS_PRICE',\n",
      "       'REGION_POPULATION_RELATIVE', 'DAYS_REGISTRATION', 'OWN_CAR_AGE',\n",
      "       'CNT_FAM_MEMBERS', 'EXT_SOURCE_1', 'EXT_SOURCE_2', 'EXT_SOURCE_3',\n",
      "       'APARTMENTS_AVG', 'BASEMENTAREA_AVG', 'YEARS_BEGINEXPLUATATION_AVG',\n",
      "       'YEARS_BUILD_AVG', 'COMMONAREA_AVG', 'ELEVATORS_AVG', 'ENTRANCES_AVG',\n",
      "       'FLOORSMAX_AVG', 'FLOORSMIN_AVG', 'LANDAREA_AVG',\n",
      "       'LIVINGAPARTMENTS_AVG', 'LIVINGAREA_AVG', 'NONLIVINGAPARTMENTS_AVG',\n",
      "       'NONLIVINGAREA_AVG', 'APARTMENTS_MODE', 'BASEMENTAREA_MODE',\n",
      "       'YEARS_BEGINEXPLUATATION_MODE', 'YEARS_BUILD_MODE', 'COMMONAREA_MODE',\n",
      "       'ELEVATORS_MODE', 'ENTRANCES_MODE', 'FLOORSMAX_MODE', 'FLOORSMIN_MODE',\n",
      "       'LANDAREA_MODE', 'LIVINGAPARTMENTS_MODE', 'LIVINGAREA_MODE',\n",
      "       'NONLIVINGAPARTMENTS_MODE', 'NONLIVINGAREA_MODE', 'APARTMENTS_MEDI',\n",
      "       'BASEMENTAREA_MEDI', 'YEARS_BEGINEXPLUATATION_MEDI', 'YEARS_BUILD_MEDI',\n",
      "       'COMMONAREA_MEDI', 'ELEVATORS_MEDI', 'ENTRANCES_MEDI', 'FLOORSMAX_MEDI',\n",
      "       'FLOORSMIN_MEDI', 'LANDAREA_MEDI', 'LIVINGAPARTMENTS_MEDI',\n",
      "       'LIVINGAREA_MEDI', 'NONLIVINGAPARTMENTS_MEDI', 'NONLIVINGAREA_MEDI',\n",
      "       'TOTALAREA_MODE', 'OBS_30_CNT_SOCIAL_CIRCLE',\n",
      "       'DEF_30_CNT_SOCIAL_CIRCLE', 'OBS_60_CNT_SOCIAL_CIRCLE',\n",
      "       'DEF_60_CNT_SOCIAL_CIRCLE', 'DAYS_LAST_PHONE_CHANGE',\n",
      "       'AMT_REQ_CREDIT_BUREAU_HOUR', 'AMT_REQ_CREDIT_BUREAU_DAY',\n",
      "       'AMT_REQ_CREDIT_BUREAU_WEEK', 'AMT_REQ_CREDIT_BUREAU_MON',\n",
      "       'AMT_REQ_CREDIT_BUREAU_QRT', 'AMT_REQ_CREDIT_BUREAU_YEAR'],\n",
      "      dtype='object')\n"
     ]
    }
   ],
   "source": [
    "print(float_cols_name)"
   ]
  },
  {
   "cell_type": "code",
   "execution_count": null,
   "id": "c4c753b1",
   "metadata": {},
   "outputs": [],
   "source": []
  },
  {
   "cell_type": "code",
   "execution_count": null,
   "id": "c55a4ad0",
   "metadata": {},
   "outputs": [],
   "source": []
  },
  {
   "cell_type": "code",
   "execution_count": null,
   "id": "f86f79ed",
   "metadata": {},
   "outputs": [],
   "source": []
  },
  {
   "cell_type": "code",
   "execution_count": null,
   "id": "eaac7592",
   "metadata": {},
   "outputs": [],
   "source": []
  },
  {
   "cell_type": "code",
   "execution_count": null,
   "id": "8d87f535",
   "metadata": {},
   "outputs": [],
   "source": []
  },
  {
   "cell_type": "code",
   "execution_count": null,
   "id": "5bc49d65",
   "metadata": {},
   "outputs": [],
   "source": []
  },
  {
   "cell_type": "code",
   "execution_count": null,
   "id": "643506c8",
   "metadata": {},
   "outputs": [],
   "source": []
  },
  {
   "cell_type": "code",
   "execution_count": null,
   "id": "f165b35a",
   "metadata": {},
   "outputs": [],
   "source": []
  },
  {
   "cell_type": "code",
   "execution_count": null,
   "id": "075fe5ec",
   "metadata": {},
   "outputs": [],
   "source": []
  },
  {
   "cell_type": "code",
   "execution_count": null,
   "id": "776c5d05",
   "metadata": {},
   "outputs": [],
   "source": []
  },
  {
   "cell_type": "code",
   "execution_count": null,
   "id": "2ec9a625",
   "metadata": {},
   "outputs": [],
   "source": []
  },
  {
   "cell_type": "code",
   "execution_count": null,
   "id": "04cde548",
   "metadata": {},
   "outputs": [],
   "source": []
  },
  {
   "cell_type": "code",
   "execution_count": null,
   "id": "f8a52cee",
   "metadata": {},
   "outputs": [],
   "source": []
  },
  {
   "cell_type": "code",
   "execution_count": null,
   "id": "1efdd908",
   "metadata": {},
   "outputs": [],
   "source": []
  },
  {
   "cell_type": "code",
   "execution_count": null,
   "id": "41ef9f96",
   "metadata": {},
   "outputs": [],
   "source": []
  },
  {
   "cell_type": "code",
   "execution_count": null,
   "id": "11b71d4f",
   "metadata": {},
   "outputs": [],
   "source": []
  },
  {
   "cell_type": "code",
   "execution_count": null,
   "id": "5d51de50",
   "metadata": {},
   "outputs": [],
   "source": []
  },
  {
   "cell_type": "code",
   "execution_count": null,
   "id": "a469c1e9",
   "metadata": {},
   "outputs": [],
   "source": []
  },
  {
   "cell_type": "code",
   "execution_count": null,
   "id": "255cbb5c",
   "metadata": {},
   "outputs": [],
   "source": []
  },
  {
   "cell_type": "code",
   "execution_count": null,
   "id": "eb1f007b",
   "metadata": {},
   "outputs": [],
   "source": []
  },
  {
   "cell_type": "code",
   "execution_count": null,
   "id": "18118e00",
   "metadata": {},
   "outputs": [],
   "source": []
  },
  {
   "cell_type": "code",
   "execution_count": null,
   "id": "c989dc62",
   "metadata": {},
   "outputs": [],
   "source": []
  },
  {
   "cell_type": "code",
   "execution_count": null,
   "id": "bb148246",
   "metadata": {},
   "outputs": [],
   "source": []
  },
  {
   "cell_type": "code",
   "execution_count": null,
   "id": "2f40f3d4",
   "metadata": {},
   "outputs": [],
   "source": []
  },
  {
   "cell_type": "code",
   "execution_count": null,
   "id": "743cbace",
   "metadata": {},
   "outputs": [],
   "source": []
  },
  {
   "cell_type": "code",
   "execution_count": null,
   "id": "de308c8c",
   "metadata": {},
   "outputs": [],
   "source": []
  },
  {
   "cell_type": "code",
   "execution_count": null,
   "id": "117eb03b",
   "metadata": {},
   "outputs": [],
   "source": []
  },
  {
   "cell_type": "code",
   "execution_count": null,
   "id": "ecf1ecb6",
   "metadata": {},
   "outputs": [],
   "source": []
  }
 ],
 "metadata": {
  "kernelspec": {
   "display_name": "Python 3",
   "language": "python",
   "name": "python3"
  },
  "language_info": {
   "codemirror_mode": {
    "name": "ipython",
    "version": 3
   },
   "file_extension": ".py",
   "mimetype": "text/x-python",
   "name": "python",
   "nbconvert_exporter": "python",
   "pygments_lexer": "ipython3",
   "version": "3.9.5"
  }
 },
 "nbformat": 4,
 "nbformat_minor": 5
}
