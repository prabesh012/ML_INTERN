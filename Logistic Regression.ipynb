{
 "cells": [
  {
   "cell_type": "code",
   "execution_count": 1,
   "metadata": {
    "ExecuteTime": {
     "end_time": "2021-06-09T13:06:28.433586Z",
     "start_time": "2021-06-09T13:06:28.296907Z"
    }
   },
   "outputs": [],
   "source": [
    "import numpy as np\n",
    "import pandas as pd  \n",
    "import matplotlib.pyplot as plt \n",
    "import seaborn as sns "
   ]
  },
  {
   "cell_type": "markdown",
   "metadata": {},
   "source": [
    "# Implement Logistic Regression"
   ]
  },
  {
   "cell_type": "markdown",
   "metadata": {},
   "source": [
    "This will be helpful to further familiarize yourself with Numpy and how Logistic Regression actually works.\n",
    "If you face any problems, feel free to contact us in Slack"
   ]
  },
  {
   "cell_type": "markdown",
   "metadata": {},
   "source": [
    "### Load the breast cancer dataset (from sklearn)"
   ]
  },
  {
   "cell_type": "code",
   "execution_count": 2,
   "metadata": {
    "ExecuteTime": {
     "end_time": "2021-06-09T12:42:06.585347Z",
     "start_time": "2021-06-09T12:42:06.577169Z"
    }
   },
   "outputs": [
    {
     "data": {
      "text/plain": [
       "dict_keys(['data', 'target', 'frame', 'target_names', 'DESCR', 'feature_names', 'filename'])"
      ]
     },
     "execution_count": 2,
     "metadata": {},
     "output_type": "execute_result"
    }
   ],
   "source": [
    "from sklearn.datasets import load_breast_cancer\n",
    "cancer_dataset = load_breast_cancer()\n",
    "cancer_dataset.keys()"
   ]
  },
  {
   "cell_type": "code",
   "execution_count": 3,
   "metadata": {},
   "outputs": [
    {
     "name": "stdout",
     "output_type": "stream",
     "text": [
      "['mean radius' 'mean texture' 'mean perimeter' 'mean area'\n",
      " 'mean smoothness' 'mean compactness' 'mean concavity'\n",
      " 'mean concave points' 'mean symmetry' 'mean fractal dimension'\n",
      " 'radius error' 'texture error' 'perimeter error' 'area error'\n",
      " 'smoothness error' 'compactness error' 'concavity error'\n",
      " 'concave points error' 'symmetry error' 'fractal dimension error'\n",
      " 'worst radius' 'worst texture' 'worst perimeter' 'worst area'\n",
      " 'worst smoothness' 'worst compactness' 'worst concavity'\n",
      " 'worst concave points' 'worst symmetry' 'worst fractal dimension']\n"
     ]
    }
   ],
   "source": [
    "print(cancer_dataset.feature_names)"
   ]
  },
  {
   "cell_type": "code",
   "execution_count": 4,
   "metadata": {},
   "outputs": [
    {
     "name": "stdout",
     "output_type": "stream",
     "text": [
      "['malignant' 'benign']\n"
     ]
    }
   ],
   "source": [
    "print(cancer_dataset.target_names)"
   ]
  },
  {
   "cell_type": "code",
   "execution_count": 5,
   "metadata": {},
   "outputs": [
    {
     "name": "stdout",
     "output_type": "stream",
     "text": [
      ".. _breast_cancer_dataset:\n",
      "\n",
      "Breast cancer wisconsin (diagnostic) dataset\n",
      "--------------------------------------------\n",
      "\n",
      "**Data Set Characteristics:**\n",
      "\n",
      "    :Number of Instances: 569\n",
      "\n",
      "    :Number of Attributes: 30 numeric, predictive attributes and the class\n",
      "\n",
      "    :Attribute Information:\n",
      "        - radius (mean of distances from center to points on the perimeter)\n",
      "        - texture (standard deviation of gray-scale values)\n",
      "        - perimeter\n",
      "        - area\n",
      "        - smoothness (local variation in radius lengths)\n",
      "        - compactness (perimeter^2 / area - 1.0)\n",
      "        - concavity (severity of concave portions of the contour)\n",
      "        - concave points (number of concave portions of the contour)\n",
      "        - symmetry\n",
      "        - fractal dimension (\"coastline approximation\" - 1)\n",
      "\n",
      "        The mean, standard error, and \"worst\" or largest (mean of the three\n",
      "        worst/largest values) of these features were computed for each image,\n",
      "        resulting in 30 features.  For instance, field 0 is Mean Radius, field\n",
      "        10 is Radius SE, field 20 is Worst Radius.\n",
      "\n",
      "        - class:\n",
      "                - WDBC-Malignant\n",
      "                - WDBC-Benign\n",
      "\n",
      "    :Summary Statistics:\n",
      "\n",
      "    ===================================== ====== ======\n",
      "                                           Min    Max\n",
      "    ===================================== ====== ======\n",
      "    radius (mean):                        6.981  28.11\n",
      "    texture (mean):                       9.71   39.28\n",
      "    perimeter (mean):                     43.79  188.5\n",
      "    area (mean):                          143.5  2501.0\n",
      "    smoothness (mean):                    0.053  0.163\n",
      "    compactness (mean):                   0.019  0.345\n",
      "    concavity (mean):                     0.0    0.427\n",
      "    concave points (mean):                0.0    0.201\n",
      "    symmetry (mean):                      0.106  0.304\n",
      "    fractal dimension (mean):             0.05   0.097\n",
      "    radius (standard error):              0.112  2.873\n",
      "    texture (standard error):             0.36   4.885\n",
      "    perimeter (standard error):           0.757  21.98\n",
      "    area (standard error):                6.802  542.2\n",
      "    smoothness (standard error):          0.002  0.031\n",
      "    compactness (standard error):         0.002  0.135\n",
      "    concavity (standard error):           0.0    0.396\n",
      "    concave points (standard error):      0.0    0.053\n",
      "    symmetry (standard error):            0.008  0.079\n",
      "    fractal dimension (standard error):   0.001  0.03\n",
      "    radius (worst):                       7.93   36.04\n",
      "    texture (worst):                      12.02  49.54\n",
      "    perimeter (worst):                    50.41  251.2\n",
      "    area (worst):                         185.2  4254.0\n",
      "    smoothness (worst):                   0.071  0.223\n",
      "    compactness (worst):                  0.027  1.058\n",
      "    concavity (worst):                    0.0    1.252\n",
      "    concave points (worst):               0.0    0.291\n",
      "    symmetry (worst):                     0.156  0.664\n",
      "    fractal dimension (worst):            0.055  0.208\n",
      "    ===================================== ====== ======\n",
      "\n",
      "    :Missing Attribute Values: None\n",
      "\n",
      "    :Class Distribution: 212 - Malignant, 357 - Benign\n",
      "\n",
      "    :Creator:  Dr. William H. Wolberg, W. Nick Street, Olvi L. Mangasarian\n",
      "\n",
      "    :Donor: Nick Street\n",
      "\n",
      "    :Date: November, 1995\n",
      "\n",
      "This is a copy of UCI ML Breast Cancer Wisconsin (Diagnostic) datasets.\n",
      "https://goo.gl/U2Uwz2\n",
      "\n",
      "Features are computed from a digitized image of a fine needle\n",
      "aspirate (FNA) of a breast mass.  They describe\n",
      "characteristics of the cell nuclei present in the image.\n",
      "\n",
      "Separating plane described above was obtained using\n",
      "Multisurface Method-Tree (MSM-T) [K. P. Bennett, \"Decision Tree\n",
      "Construction Via Linear Programming.\" Proceedings of the 4th\n",
      "Midwest Artificial Intelligence and Cognitive Science Society,\n",
      "pp. 97-101, 1992], a classification method which uses linear\n",
      "programming to construct a decision tree.  Relevant features\n",
      "were selected using an exhaustive search in the space of 1-4\n",
      "features and 1-3 separating planes.\n",
      "\n",
      "The actual linear program used to obtain the separating plane\n",
      "in the 3-dimensional space is that described in:\n",
      "[K. P. Bennett and O. L. Mangasarian: \"Robust Linear\n",
      "Programming Discrimination of Two Linearly Inseparable Sets\",\n",
      "Optimization Methods and Software 1, 1992, 23-34].\n",
      "\n",
      "This database is also available through the UW CS ftp server:\n",
      "\n",
      "ftp ftp.cs.wisc.edu\n",
      "cd math-prog/cpo-dataset/machine-learn/WDBC/\n",
      "\n",
      ".. topic:: References\n",
      "\n",
      "   - W.N. Street, W.H. Wolberg and O.L. Mangasarian. Nuclear feature extraction \n",
      "     for breast tumor diagnosis. IS&T/SPIE 1993 International Symposium on \n",
      "     Electronic Imaging: Science and Technology, volume 1905, pages 861-870,\n",
      "     San Jose, CA, 1993.\n",
      "   - O.L. Mangasarian, W.N. Street and W.H. Wolberg. Breast cancer diagnosis and \n",
      "     prognosis via linear programming. Operations Research, 43(4), pages 570-577, \n",
      "     July-August 1995.\n",
      "   - W.H. Wolberg, W.N. Street, and O.L. Mangasarian. Machine learning techniques\n",
      "     to diagnose breast cancer from fine-needle aspirates. Cancer Letters 77 (1994) \n",
      "     163-171.\n"
     ]
    }
   ],
   "source": [
    "print(cancer_dataset.DESCR)"
   ]
  },
  {
   "cell_type": "code",
   "execution_count": 6,
   "metadata": {},
   "outputs": [],
   "source": [
    "X = cancer_dataset.data"
   ]
  },
  {
   "cell_type": "code",
   "execution_count": 7,
   "metadata": {},
   "outputs": [],
   "source": [
    "y = cancer_dataset.target"
   ]
  },
  {
   "cell_type": "code",
   "execution_count": 8,
   "metadata": {},
   "outputs": [
    {
     "data": {
      "text/plain": [
       "(569, 30)"
      ]
     },
     "execution_count": 8,
     "metadata": {},
     "output_type": "execute_result"
    }
   ],
   "source": [
    "X.shape"
   ]
  },
  {
   "cell_type": "code",
   "execution_count": 9,
   "metadata": {},
   "outputs": [
    {
     "data": {
      "text/plain": [
       "(569,)"
      ]
     },
     "execution_count": 9,
     "metadata": {},
     "output_type": "execute_result"
    }
   ],
   "source": [
    "y.shape"
   ]
  },
  {
   "cell_type": "code",
   "execution_count": 10,
   "metadata": {},
   "outputs": [
    {
     "data": {
      "text/plain": [
       "(569, 1)"
      ]
     },
     "execution_count": 10,
     "metadata": {},
     "output_type": "execute_result"
    }
   ],
   "source": [
    "y = y.reshape(-1,1)\n",
    "y.shape"
   ]
  },
  {
   "cell_type": "markdown",
   "metadata": {},
   "source": [
    "### Train test split"
   ]
  },
  {
   "cell_type": "code",
   "execution_count": 11,
   "metadata": {
    "ExecuteTime": {
     "end_time": "2021-06-09T12:42:07.291757Z",
     "start_time": "2021-06-09T12:42:07.285931Z"
    }
   },
   "outputs": [],
   "source": [
    "# Code here\n",
    "from sklearn.model_selection import train_test_split\n",
    "X_train, X_test, y_train, y_test = train_test_split(X, y, test_size=0.2)"
   ]
  },
  {
   "cell_type": "code",
   "execution_count": 12,
   "metadata": {},
   "outputs": [
    {
     "data": {
      "text/plain": [
       "(455, 30)"
      ]
     },
     "execution_count": 12,
     "metadata": {},
     "output_type": "execute_result"
    }
   ],
   "source": [
    "X_train.shape"
   ]
  },
  {
   "cell_type": "code",
   "execution_count": 13,
   "metadata": {},
   "outputs": [
    {
     "data": {
      "text/plain": [
       "(114, 30)"
      ]
     },
     "execution_count": 13,
     "metadata": {},
     "output_type": "execute_result"
    }
   ],
   "source": [
    "X_test.shape"
   ]
  },
  {
   "cell_type": "code",
   "execution_count": 14,
   "metadata": {},
   "outputs": [
    {
     "data": {
      "text/plain": [
       "(455, 1)"
      ]
     },
     "execution_count": 14,
     "metadata": {},
     "output_type": "execute_result"
    }
   ],
   "source": [
    "y_train.shape"
   ]
  },
  {
   "cell_type": "code",
   "execution_count": 15,
   "metadata": {},
   "outputs": [
    {
     "data": {
      "text/plain": [
       "(114, 1)"
      ]
     },
     "execution_count": 15,
     "metadata": {},
     "output_type": "execute_result"
    }
   ],
   "source": [
    "y_test.shape"
   ]
  },
  {
   "cell_type": "markdown",
   "metadata": {},
   "source": [
    "### Apply feature scaling on the data"
   ]
  },
  {
   "cell_type": "code",
   "execution_count": 16,
   "metadata": {
    "ExecuteTime": {
     "end_time": "2021-06-09T12:42:09.129434Z",
     "start_time": "2021-06-09T12:42:09.121016Z"
    }
   },
   "outputs": [],
   "source": [
    "# Code here\n",
    "# from sklearn.preprocessing import MinMaxScaler\n",
    "# scaler = MinMaxScaler()\n",
    "# X_train = scaler.fit_transform(X_train)\n",
    "# X_test = scaler.transform(X_test)\n",
    "\n",
    "class Standardizer:\n",
    "    \n",
    "    def fit(self, data):\n",
    "        self.__mean = np.mean(data)\n",
    "        self.__std = np.std(data)\n",
    "    \n",
    "    def transform(self, data):\n",
    "        transformed = ( data - self.__mean ) / self.__std\n",
    "        return transformed\n",
    "    \n",
    "    def fit_transform(self, data):\n",
    "        self.__mean = np.mean(data)\n",
    "        self.__std = np.std(data)\n",
    "        transformed = ( data - self.__mean ) / self.__std\n",
    "        return transformed\n",
    "\n",
    "std_scaler = Standardizer()\n",
    "X_train = std_scaler.fit_transform(X_train)\n",
    "X_test = std_scaler.transform(X_test)"
   ]
  },
  {
   "cell_type": "code",
   "execution_count": 17,
   "metadata": {},
   "outputs": [],
   "source": [
    "# from sklearn.preprocessing import StandardScaler\n",
    "# scaler = StandardScaler()\n",
    "# X_train = scaler.fit_transform( X_train )\n",
    "# X_test = scaler.transform( X_test )\n"
   ]
  },
  {
   "cell_type": "code",
   "execution_count": 18,
   "metadata": {},
   "outputs": [
    {
     "data": {
      "text/plain": [
       "(455, 30)"
      ]
     },
     "execution_count": 18,
     "metadata": {},
     "output_type": "execute_result"
    }
   ],
   "source": [
    "X_train.shape"
   ]
  },
  {
   "cell_type": "code",
   "execution_count": 19,
   "metadata": {},
   "outputs": [
    {
     "data": {
      "text/plain": [
       "(114, 30)"
      ]
     },
     "execution_count": 19,
     "metadata": {},
     "output_type": "execute_result"
    }
   ],
   "source": [
    "X_test.shape"
   ]
  },
  {
   "cell_type": "markdown",
   "metadata": {},
   "source": [
    "### Define the Parameters (W or Θ) here\n",
    "Create an appropriate shape numpy array for W"
   ]
  },
  {
   "cell_type": "code",
   "execution_count": 20,
   "metadata": {
    "ExecuteTime": {
     "end_time": "2021-06-09T12:42:17.483898Z",
     "start_time": "2021-06-09T12:42:17.479146Z"
    }
   },
   "outputs": [],
   "source": [
    "W = np.random.randn(30,1)  # Weights\n",
    "alpha = 1e-3 # Learning Rate"
   ]
  },
  {
   "cell_type": "code",
   "execution_count": 21,
   "metadata": {},
   "outputs": [
    {
     "data": {
      "text/plain": [
       "(30, 1)"
      ]
     },
     "execution_count": 21,
     "metadata": {},
     "output_type": "execute_result"
    }
   ],
   "source": [
    "W.shape"
   ]
  },
  {
   "cell_type": "code",
   "execution_count": 22,
   "metadata": {},
   "outputs": [
    {
     "data": {
      "text/plain": [
       "0.001"
      ]
     },
     "execution_count": 22,
     "metadata": {},
     "output_type": "execute_result"
    }
   ],
   "source": [
    "alpha"
   ]
  },
  {
   "attachments": {
    "image.png": {
     "image/png": "[encoded data removed]"
    }
   },
   "cell_type": "markdown",
   "metadata": {},
   "source": [
    "### Define sigmoid and its derivative\n",
    "![image.png](attachment:image.png)"
   ]
  },
  {
   "cell_type": "code",
   "execution_count": 23,
   "metadata": {
    "ExecuteTime": {
     "end_time": "2021-06-09T13:06:30.556499Z",
     "start_time": "2021-06-09T13:06:30.546273Z"
    }
   },
   "outputs": [],
   "source": [
    "def sigmoid(X: np.array):\n",
    "    # Apply sigmoid to X and return \n",
    "    return 1/(1 + np.exp(-X))\n",
    "\n",
    "# def sigmoid_(X: np.array):\n",
    "#     # return derivative of sigmoid\n",
    "#     eps = 1e-6\n",
    "#     return (sigmoid(X+eps) - sigmoid(X-eps)) / (2*eps)\n",
    "\n",
    "def sigmoid_(X: np.array):\n",
    "    sig = sigmoid(X)\n",
    "    return sig*(1-sig)\n"
   ]
  },
  {
   "cell_type": "markdown",
   "metadata": {},
   "source": [
    "### Prediction methods"
   ]
  },
  {
   "cell_type": "code",
   "execution_count": 24,
   "metadata": {
    "ExecuteTime": {
     "end_time": "2021-06-09T13:02:43.868900Z",
     "start_time": "2021-06-09T13:02:43.861414Z"
    }
   },
   "outputs": [],
   "source": [
    "def predict_prob(X, W):\n",
    "    # Return the class probabilities here\n",
    "    Z = X.dot(W)\n",
    "    return sigmoid(Z)"
   ]
  },
  {
   "attachments": {
    "image.png": {
     "image/png": "[encoded data removed]"
    }
   },
   "cell_type": "markdown",
   "metadata": {},
   "source": [
    "### Define the Cross entropy loss function\n",
    "\n",
    "![image.png](attachment:image.png)"
   ]
  },
  {
   "cell_type": "code",
   "execution_count": 25,
   "metadata": {
    "ExecuteTime": {
     "end_time": "2021-06-09T12:45:11.548167Z",
     "start_time": "2021-06-09T12:45:11.536323Z"
    }
   },
   "outputs": [],
   "source": [
    "# Code here\n",
    "def binary_cross_entropy(y, yhat):\n",
    "    total = np.sum(y*np.log(yhat)+(1-y)*np.log(1-yhat))\n",
    "    loss = (-1/y.shape[0])*total\n",
    "    return loss"
   ]
  },
  {
   "cell_type": "code",
   "execution_count": 26,
   "metadata": {
    "ExecuteTime": {
     "end_time": "2021-06-08T03:10:49.247090Z",
     "start_time": "2021-06-08T03:10:49.212Z"
    }
   },
   "outputs": [
    {
     "name": "stdout",
     "output_type": "stream",
     "text": [
      "[[6.94834212e-02]\n",
      " [4.56990845e-01]\n",
      " [6.64613256e-04]\n",
      " [3.50911338e-01]\n",
      " [3.21243960e-01]\n",
      " [5.17916963e-01]\n",
      " [1.96908290e-01]\n",
      " [4.50027936e-01]\n",
      " [4.32919404e-01]\n",
      " [5.33614303e-01]\n",
      " [6.21112024e-03]\n",
      " [4.74847338e-01]\n",
      " [3.07436418e-01]\n",
      " [2.86318113e-01]\n",
      " [5.12930247e-04]\n",
      " [1.79596410e-01]\n",
      " [1.13916888e-01]\n",
      " [1.75968475e-01]\n",
      " [3.44290089e-01]\n",
      " [3.83937125e-01]\n",
      " [3.91599782e-01]\n",
      " [2.09937219e-01]\n",
      " [4.64872723e-01]\n",
      " [3.04892442e-01]\n",
      " [2.48058680e-01]\n",
      " [4.05873524e-01]\n",
      " [2.55457543e-01]\n",
      " [2.48488851e-01]\n",
      " [2.11325266e-01]\n",
      " [5.54042083e-01]\n",
      " [3.58937438e-01]\n",
      " [2.05169319e-01]\n",
      " [3.52510711e-01]\n",
      " [3.11044222e-01]\n",
      " [4.57265172e-01]\n",
      " [4.99505999e-01]\n",
      " [5.28908100e-01]\n",
      " [3.41335769e-01]\n",
      " [5.45961911e-01]\n",
      " [7.89545746e-02]\n",
      " [4.54172939e-01]\n",
      " [1.70410324e-01]\n",
      " [3.29377696e-01]\n",
      " [1.19777587e-01]\n",
      " [4.21678408e-01]\n",
      " [5.56847576e-02]\n",
      " [2.06722491e-02]\n",
      " [4.69341141e-01]\n",
      " [4.52517061e-02]\n",
      " [2.81999585e-01]\n",
      " [2.16394917e-02]\n",
      " [8.50180951e-02]\n",
      " [3.48016047e-01]\n",
      " [3.89299671e-01]\n",
      " [2.83838907e-01]\n",
      " [3.89918064e-02]\n",
      " [2.91903274e-03]\n",
      " [4.13140063e-01]\n",
      " [1.50270292e-02]\n",
      " [2.55184643e-01]\n",
      " [6.56525627e-03]\n",
      " [3.74623239e-01]\n",
      " [4.51136787e-01]\n",
      " [4.25996937e-01]\n",
      " [2.93969919e-01]\n",
      " [2.42316754e-02]\n",
      " [2.17108935e-01]\n",
      " [3.41944199e-01]\n",
      " [3.99739397e-01]\n",
      " [1.02790771e-01]\n",
      " [2.98693839e-01]\n",
      " [3.66166926e-01]\n",
      " [4.57738404e-01]\n",
      " [5.62235177e-01]\n",
      " [1.07083283e-02]\n",
      " [2.94136801e-01]\n",
      " [2.85873648e-01]\n",
      " [4.48600176e-01]\n",
      " [2.63863894e-01]\n",
      " [2.52883512e-01]\n",
      " [1.23065714e-01]\n",
      " [3.40561827e-01]\n",
      " [4.22725159e-01]\n",
      " [2.41638856e-01]\n",
      " [5.80298480e-01]\n",
      " [4.05569472e-01]\n",
      " [4.20796433e-01]\n",
      " [1.53417158e-01]\n",
      " [3.65870624e-01]\n",
      " [2.23321319e-02]\n",
      " [2.98798862e-03]\n",
      " [3.39499936e-01]\n",
      " [1.52507731e-01]\n",
      " [5.25937677e-01]\n",
      " [9.09042827e-02]\n",
      " [4.38853519e-01]\n",
      " [1.99631088e-01]\n",
      " [7.69571084e-02]\n",
      " [3.09777335e-01]\n",
      " [3.94838141e-02]\n",
      " [9.72661125e-02]\n",
      " [2.47483499e-01]\n",
      " [4.78380334e-01]\n",
      " [3.06603839e-01]\n",
      " [3.72667556e-01]\n",
      " [8.85072646e-02]\n",
      " [4.00678429e-01]\n",
      " [4.38927643e-01]\n",
      " [4.57908136e-01]\n",
      " [4.90919923e-01]\n",
      " [1.03299313e-02]\n",
      " [1.52015441e-01]\n",
      " [3.03616506e-02]\n",
      " [4.37239503e-01]\n",
      " [2.19513259e-01]\n",
      " [5.23099902e-01]\n",
      " [5.59736429e-01]\n",
      " [8.90743812e-03]\n",
      " [3.20175642e-01]\n",
      " [3.44727876e-01]\n",
      " [4.71398914e-01]\n",
      " [3.05691577e-01]\n",
      " [2.02093552e-02]\n",
      " [3.14604236e-01]\n",
      " [3.21791590e-01]\n",
      " [5.10407566e-01]\n",
      " [6.11618919e-03]\n",
      " [4.41220573e-01]\n",
      " [4.10748061e-01]\n",
      " [4.06183905e-01]\n",
      " [5.84892176e-02]\n",
      " [1.39955956e-01]\n",
      " [6.93329696e-02]\n",
      " [3.22519302e-01]\n",
      " [5.32800578e-01]\n",
      " [5.42947347e-01]\n",
      " [5.38225045e-01]\n",
      " [4.86615950e-01]\n",
      " [2.80877003e-05]\n",
      " [3.40491374e-01]\n",
      " [1.09402138e-01]\n",
      " [9.17661977e-07]\n",
      " [4.70887437e-01]\n",
      " [2.49311593e-02]\n",
      " [4.51480550e-01]\n",
      " [3.48612953e-02]\n",
      " [1.90015694e-01]\n",
      " [1.53256688e-03]\n",
      " [4.49367448e-02]\n",
      " [2.05850412e-01]\n",
      " [4.76202182e-01]\n",
      " [3.60124575e-01]\n",
      " [1.91879679e-01]\n",
      " [7.63373956e-02]\n",
      " [1.47163996e-01]\n",
      " [5.55160529e-01]\n",
      " [3.64231266e-02]\n",
      " [6.11263376e-03]\n",
      " [4.43175621e-01]\n",
      " [4.14616915e-01]\n",
      " [3.95338688e-01]\n",
      " [3.79163954e-01]\n",
      " [1.18622519e-01]\n",
      " [1.37100863e-01]\n",
      " [3.91302129e-01]\n",
      " [3.91441266e-01]\n",
      " [3.12205986e-01]\n",
      " [5.34984818e-01]\n",
      " [3.95108869e-01]\n",
      " [2.70497555e-01]\n",
      " [4.21101591e-01]\n",
      " [3.67555508e-02]\n",
      " [2.13929933e-01]\n",
      " [3.37420091e-01]\n",
      " [2.30186287e-04]\n",
      " [8.85625545e-02]\n",
      " [2.72264259e-01]\n",
      " [4.59233494e-01]\n",
      " [5.60572608e-01]\n",
      " [4.49445122e-01]\n",
      " [4.23371926e-03]\n",
      " [4.39500873e-01]\n",
      " [4.36086022e-01]\n",
      " [3.84948992e-01]\n",
      " [4.09410256e-01]\n",
      " [3.93383370e-01]\n",
      " [9.48740289e-02]\n",
      " [4.09765093e-01]\n",
      " [4.58879342e-01]\n",
      " [7.98110104e-02]\n",
      " [4.73170519e-01]\n",
      " [1.37620370e-02]\n",
      " [2.01618182e-02]\n",
      " [3.84763538e-01]\n",
      " [4.87903611e-01]\n",
      " [1.68364551e-02]\n",
      " [5.18946296e-01]\n",
      " [3.66701034e-01]\n",
      " [3.48733545e-01]\n",
      " [4.09438524e-01]\n",
      " [4.65871711e-01]\n",
      " [4.81608104e-03]\n",
      " [1.48895313e-04]\n",
      " [2.65555227e-01]\n",
      " [2.57844335e-01]\n",
      " [7.78880990e-03]\n",
      " [3.96873746e-01]\n",
      " [5.94387148e-01]\n",
      " [2.35541393e-03]\n",
      " [4.13333466e-01]\n",
      " [1.54509295e-02]\n",
      " [3.76945590e-01]\n",
      " [2.90666784e-01]\n",
      " [8.09135799e-03]\n",
      " [4.22060873e-01]\n",
      " [1.68505796e-01]\n",
      " [3.84052755e-01]\n",
      " [2.72400877e-01]\n",
      " [8.23874740e-02]\n",
      " [3.61399455e-01]\n",
      " [5.33891548e-01]\n",
      " [3.72001377e-01]\n",
      " [3.03055185e-01]\n",
      " [4.14798413e-01]\n",
      " [1.34009245e-02]\n",
      " [4.59163908e-02]\n",
      " [4.65342030e-01]\n",
      " [4.55204570e-01]\n",
      " [4.22143256e-01]\n",
      " [2.29890842e-01]\n",
      " [4.69999959e-01]\n",
      " [3.10533603e-03]\n",
      " [6.16394737e-03]\n",
      " [4.24538960e-01]\n",
      " [5.28824582e-01]\n",
      " [1.28649277e-03]\n",
      " [5.29842590e-01]\n",
      " [5.32506274e-01]\n",
      " [3.84241182e-01]\n",
      " [5.26978652e-01]\n",
      " [1.71542932e-03]\n",
      " [4.52865033e-01]\n",
      " [5.08501481e-01]\n",
      " [4.05663946e-01]\n",
      " [2.26620286e-01]\n",
      " [2.80650552e-01]\n",
      " [4.84324516e-01]\n",
      " [3.98112026e-04]\n",
      " [4.80976599e-02]\n",
      " [1.87507134e-02]\n",
      " [4.02250357e-01]\n",
      " [1.83824355e-01]\n",
      " [1.87557655e-01]\n",
      " [4.62098590e-02]\n",
      " [4.51845471e-01]\n",
      " [1.85006348e-01]\n",
      " [4.14908136e-01]\n",
      " [9.51540769e-03]\n",
      " [2.55379201e-01]\n",
      " [5.73358154e-01]\n",
      " [2.15473524e-02]\n",
      " [2.28827202e-02]\n",
      " [2.92031495e-01]\n",
      " [5.82160718e-02]\n",
      " [3.47373774e-01]\n",
      " [4.14282861e-01]\n",
      " [1.32678087e-03]\n",
      " [2.34631108e-01]\n",
      " [3.29565873e-01]\n",
      " [5.82398297e-01]\n",
      " [2.61469468e-01]\n",
      " [4.30877868e-01]\n",
      " [2.32621737e-01]\n",
      " [3.06796836e-01]\n",
      " [3.27573660e-02]\n",
      " [1.58314507e-02]\n",
      " [4.08232834e-01]\n",
      " [3.11853446e-01]\n",
      " [4.02473381e-01]\n",
      " [1.27251021e-01]\n",
      " [1.41287612e-01]\n",
      " [9.29089542e-02]\n",
      " [9.94736886e-02]\n",
      " [3.68725442e-01]\n",
      " [4.88542081e-01]\n",
      " [5.16475727e-01]\n",
      " [3.57765073e-01]\n",
      " [3.80951833e-01]\n",
      " [4.76468277e-01]\n",
      " [1.53868439e-01]\n",
      " [4.03193304e-01]\n",
      " [4.14871296e-01]\n",
      " [3.52161224e-01]\n",
      " [4.96793997e-01]\n",
      " [2.73081121e-01]\n",
      " [1.59092269e-01]\n",
      " [1.15539464e-01]\n",
      " [5.90919555e-03]\n",
      " [3.90637852e-02]\n",
      " [1.24206342e-02]\n",
      " [2.87906813e-01]\n",
      " [4.86105863e-01]\n",
      " [4.83591740e-01]\n",
      " [2.58206943e-01]\n",
      " [5.17249940e-01]\n",
      " [3.66971611e-01]\n",
      " [2.98722299e-01]\n",
      " [4.17325365e-01]\n",
      " [2.44186701e-02]\n",
      " [1.74595743e-01]\n",
      " [3.66715116e-01]\n",
      " [4.30808693e-01]\n",
      " [5.15130388e-01]\n",
      " [4.92193928e-01]\n",
      " [3.63363938e-01]\n",
      " [1.11123334e-01]\n",
      " [5.06145313e-01]\n",
      " [9.47971922e-02]\n",
      " [4.95091202e-01]\n",
      " [4.01112538e-01]\n",
      " [1.99205636e-01]\n",
      " [2.68005691e-01]\n",
      " [3.14055996e-01]\n",
      " [1.38096913e-03]\n",
      " [2.82227150e-01]\n",
      " [3.84904176e-01]\n",
      " [4.10082532e-02]\n",
      " [3.61287620e-02]\n",
      " [9.14272999e-02]\n",
      " [4.34979223e-01]\n",
      " [5.44292759e-01]\n",
      " [3.58339164e-01]\n",
      " [3.45143476e-01]\n",
      " [5.12966115e-01]\n",
      " [3.18180123e-01]\n",
      " [7.69075459e-03]\n",
      " [4.92838550e-01]\n",
      " [3.22619343e-01]\n",
      " [3.31378078e-01]\n",
      " [5.18048284e-01]\n",
      " [4.05480449e-01]\n",
      " [4.60641624e-01]\n",
      " [4.55475707e-01]\n",
      " [5.71627606e-01]\n",
      " [5.24992728e-01]\n",
      " [3.89661687e-01]\n",
      " [3.00579829e-01]\n",
      " [4.17865295e-01]\n",
      " [4.68318516e-01]\n",
      " [2.59332942e-01]\n",
      " [3.65374280e-01]\n",
      " [2.89013847e-01]\n",
      " [4.22217090e-01]\n",
      " [2.77946672e-01]\n",
      " [3.27150224e-02]\n",
      " [2.09471025e-01]\n",
      " [4.94815646e-01]\n",
      " [3.12852811e-01]\n",
      " [3.34037909e-01]\n",
      " [3.42972866e-02]\n",
      " [4.09055175e-01]\n",
      " [2.47411810e-01]\n",
      " [7.20089888e-02]\n",
      " [4.48628535e-01]\n",
      " [3.58632907e-01]\n",
      " [4.27574027e-01]\n",
      " [4.57282099e-01]\n",
      " [4.88453326e-01]\n",
      " [3.71789388e-01]\n",
      " [2.71876856e-01]\n",
      " [3.49093354e-01]\n",
      " [5.43374303e-01]\n",
      " [2.97366527e-02]\n",
      " [3.77868060e-01]\n",
      " [4.89324916e-01]\n",
      " [4.05798664e-01]\n",
      " [3.38895304e-01]\n",
      " [3.84917111e-01]\n",
      " [3.84067207e-01]\n",
      " [5.49579806e-01]\n",
      " [9.80928449e-02]\n",
      " [1.85284403e-01]\n",
      " [2.15799101e-01]\n",
      " [2.38804325e-01]\n",
      " [3.18351604e-01]\n",
      " [4.39223342e-01]\n",
      " [2.35259937e-01]\n",
      " [4.95896445e-01]\n",
      " [3.10361350e-01]\n",
      " [2.30150939e-01]\n",
      " [3.14144162e-01]\n",
      " [3.51393347e-01]\n",
      " [5.86162715e-01]\n",
      " [2.73506859e-02]\n",
      " [4.10500286e-03]\n",
      " [4.01198584e-02]\n",
      " [4.71829857e-06]\n",
      " [4.07410025e-01]\n",
      " [5.61718528e-02]\n",
      " [4.64682291e-01]\n",
      " [1.37927306e-01]\n",
      " [1.05870969e-01]\n",
      " [6.43049081e-02]\n",
      " [6.53887332e-02]\n",
      " [5.55538515e-01]\n",
      " [4.10554135e-02]\n",
      " [3.75907336e-01]\n",
      " [4.18452404e-01]\n",
      " [1.94206936e-01]\n",
      " [3.63018784e-01]\n",
      " [3.34603905e-01]\n",
      " [2.29699254e-01]\n",
      " [2.52811521e-02]\n",
      " [3.40676865e-01]\n",
      " [5.43676051e-01]\n",
      " [2.79687726e-01]\n",
      " [4.82927570e-01]\n",
      " [1.92876634e-01]\n",
      " [4.31628322e-01]\n",
      " [7.96314713e-02]\n",
      " [3.33852456e-01]\n",
      " [6.25371083e-02]\n",
      " [2.08367293e-01]\n",
      " [4.70243669e-01]\n",
      " [9.41252213e-02]\n",
      " [9.45809388e-03]\n",
      " [1.61446219e-01]\n",
      " [4.11932933e-01]\n",
      " [2.11985436e-01]\n",
      " [4.03810972e-01]\n",
      " [1.08750463e-04]\n",
      " [3.91383250e-01]\n",
      " [3.85982027e-01]\n",
      " [1.56704169e-02]\n",
      " [3.39717897e-01]\n",
      " [3.23997837e-01]\n",
      " [6.69059437e-03]\n",
      " [5.30514371e-01]\n",
      " [4.78381087e-01]\n",
      " [1.70971140e-01]\n",
      " [2.32942833e-02]\n",
      " [5.06498548e-01]\n",
      " [4.23360233e-01]\n",
      " [4.68798886e-01]\n",
      " [3.82973653e-01]\n",
      " [4.28486272e-01]\n",
      " [3.09758590e-04]\n",
      " [3.61996800e-01]\n",
      " [4.34735370e-01]\n",
      " [4.73516064e-01]\n",
      " [1.37888291e-02]\n",
      " [2.23992173e-01]\n",
      " [2.57635175e-01]\n",
      " [2.93794392e-01]\n",
      " [2.38629514e-01]]\n"
     ]
    }
   ],
   "source": [
    "yhat = predict_prob(X_train, W)\n",
    "print(yhat)"
   ]
  },
  {
   "cell_type": "code",
   "execution_count": 27,
   "metadata": {
    "ExecuteTime": {
     "end_time": "2021-06-08T03:10:49.248996Z",
     "start_time": "2021-06-08T03:10:49.216Z"
    }
   },
   "outputs": [
    {
     "name": "stdout",
     "output_type": "stream",
     "text": [
      "0.6386004747622358\n"
     ]
    }
   ],
   "source": [
    "loss = binary_cross_entropy(y_train, yhat)\n",
    "print(loss)"
   ]
  },
  {
   "cell_type": "markdown",
   "metadata": {},
   "source": [
    "# Solve using Gradient Descent"
   ]
  },
  {
   "cell_type": "markdown",
   "metadata": {},
   "source": [
    "### Calculate gradient\n",
    "For practice, you can try to derive the gradient using pen and paper"
   ]
  },
  {
   "cell_type": "code",
   "execution_count": 28,
   "metadata": {
    "ExecuteTime": {
     "end_time": "2021-06-08T03:10:49.252566Z",
     "start_time": "2021-06-08T03:10:49.204031Z"
    }
   },
   "outputs": [],
   "source": [
    "def compute_gradient(X, y, yhat, W):\n",
    "    # Code here\n",
    "    dZ = yhat - y\n",
    "    dW = 1 / len(X) * X.T.dot(dZ)\n",
    "    return dW"
   ]
  },
  {
   "cell_type": "markdown",
   "metadata": {},
   "source": [
    "### Update Weights"
   ]
  },
  {
   "cell_type": "code",
   "execution_count": 29,
   "metadata": {
    "ExecuteTime": {
     "end_time": "2021-06-08T03:10:49.252566Z",
     "start_time": "2021-06-08T03:10:49.204031Z"
    }
   },
   "outputs": [],
   "source": [
    "# Code here\n",
    "W = W - alpha*compute_gradient(X_train, y_train, yhat,W)"
   ]
  },
  {
   "cell_type": "markdown",
   "metadata": {},
   "source": [
    "### Repeat for N- Iterations"
   ]
  },
  {
   "cell_type": "code",
   "execution_count": 30,
   "metadata": {
    "ExecuteTime": {
     "end_time": "2021-06-08T03:10:49.254612Z",
     "start_time": "2021-06-08T03:10:49.228Z"
    }
   },
   "outputs": [],
   "source": [
    "N = 1000\n",
    "losses = []\n",
    "for i in range(N):\n",
    "    # Predict\n",
    "    yhat = predict_prob(X_train, W)\n",
    "    \n",
    "    # Calculate Loss\n",
    "    loss = binary_cross_entropy(y_train, yhat)\n",
    "    \n",
    "    # Compute gradient dL/dW\n",
    "    dW = compute_gradient(X_train, y_train, yhat, W)\n",
    "    \n",
    "    # Update the weights\n",
    "    W = W - alpha*dW\n",
    "    \n",
    "    losses.append(loss)"
   ]
  },
  {
   "cell_type": "markdown",
   "metadata": {},
   "source": [
    "### Plot the loss curve"
   ]
  },
  {
   "cell_type": "code",
   "execution_count": 31,
   "metadata": {
    "ExecuteTime": {
     "end_time": "2021-06-08T03:10:49.256637Z",
     "start_time": "2021-06-08T03:10:49.233Z"
    }
   },
   "outputs": [
    {
     "data": {
      "text/plain": [
       "[<matplotlib.lines.Line2D at 0x7f500c02e250>]"
      ]
     },
     "execution_count": 31,
     "metadata": {},
     "output_type": "execute_result"
    },
    {
     "data": {
      "image/png": "[encoded data removed]",
      "text/plain": [
       "<Figure size 432x288 with 1 Axes>"
      ]
     },
     "metadata": {
      "needs_background": "light"
     },
     "output_type": "display_data"
    }
   ],
   "source": [
    "# Loss curve here\n",
    "plt.plot(losses)"
   ]
  },
  {
   "cell_type": "markdown",
   "metadata": {},
   "source": [
    "### Calculate the classification report and the confusion matrix"
   ]
  },
  {
   "cell_type": "code",
   "execution_count": 32,
   "metadata": {
    "ExecuteTime": {
     "end_time": "2021-06-09T13:03:52.812396Z",
     "start_time": "2021-06-09T13:03:52.804969Z"
    }
   },
   "outputs": [],
   "source": [
    "from sklearn.metrics import classification_report, confusion_matrix"
   ]
  },
  {
   "cell_type": "code",
   "execution_count": 33,
   "metadata": {},
   "outputs": [
    {
     "data": {
      "text/plain": [
       "array([[133,  34],\n",
       "       [  2, 286]])"
      ]
     },
     "execution_count": 33,
     "metadata": {},
     "output_type": "execute_result"
    }
   ],
   "source": [
    "# Scores here\n",
    "yhat = [1 if yhat[i] > 0.5 else 0 for i in range(len(yhat))]\n",
    "con_matrix = confusion_matrix(y_train, yhat)\n",
    "con_matrix"
   ]
  },
  {
   "cell_type": "markdown",
   "metadata": {},
   "source": [
    "# BONUS: Create a LogisticRegression Class [OPTIONAL]\n",
    "Create a Sklearn-like API"
   ]
  },
  {
   "cell_type": "code",
   "execution_count": 67,
   "metadata": {
    "ExecuteTime": {
     "end_time": "2021-06-08T03:10:49.363615Z",
     "start_time": "2021-06-08T03:10:49.359276Z"
    }
   },
   "outputs": [],
   "source": [
    "class LogisticRegression:\n",
    "    # You can define additional functions as per your need\n",
    "    def __init__(self, alpha=0.001, n_iter=1000):\n",
    "        self.W = None\n",
    "        self.alpha = alpha\n",
    "        self.n_iter = n_iter\n",
    "        ...\n",
    "\n",
    "    def fit(self, X, y):\n",
    "        pass\n",
    "\n",
    "    def predict(self, X):\n",
    "        pass"
   ]
  },
  {
   "cell_type": "code",
   "execution_count": 68,
   "metadata": {},
   "outputs": [],
   "source": [
    "model = LogisticRegression()\n",
    "model.fit(X, y)\n",
    "predictions = model.predict(X)"
   ]
  },
  {
   "cell_type": "markdown",
   "metadata": {},
   "source": [
    "### Compare metrics with Sklearn's implementation"
   ]
  },
  {
   "cell_type": "code",
   "execution_count": 69,
   "metadata": {
    "ExecuteTime": {
     "end_time": "2021-06-08T03:13:38.648135Z",
     "start_time": "2021-06-08T03:13:38.640657Z"
    }
   },
   "outputs": [],
   "source": [
    "from sklearn.linear_model import LogisticRegression as SKLogisticRegression"
   ]
  },
  {
   "cell_type": "code",
   "execution_count": null,
   "metadata": {},
   "outputs": [],
   "source": [
    "sklearn_model = SKLogisticRegression()\n",
    "sklearn_model.fit(X, y)\n",
    "sklearn_predictions = sklearn_model.predict(X)"
   ]
  },
  {
   "cell_type": "code",
   "execution_count": null,
   "metadata": {},
   "outputs": [],
   "source": [
    "### compare classification report and confusion matrix here"
   ]
  }
 ],
 "metadata": {
  "kernelspec": {
   "display_name": "Python 3",
   "language": "python",
   "name": "python3"
  },
  "language_info": {
   "codemirror_mode": {
    "name": "ipython",
    "version": 3
   },
   "file_extension": ".py",
   "mimetype": "text/x-python",
   "name": "python",
   "nbconvert_exporter": "python",
   "pygments_lexer": "ipython3",
   "version": "3.8.8"
  },
  "toc": {
   "base_numbering": 1,
   "nav_menu": {},
   "number_sections": true,
   "sideBar": true,
   "skip_h1_title": false,
   "title_cell": "Table of Contents",
   "title_sidebar": "Contents",
   "toc_cell": false,
   "toc_position": {},
   "toc_section_display": true,
   "toc_window_display": false
  }
 },
 "nbformat": 4,
 "nbformat_minor": 4
}
