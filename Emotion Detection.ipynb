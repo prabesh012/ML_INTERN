{
 "cells": [
  {
   "cell_type": "markdown",
   "id": "8da168aa",
   "metadata": {},
   "source": [
    "# Emotion Detection and Recognition."
   ]
  },
  {
   "cell_type": "code",
   "execution_count": 19,
   "id": "825bd0f5",
   "metadata": {},
   "outputs": [
    {
     "name": "stdout",
     "output_type": "stream",
     "text": [
      "'1-P-3-ISEAR .csv'\r\n"
     ]
    }
   ],
   "source": [
    "!ls *.csv"
   ]
  },
  {
   "cell_type": "code",
   "execution_count": 31,
   "id": "3da3b8d5",
   "metadata": {},
   "outputs": [
    {
     "name": "stdout",
     "output_type": "stream",
     "text": [
      "0,joy,\"On days when I feel close to my partner and other friends.   \r\n",
      "When I feel at peace with myself and also experience a close  \r\n",
      "contact with people whom I regard greatly.\"\r\n",
      "1,fear,\"Every time I imagine that someone I love or I could contact a  \r\n",
      "serious illness, even death.\"\r\n",
      "2,anger,\"When I had been obviously unjustly treated and had no possibility  \r\n",
      "of elucidating this.\"\r\n",
      "3,sadness,\"When I think about the short time that we live and relate it to  \r\n",
      "the periods of my life when I think that I did not use this  \r\n",
      "short time.\"\r\n"
     ]
    }
   ],
   "source": [
    "!head '1-P-3-ISEAR .csv'"
   ]
  },
  {
   "cell_type": "code",
   "execution_count": 60,
   "id": "f9f14bef",
   "metadata": {},
   "outputs": [],
   "source": [
    "import numpy as np\n",
    "import pandas as pd\n",
    "import matplotlib.pyplot as plt\n",
    "import seaborn as sns"
   ]
  },
  {
   "cell_type": "code",
   "execution_count": 61,
   "id": "89c05b9c",
   "metadata": {},
   "outputs": [],
   "source": [
    "dataset_df = pd.read_csv('1-P-3-ISEAR .csv',index_col=0,names=['emotion','text'])"
   ]
  },
  {
   "cell_type": "code",
   "execution_count": 62,
   "id": "c373ebd1",
   "metadata": {},
   "outputs": [
    {
     "data": {
      "text/html": [
       "<div>\n",
       "<style scoped>\n",
       "    .dataframe tbody tr th:only-of-type {\n",
       "        vertical-align: middle;\n",
       "    }\n",
       "\n",
       "    .dataframe tbody tr th {\n",
       "        vertical-align: top;\n",
       "    }\n",
       "\n",
       "    .dataframe thead th {\n",
       "        text-align: right;\n",
       "    }\n",
       "</style>\n",
       "<table border=\"1\" class=\"dataframe\">\n",
       "  <thead>\n",
       "    <tr style=\"text-align: right;\">\n",
       "      <th></th>\n",
       "      <th>emotion</th>\n",
       "      <th>text</th>\n",
       "    </tr>\n",
       "  </thead>\n",
       "  <tbody>\n",
       "    <tr>\n",
       "      <th>0</th>\n",
       "      <td>joy</td>\n",
       "      <td>On days when I feel close to my partner and ot...</td>\n",
       "    </tr>\n",
       "    <tr>\n",
       "      <th>1</th>\n",
       "      <td>fear</td>\n",
       "      <td>Every time I imagine that someone I love or I ...</td>\n",
       "    </tr>\n",
       "    <tr>\n",
       "      <th>2</th>\n",
       "      <td>anger</td>\n",
       "      <td>When I had been obviously unjustly treated and...</td>\n",
       "    </tr>\n",
       "    <tr>\n",
       "      <th>3</th>\n",
       "      <td>sadness</td>\n",
       "      <td>When I think about the short time that we live...</td>\n",
       "    </tr>\n",
       "    <tr>\n",
       "      <th>4</th>\n",
       "      <td>disgust</td>\n",
       "      <td>At a gathering I found myself involuntarily si...</td>\n",
       "    </tr>\n",
       "    <tr>\n",
       "      <th>...</th>\n",
       "      <td>...</td>\n",
       "      <td>...</td>\n",
       "    </tr>\n",
       "    <tr>\n",
       "      <th>7441</th>\n",
       "      <td>anger</td>\n",
       "      <td>Last week I had planned to play tennis and had...</td>\n",
       "    </tr>\n",
       "    <tr>\n",
       "      <th>7442</th>\n",
       "      <td>sadness</td>\n",
       "      <td>When I was ill and had to stay at the hospital...</td>\n",
       "    </tr>\n",
       "    <tr>\n",
       "      <th>7443</th>\n",
       "      <td>disgust</td>\n",
       "      <td>A few days back I was waiting for the bus at t...</td>\n",
       "    </tr>\n",
       "    <tr>\n",
       "      <th>7444</th>\n",
       "      <td>shame</td>\n",
       "      <td>A few days back I had a tutorial class and the...</td>\n",
       "    </tr>\n",
       "    <tr>\n",
       "      <th>7445</th>\n",
       "      <td>guilt</td>\n",
       "      <td>Once I quarrelled with my sister and after thi...</td>\n",
       "    </tr>\n",
       "  </tbody>\n",
       "</table>\n",
       "<p>7446 rows × 2 columns</p>\n",
       "</div>"
      ],
      "text/plain": [
       "      emotion                                               text\n",
       "0         joy  On days when I feel close to my partner and ot...\n",
       "1        fear  Every time I imagine that someone I love or I ...\n",
       "2       anger  When I had been obviously unjustly treated and...\n",
       "3     sadness  When I think about the short time that we live...\n",
       "4     disgust  At a gathering I found myself involuntarily si...\n",
       "...       ...                                                ...\n",
       "7441    anger  Last week I had planned to play tennis and had...\n",
       "7442  sadness  When I was ill and had to stay at the hospital...\n",
       "7443  disgust  A few days back I was waiting for the bus at t...\n",
       "7444    shame  A few days back I had a tutorial class and the...\n",
       "7445    guilt  Once I quarrelled with my sister and after thi...\n",
       "\n",
       "[7446 rows x 2 columns]"
      ]
     },
     "execution_count": 62,
     "metadata": {},
     "output_type": "execute_result"
    }
   ],
   "source": [
    "dataset_df"
   ]
  },
  {
   "cell_type": "code",
   "execution_count": 63,
   "id": "69d7e390",
   "metadata": {},
   "outputs": [
    {
     "data": {
      "text/plain": [
       "emotion    0\n",
       "text       0\n",
       "dtype: int64"
      ]
     },
     "execution_count": 63,
     "metadata": {},
     "output_type": "execute_result"
    }
   ],
   "source": [
    "dataset_df.isna().sum(axis=0)"
   ]
  },
  {
   "cell_type": "code",
   "execution_count": 64,
   "id": "49c67a0a",
   "metadata": {},
   "outputs": [],
   "source": [
    "# dataset_df.isnull().sum()"
   ]
  },
  {
   "cell_type": "code",
   "execution_count": 65,
   "id": "ffc5ad0c",
   "metadata": {
    "scrolled": true
   },
   "outputs": [
    {
     "name": "stdout",
     "output_type": "stream",
     "text": [
      "<class 'pandas.core.frame.DataFrame'>\n",
      "Int64Index: 7446 entries, 0 to 7445\n",
      "Data columns (total 2 columns):\n",
      " #   Column   Non-Null Count  Dtype \n",
      "---  ------   --------------  ----- \n",
      " 0   emotion  7446 non-null   object\n",
      " 1   text     7446 non-null   object\n",
      "dtypes: object(2)\n",
      "memory usage: 174.5+ KB\n"
     ]
    }
   ],
   "source": [
    "dataset_df.info()"
   ]
  },
  {
   "cell_type": "code",
   "execution_count": 52,
   "id": "ff6c85cd",
   "metadata": {},
   "outputs": [
    {
     "data": {
      "text/plain": [
       "55"
      ]
     },
     "execution_count": 52,
     "metadata": {},
     "output_type": "execute_result"
    }
   ],
   "source": [
    "dataset_df.duplicated().sum()"
   ]
  },
  {
   "cell_type": "code",
   "execution_count": 66,
   "id": "386539ef",
   "metadata": {},
   "outputs": [
    {
     "data": {
      "text/plain": [
       "(7446, 2)"
      ]
     },
     "execution_count": 66,
     "metadata": {},
     "output_type": "execute_result"
    }
   ],
   "source": [
    "dataset_df.shape"
   ]
  },
  {
   "cell_type": "code",
   "execution_count": 67,
   "id": "ce7ac236",
   "metadata": {},
   "outputs": [],
   "source": [
    "final_dataset_df = dataset_df.drop_duplicates(subset={'emotion','text'},keep='first',inplace=False)"
   ]
  },
  {
   "cell_type": "code",
   "execution_count": 71,
   "id": "a3ab7e3f",
   "metadata": {},
   "outputs": [
    {
     "data": {
      "text/plain": [
       "55"
      ]
     },
     "execution_count": 71,
     "metadata": {},
     "output_type": "execute_result"
    }
   ],
   "source": [
    "dataset_df.shape[0] - final_dataset_df.shape[0]"
   ]
  },
  {
   "cell_type": "code",
   "execution_count": 73,
   "id": "7072bef8",
   "metadata": {},
   "outputs": [
    {
     "data": {
      "text/plain": [
       "joy        1071\n",
       "anger      1069\n",
       "fear       1059\n",
       "disgust    1058\n",
       "shame      1049\n",
       "sadness    1046\n",
       "guilt      1039\n",
       "Name: emotion, dtype: int64"
      ]
     },
     "execution_count": 73,
     "metadata": {},
     "output_type": "execute_result"
    }
   ],
   "source": [
    "final_dataset_df['emotion'].value_counts()"
   ]
  },
  {
   "cell_type": "markdown",
   "id": "ce5931bd",
   "metadata": {},
   "source": [
    "<p>It is balanced</p>"
   ]
  },
  {
   "cell_type": "code",
   "execution_count": 89,
   "id": "d49c264a",
   "metadata": {},
   "outputs": [
    {
     "data": {
      "image/png": "[encoded data removed]",
      "text/plain": [
       "<Figure size 432x288 with 1 Axes>"
      ]
     },
     "metadata": {
      "needs_background": "light"
     },
     "output_type": "display_data"
    }
   ],
   "source": [
    "plt.title('Count for the every Emotion')\n",
    "sns.countplot(x='emotion',data=final_dataset_df);"
   ]
  },
  {
   "cell_type": "code",
   "execution_count": null,
   "id": "c3c0232f",
   "metadata": {},
   "outputs": [],
   "source": []
  },
  {
   "cell_type": "code",
   "execution_count": null,
   "id": "effa3e02",
   "metadata": {},
   "outputs": [],
   "source": []
  },
  {
   "cell_type": "code",
   "execution_count": null,
   "id": "47eb5451",
   "metadata": {},
   "outputs": [],
   "source": []
  },
  {
   "cell_type": "code",
   "execution_count": null,
   "id": "5361fc91",
   "metadata": {},
   "outputs": [],
   "source": []
  },
  {
   "cell_type": "code",
   "execution_count": null,
   "id": "d136d89e",
   "metadata": {},
   "outputs": [],
   "source": []
  },
  {
   "cell_type": "code",
   "execution_count": null,
   "id": "1322b5f2",
   "metadata": {},
   "outputs": [],
   "source": [
    "\n"
   ]
  }
 ],
 "metadata": {
  "kernelspec": {
   "display_name": "Python 3",
   "language": "python",
   "name": "python3"
  },
  "language_info": {
   "codemirror_mode": {
    "name": "ipython",
    "version": 3
   },
   "file_extension": ".py",
   "mimetype": "text/x-python",
   "name": "python",
   "nbconvert_exporter": "python",
   "pygments_lexer": "ipython3",
   "version": "3.8.8"
  }
 },
 "nbformat": 4,
 "nbformat_minor": 5
}
