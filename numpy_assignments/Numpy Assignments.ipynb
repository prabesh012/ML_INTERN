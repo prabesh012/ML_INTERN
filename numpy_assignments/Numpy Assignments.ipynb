{
 "cells": [
  {
   "cell_type": "code",
   "execution_count": 19,
   "id": "c5bf4669",
   "metadata": {},
   "outputs": [],
   "source": [
    "import numpy as np\n",
    "import matplotlib.pyplot as plt"
   ]
  },
  {
   "cell_type": "markdown",
   "id": "c59db2f2",
   "metadata": {},
   "source": [
    "- Create a Numpy Array containing numbers from 1 to 64\n",
    "- Plot the array as a line plot using matplotlib\n",
    "- Change the created array dimensions to 8 x 8\n",
    "- What happens if you:\n",
    "    - Change the 8x8 matrix shape to (2, 4)?\n",
    "    - Change the 8x8 matrix shape to (4, 2)?\n",
    "    - Change the 8x8 matrix shape to (3, 3)?\n",
    "    - Change the 8x8 matrix shape to (2, 2, 2)?\n",
    "    - Change the 8x8 matrix shape to (2, -1, 2)?\n"
   ]
  },
  {
   "cell_type": "code",
   "execution_count": 3,
   "id": "7c7e707d",
   "metadata": {},
   "outputs": [],
   "source": [
    "arr1 = np.arange(1,65)"
   ]
  },
  {
   "cell_type": "code",
   "execution_count": 4,
   "id": "7c95d4ed",
   "metadata": {},
   "outputs": [
    {
     "data": {
      "text/plain": [
       "array([ 1,  2,  3,  4,  5,  6,  7,  8,  9, 10, 11, 12, 13, 14, 15, 16, 17,\n",
       "       18, 19, 20, 21, 22, 23, 24, 25, 26, 27, 28, 29, 30, 31, 32, 33, 34,\n",
       "       35, 36, 37, 38, 39, 40, 41, 42, 43, 44, 45, 46, 47, 48, 49, 50, 51,\n",
       "       52, 53, 54, 55, 56, 57, 58, 59, 60, 61, 62, 63, 64])"
      ]
     },
     "execution_count": 4,
     "metadata": {},
     "output_type": "execute_result"
    }
   ],
   "source": [
    "arr1"
   ]
  },
  {
   "cell_type": "code",
   "execution_count": 5,
   "id": "7941ca6b",
   "metadata": {},
   "outputs": [
    {
     "data": {
      "image/png": "[encoded data removed]",
      "text/plain": [
       "<Figure size 432x288 with 1 Axes>"
      ]
     },
     "metadata": {
      "needs_background": "light"
     },
     "output_type": "display_data"
    }
   ],
   "source": [
    "plt.plot(arr1)\n",
    "plt.ylabel(\"Numbers\")\n",
    "plt.xlabel(\"Indices\")\n",
    "plt.title(\"PLOT\")\n",
    "plt.show()"
   ]
  },
  {
   "cell_type": "code",
   "execution_count": 6,
   "id": "9dd27db3",
   "metadata": {},
   "outputs": [
    {
     "data": {
      "text/plain": [
       "(64,)"
      ]
     },
     "execution_count": 6,
     "metadata": {},
     "output_type": "execute_result"
    }
   ],
   "source": [
    "arr1.shape"
   ]
  },
  {
   "cell_type": "code",
   "execution_count": 7,
   "id": "90c2497c",
   "metadata": {},
   "outputs": [
    {
     "data": {
      "text/plain": [
       "64"
      ]
     },
     "execution_count": 7,
     "metadata": {},
     "output_type": "execute_result"
    }
   ],
   "source": [
    "len(arr1)"
   ]
  },
  {
   "cell_type": "markdown",
   "id": "30f1d0c7",
   "metadata": {},
   "source": [
    "## While reshaping, the shape we provide into the args of reshape must have total elements equal to the product of individual numbers \n",
    "#### eg: 64 -> 8 x 8  "
   ]
  },
  {
   "cell_type": "code",
   "execution_count": 8,
   "id": "01275f8b",
   "metadata": {},
   "outputs": [],
   "source": [
    "r_arr1 = arr1.reshape((8,8))"
   ]
  },
  {
   "cell_type": "code",
   "execution_count": 9,
   "id": "67530e9f",
   "metadata": {},
   "outputs": [
    {
     "data": {
      "text/plain": [
       "array([[ 1,  2,  3,  4,  5,  6,  7,  8],\n",
       "       [ 9, 10, 11, 12, 13, 14, 15, 16],\n",
       "       [17, 18, 19, 20, 21, 22, 23, 24],\n",
       "       [25, 26, 27, 28, 29, 30, 31, 32],\n",
       "       [33, 34, 35, 36, 37, 38, 39, 40],\n",
       "       [41, 42, 43, 44, 45, 46, 47, 48],\n",
       "       [49, 50, 51, 52, 53, 54, 55, 56],\n",
       "       [57, 58, 59, 60, 61, 62, 63, 64]])"
      ]
     },
     "execution_count": 9,
     "metadata": {},
     "output_type": "execute_result"
    }
   ],
   "source": [
    "r_arr1"
   ]
  },
  {
   "cell_type": "code",
   "execution_count": 10,
   "id": "c8ca6031",
   "metadata": {},
   "outputs": [
    {
     "data": {
      "text/plain": [
       "(8, 8)"
      ]
     },
     "execution_count": 10,
     "metadata": {},
     "output_type": "execute_result"
    }
   ],
   "source": [
    "r_arr1.shape"
   ]
  },
  {
   "cell_type": "markdown",
   "id": "d8a4a0e5",
   "metadata": {},
   "source": [
    "### We cannot reshape 8 x 8 to 2 x 4 "
   ]
  },
  {
   "cell_type": "code",
   "execution_count": 11,
   "id": "566dbb9f",
   "metadata": {},
   "outputs": [
    {
     "ename": "ValueError",
     "evalue": "cannot reshape array of size 64 into shape (2,4)",
     "output_type": "error",
     "traceback": [
      "\u001b[0;31m---------------------------------------------------------------------------\u001b[0m",
      "\u001b[0;31mValueError\u001b[0m                                Traceback (most recent call last)",
      "\u001b[0;32m<ipython-input-11-2b1cc407a76f>\u001b[0m in \u001b[0;36m<module>\u001b[0;34m\u001b[0m\n\u001b[0;32m----> 1\u001b[0;31m \u001b[0mr_arr1\u001b[0m\u001b[0;34m.\u001b[0m\u001b[0mreshape\u001b[0m\u001b[0;34m(\u001b[0m\u001b[0;36m2\u001b[0m\u001b[0;34m,\u001b[0m\u001b[0;36m4\u001b[0m\u001b[0;34m)\u001b[0m\u001b[0;34m\u001b[0m\u001b[0;34m\u001b[0m\u001b[0m\n\u001b[0m",
      "\u001b[0;31mValueError\u001b[0m: cannot reshape array of size 64 into shape (2,4)"
     ]
    }
   ],
   "source": [
    "r_arr1.reshape(2,4)"
   ]
  },
  {
   "cell_type": "markdown",
   "id": "9e058669",
   "metadata": {},
   "source": [
    "### We cannot reshape 8 x 8 to 4 x 2 "
   ]
  },
  {
   "cell_type": "code",
   "execution_count": 12,
   "id": "720b404c",
   "metadata": {},
   "outputs": [
    {
     "ename": "ValueError",
     "evalue": "cannot reshape array of size 64 into shape (4,2)",
     "output_type": "error",
     "traceback": [
      "\u001b[0;31m---------------------------------------------------------------------------\u001b[0m",
      "\u001b[0;31mValueError\u001b[0m                                Traceback (most recent call last)",
      "\u001b[0;32m<ipython-input-12-34744316339b>\u001b[0m in \u001b[0;36m<module>\u001b[0;34m\u001b[0m\n\u001b[0;32m----> 1\u001b[0;31m \u001b[0mr_arr1\u001b[0m\u001b[0;34m.\u001b[0m\u001b[0mreshape\u001b[0m\u001b[0;34m(\u001b[0m\u001b[0;36m4\u001b[0m\u001b[0;34m,\u001b[0m\u001b[0;36m2\u001b[0m\u001b[0;34m)\u001b[0m\u001b[0;34m\u001b[0m\u001b[0;34m\u001b[0m\u001b[0m\n\u001b[0m",
      "\u001b[0;31mValueError\u001b[0m: cannot reshape array of size 64 into shape (4,2)"
     ]
    }
   ],
   "source": [
    "r_arr1.reshape(4,2)"
   ]
  },
  {
   "cell_type": "markdown",
   "id": "f0e49046",
   "metadata": {},
   "source": [
    "### We cannot reshape 8 x 8 to 3 x 3 "
   ]
  },
  {
   "cell_type": "code",
   "execution_count": 13,
   "id": "6a384b4b",
   "metadata": {},
   "outputs": [
    {
     "ename": "ValueError",
     "evalue": "cannot reshape array of size 64 into shape (3,3)",
     "output_type": "error",
     "traceback": [
      "\u001b[0;31m---------------------------------------------------------------------------\u001b[0m",
      "\u001b[0;31mValueError\u001b[0m                                Traceback (most recent call last)",
      "\u001b[0;32m<ipython-input-13-97d93e8d9354>\u001b[0m in \u001b[0;36m<module>\u001b[0;34m\u001b[0m\n\u001b[0;32m----> 1\u001b[0;31m \u001b[0mr_arr1\u001b[0m\u001b[0;34m.\u001b[0m\u001b[0mreshape\u001b[0m\u001b[0;34m(\u001b[0m\u001b[0;36m3\u001b[0m\u001b[0;34m,\u001b[0m\u001b[0;36m3\u001b[0m\u001b[0;34m)\u001b[0m\u001b[0;34m\u001b[0m\u001b[0;34m\u001b[0m\u001b[0m\n\u001b[0m",
      "\u001b[0;31mValueError\u001b[0m: cannot reshape array of size 64 into shape (3,3)"
     ]
    }
   ],
   "source": [
    "r_arr1.reshape(3,3)"
   ]
  },
  {
   "cell_type": "markdown",
   "id": "d43d62e9",
   "metadata": {},
   "source": [
    "### We cannot reshape 8 x 8 to 2 x 2 x 2"
   ]
  },
  {
   "cell_type": "code",
   "execution_count": 14,
   "id": "f2cc5ef1",
   "metadata": {},
   "outputs": [
    {
     "ename": "ValueError",
     "evalue": "cannot reshape array of size 64 into shape (2,2,2)",
     "output_type": "error",
     "traceback": [
      "\u001b[0;31m---------------------------------------------------------------------------\u001b[0m",
      "\u001b[0;31mValueError\u001b[0m                                Traceback (most recent call last)",
      "\u001b[0;32m<ipython-input-14-70483a20ee65>\u001b[0m in \u001b[0;36m<module>\u001b[0;34m\u001b[0m\n\u001b[0;32m----> 1\u001b[0;31m \u001b[0mr_arr1\u001b[0m\u001b[0;34m.\u001b[0m\u001b[0mreshape\u001b[0m\u001b[0;34m(\u001b[0m\u001b[0;36m2\u001b[0m\u001b[0;34m,\u001b[0m\u001b[0;36m2\u001b[0m\u001b[0;34m,\u001b[0m\u001b[0;36m2\u001b[0m\u001b[0;34m)\u001b[0m\u001b[0;34m\u001b[0m\u001b[0;34m\u001b[0m\u001b[0m\n\u001b[0m",
      "\u001b[0;31mValueError\u001b[0m: cannot reshape array of size 64 into shape (2,2,2)"
     ]
    }
   ],
   "source": [
    "r_arr1.reshape(2,2,2)"
   ]
  },
  {
   "cell_type": "markdown",
   "id": "74c2da41",
   "metadata": {},
   "source": [
    "### We can reshape 8 x 8 to 2 x -1 x 2"
   ]
  },
  {
   "cell_type": "code",
   "execution_count": 15,
   "id": "6a982397",
   "metadata": {},
   "outputs": [
    {
     "data": {
      "text/plain": [
       "array([[[ 1,  2],\n",
       "        [ 3,  4],\n",
       "        [ 5,  6],\n",
       "        [ 7,  8],\n",
       "        [ 9, 10],\n",
       "        [11, 12],\n",
       "        [13, 14],\n",
       "        [15, 16],\n",
       "        [17, 18],\n",
       "        [19, 20],\n",
       "        [21, 22],\n",
       "        [23, 24],\n",
       "        [25, 26],\n",
       "        [27, 28],\n",
       "        [29, 30],\n",
       "        [31, 32]],\n",
       "\n",
       "       [[33, 34],\n",
       "        [35, 36],\n",
       "        [37, 38],\n",
       "        [39, 40],\n",
       "        [41, 42],\n",
       "        [43, 44],\n",
       "        [45, 46],\n",
       "        [47, 48],\n",
       "        [49, 50],\n",
       "        [51, 52],\n",
       "        [53, 54],\n",
       "        [55, 56],\n",
       "        [57, 58],\n",
       "        [59, 60],\n",
       "        [61, 62],\n",
       "        [63, 64]]])"
      ]
     },
     "execution_count": 15,
     "metadata": {},
     "output_type": "execute_result"
    }
   ],
   "source": [
    "r_arr1.reshape(2,-1,2)"
   ]
  },
  {
   "cell_type": "markdown",
   "id": "6edb1b98",
   "metadata": {},
   "source": [
    "- Create a new array containing numbers from 0-7\n",
    "    - What is the shape of the array?\n",
    "    - What happens if you add the array to the 8x8 matrix?\n",
    "    - What happens if you resize the array to (1, 8) and add to the 8x8 matrix?\n",
    "    - What happens if you resize the array to (8, 1) and add to the 8x8 matrix?\n",
    "    - (Hint:- You may want to look at Broadcasting)\n",
    "    - Write your findings and observations down in the cell below\n"
   ]
  },
  {
   "cell_type": "code",
   "execution_count": 16,
   "id": "0022846a",
   "metadata": {},
   "outputs": [],
   "source": [
    "arr2 = np.arange(8)"
   ]
  },
  {
   "cell_type": "code",
   "execution_count": 17,
   "id": "80a7c8a3",
   "metadata": {},
   "outputs": [
    {
     "data": {
      "text/plain": [
       "array([0, 1, 2, 3, 4, 5, 6, 7])"
      ]
     },
     "execution_count": 17,
     "metadata": {},
     "output_type": "execute_result"
    }
   ],
   "source": [
    "arr2"
   ]
  },
  {
   "cell_type": "code",
   "execution_count": 26,
   "id": "cb835944",
   "metadata": {},
   "outputs": [
    {
     "data": {
      "text/plain": [
       "(8,)"
      ]
     },
     "execution_count": 26,
     "metadata": {},
     "output_type": "execute_result"
    }
   ],
   "source": [
    "arr2.shape"
   ]
  },
  {
   "cell_type": "code",
   "execution_count": 27,
   "id": "a232a0dd",
   "metadata": {},
   "outputs": [
    {
     "name": "stdout",
     "output_type": "stream",
     "text": [
      "[[ 1  2  3  4  5  6  7  8]\n",
      " [ 9 10 11 12 13 14 15 16]\n",
      " [17 18 19 20 21 22 23 24]\n",
      " [25 26 27 28 29 30 31 32]\n",
      " [33 34 35 36 37 38 39 40]\n",
      " [41 42 43 44 45 46 47 48]\n",
      " [49 50 51 52 53 54 55 56]\n",
      " [57 58 59 60 61 62 63 64]]\n"
     ]
    }
   ],
   "source": [
    "print(r_arr1)"
   ]
  },
  {
   "cell_type": "code",
   "execution_count": 28,
   "id": "7a02bb86",
   "metadata": {},
   "outputs": [
    {
     "name": "stdout",
     "output_type": "stream",
     "text": [
      "[0 1 2 3 4 5 6 7]\n"
     ]
    }
   ],
   "source": [
    "print(arr2)"
   ]
  },
  {
   "cell_type": "code",
   "execution_count": 29,
   "id": "7dadda4f",
   "metadata": {},
   "outputs": [
    {
     "data": {
      "text/plain": [
       "array([[ 1,  3,  5,  7,  9, 11, 13, 15],\n",
       "       [ 9, 11, 13, 15, 17, 19, 21, 23],\n",
       "       [17, 19, 21, 23, 25, 27, 29, 31],\n",
       "       [25, 27, 29, 31, 33, 35, 37, 39],\n",
       "       [33, 35, 37, 39, 41, 43, 45, 47],\n",
       "       [41, 43, 45, 47, 49, 51, 53, 55],\n",
       "       [49, 51, 53, 55, 57, 59, 61, 63],\n",
       "       [57, 59, 61, 63, 65, 67, 69, 71]])"
      ]
     },
     "execution_count": 29,
     "metadata": {},
     "output_type": "execute_result"
    }
   ],
   "source": [
    "r_arr1 + arr2"
   ]
  },
  {
   "cell_type": "code",
   "execution_count": 30,
   "id": "1c0a1ff4",
   "metadata": {},
   "outputs": [
    {
     "data": {
      "text/plain": [
       "array([[ 1,  3,  5,  7,  9, 11, 13, 15],\n",
       "       [ 9, 11, 13, 15, 17, 19, 21, 23],\n",
       "       [17, 19, 21, 23, 25, 27, 29, 31],\n",
       "       [25, 27, 29, 31, 33, 35, 37, 39],\n",
       "       [33, 35, 37, 39, 41, 43, 45, 47],\n",
       "       [41, 43, 45, 47, 49, 51, 53, 55],\n",
       "       [49, 51, 53, 55, 57, 59, 61, 63],\n",
       "       [57, 59, 61, 63, 65, 67, 69, 71]])"
      ]
     },
     "execution_count": 30,
     "metadata": {},
     "output_type": "execute_result"
    }
   ],
   "source": [
    "arr2 + r_arr1"
   ]
  },
  {
   "cell_type": "code",
   "execution_count": 36,
   "id": "39949226",
   "metadata": {},
   "outputs": [],
   "source": [
    "r_arr2 = arr2.reshape((1,8))"
   ]
  },
  {
   "cell_type": "code",
   "execution_count": 37,
   "id": "75f459c5",
   "metadata": {},
   "outputs": [
    {
     "data": {
      "text/plain": [
       "array([[0, 1, 2, 3, 4, 5, 6, 7]])"
      ]
     },
     "execution_count": 37,
     "metadata": {},
     "output_type": "execute_result"
    }
   ],
   "source": [
    "r_arr2"
   ]
  },
  {
   "cell_type": "code",
   "execution_count": 38,
   "id": "df85bef5",
   "metadata": {},
   "outputs": [
    {
     "data": {
      "text/plain": [
       "(1, 8)"
      ]
     },
     "execution_count": 38,
     "metadata": {},
     "output_type": "execute_result"
    }
   ],
   "source": [
    "r_arr2.shape"
   ]
  },
  {
   "cell_type": "code",
   "execution_count": 39,
   "id": "7b0f2a55",
   "metadata": {},
   "outputs": [
    {
     "data": {
      "text/plain": [
       "array([[ 1,  3,  5,  7,  9, 11, 13, 15],\n",
       "       [ 9, 11, 13, 15, 17, 19, 21, 23],\n",
       "       [17, 19, 21, 23, 25, 27, 29, 31],\n",
       "       [25, 27, 29, 31, 33, 35, 37, 39],\n",
       "       [33, 35, 37, 39, 41, 43, 45, 47],\n",
       "       [41, 43, 45, 47, 49, 51, 53, 55],\n",
       "       [49, 51, 53, 55, 57, 59, 61, 63],\n",
       "       [57, 59, 61, 63, 65, 67, 69, 71]])"
      ]
     },
     "execution_count": 39,
     "metadata": {},
     "output_type": "execute_result"
    }
   ],
   "source": [
    "r_arr2 + r_arr1"
   ]
  },
  {
   "cell_type": "code",
   "execution_count": 40,
   "id": "a941782d",
   "metadata": {},
   "outputs": [
    {
     "data": {
      "text/plain": [
       "array([[ 1,  3,  5,  7,  9, 11, 13, 15],\n",
       "       [ 9, 11, 13, 15, 17, 19, 21, 23],\n",
       "       [17, 19, 21, 23, 25, 27, 29, 31],\n",
       "       [25, 27, 29, 31, 33, 35, 37, 39],\n",
       "       [33, 35, 37, 39, 41, 43, 45, 47],\n",
       "       [41, 43, 45, 47, 49, 51, 53, 55],\n",
       "       [49, 51, 53, 55, 57, 59, 61, 63],\n",
       "       [57, 59, 61, 63, 65, 67, 69, 71]])"
      ]
     },
     "execution_count": 40,
     "metadata": {},
     "output_type": "execute_result"
    }
   ],
   "source": [
    "r_arr1 + r_arr2"
   ]
  },
  {
   "cell_type": "code",
   "execution_count": 44,
   "id": "b71f2971",
   "metadata": {},
   "outputs": [
    {
     "data": {
      "text/plain": [
       "array([[0],\n",
       "       [1],\n",
       "       [2],\n",
       "       [3],\n",
       "       [4],\n",
       "       [5],\n",
       "       [6],\n",
       "       [7]])"
      ]
     },
     "execution_count": 44,
     "metadata": {},
     "output_type": "execute_result"
    }
   ],
   "source": [
    "r_arr2_2 =arr2.reshape((8,1))\n",
    "r_arr2_2"
   ]
  },
  {
   "cell_type": "code",
   "execution_count": 43,
   "id": "29839ffd",
   "metadata": {},
   "outputs": [
    {
     "data": {
      "text/plain": [
       "(8, 1)"
      ]
     },
     "execution_count": 43,
     "metadata": {},
     "output_type": "execute_result"
    }
   ],
   "source": [
    "r_arr2_2.shape"
   ]
  },
  {
   "cell_type": "code",
   "execution_count": 49,
   "id": "92ba629c",
   "metadata": {},
   "outputs": [
    {
     "data": {
      "text/plain": [
       "array([[0],\n",
       "       [1],\n",
       "       [2],\n",
       "       [3],\n",
       "       [4],\n",
       "       [5],\n",
       "       [6],\n",
       "       [7]])"
      ]
     },
     "execution_count": 49,
     "metadata": {},
     "output_type": "execute_result"
    }
   ],
   "source": [
    "r_arr2_2"
   ]
  },
  {
   "cell_type": "code",
   "execution_count": 50,
   "id": "97b7abd4",
   "metadata": {},
   "outputs": [
    {
     "data": {
      "text/plain": [
       "array([[ 1,  2,  3,  4,  5,  6,  7,  8],\n",
       "       [ 9, 10, 11, 12, 13, 14, 15, 16],\n",
       "       [17, 18, 19, 20, 21, 22, 23, 24],\n",
       "       [25, 26, 27, 28, 29, 30, 31, 32],\n",
       "       [33, 34, 35, 36, 37, 38, 39, 40],\n",
       "       [41, 42, 43, 44, 45, 46, 47, 48],\n",
       "       [49, 50, 51, 52, 53, 54, 55, 56],\n",
       "       [57, 58, 59, 60, 61, 62, 63, 64]])"
      ]
     },
     "execution_count": 50,
     "metadata": {},
     "output_type": "execute_result"
    }
   ],
   "source": [
    "r_arr1"
   ]
  },
  {
   "cell_type": "code",
   "execution_count": 51,
   "id": "49fa92e3",
   "metadata": {},
   "outputs": [
    {
     "data": {
      "text/plain": [
       "array([[ 1,  2,  3,  4,  5,  6,  7,  8],\n",
       "       [10, 11, 12, 13, 14, 15, 16, 17],\n",
       "       [19, 20, 21, 22, 23, 24, 25, 26],\n",
       "       [28, 29, 30, 31, 32, 33, 34, 35],\n",
       "       [37, 38, 39, 40, 41, 42, 43, 44],\n",
       "       [46, 47, 48, 49, 50, 51, 52, 53],\n",
       "       [55, 56, 57, 58, 59, 60, 61, 62],\n",
       "       [64, 65, 66, 67, 68, 69, 70, 71]])"
      ]
     },
     "execution_count": 51,
     "metadata": {},
     "output_type": "execute_result"
    }
   ],
   "source": [
    "r_arr2_2 + r_arr1"
   ]
  },
  {
   "cell_type": "code",
   "execution_count": 52,
   "id": "2c85cbfd",
   "metadata": {},
   "outputs": [
    {
     "data": {
      "text/plain": [
       "array([[ 1,  2,  3,  4,  5,  6,  7,  8],\n",
       "       [10, 11, 12, 13, 14, 15, 16, 17],\n",
       "       [19, 20, 21, 22, 23, 24, 25, 26],\n",
       "       [28, 29, 30, 31, 32, 33, 34, 35],\n",
       "       [37, 38, 39, 40, 41, 42, 43, 44],\n",
       "       [46, 47, 48, 49, 50, 51, 52, 53],\n",
       "       [55, 56, 57, 58, 59, 60, 61, 62],\n",
       "       [64, 65, 66, 67, 68, 69, 70, 71]])"
      ]
     },
     "execution_count": 52,
     "metadata": {},
     "output_type": "execute_result"
    }
   ],
   "source": [
    "r_arr1 + r_arr2_2 "
   ]
  },
  {
   "cell_type": "markdown",
   "id": "fa9f8346",
   "metadata": {},
   "source": [
    "## It seems like the vectors are added to all the elements in the fashion they are laid out."
   ]
  },
  {
   "cell_type": "markdown",
   "id": "10cea349",
   "metadata": {},
   "source": [
    "- Create a matrix containing random numbers of size 4x4\n",
    "    - Pad the matrix with zeros to create a matrix of size 6x6\n",
    "    - Write to crop the 6x6 matrix back into the original 4x4 matrix (Numpy array indexing may be useful?)\n"
   ]
  },
  {
   "cell_type": "code",
   "execution_count": 155,
   "id": "5b321c12",
   "metadata": {},
   "outputs": [],
   "source": [
    "random_arr = np.random.randint(100,size=16).reshape(4,4)"
   ]
  },
  {
   "cell_type": "code",
   "execution_count": 156,
   "id": "a02c1cf6",
   "metadata": {},
   "outputs": [
    {
     "data": {
      "text/plain": [
       "array([[86,  3, 92,  9],\n",
       "       [82,  4, 21, 85],\n",
       "       [24, 71,  9, 25],\n",
       "       [62, 47, 24, 73]])"
      ]
     },
     "execution_count": 156,
     "metadata": {},
     "output_type": "execute_result"
    }
   ],
   "source": [
    "random_arr"
   ]
  },
  {
   "cell_type": "code",
   "execution_count": 157,
   "id": "37f9df05",
   "metadata": {},
   "outputs": [],
   "source": [
    "zeros = np.zeros(4,dtype='int32')"
   ]
  },
  {
   "cell_type": "code",
   "execution_count": 158,
   "id": "927532f8",
   "metadata": {},
   "outputs": [
    {
     "data": {
      "text/plain": [
       "array([0, 0, 0, 0], dtype=int32)"
      ]
     },
     "execution_count": 158,
     "metadata": {},
     "output_type": "execute_result"
    }
   ],
   "source": [
    "zeros"
   ]
  },
  {
   "cell_type": "code",
   "execution_count": 159,
   "id": "bc9a7fca",
   "metadata": {},
   "outputs": [],
   "source": [
    "r_random_arr = np.pad(random_arr,((1,1),(1,1)))"
   ]
  },
  {
   "cell_type": "code",
   "execution_count": 160,
   "id": "9194e768",
   "metadata": {},
   "outputs": [
    {
     "data": {
      "text/plain": [
       "array([[ 0,  0,  0,  0,  0,  0],\n",
       "       [ 0, 86,  3, 92,  9,  0],\n",
       "       [ 0, 82,  4, 21, 85,  0],\n",
       "       [ 0, 24, 71,  9, 25,  0],\n",
       "       [ 0, 62, 47, 24, 73,  0],\n",
       "       [ 0,  0,  0,  0,  0,  0]])"
      ]
     },
     "execution_count": 160,
     "metadata": {},
     "output_type": "execute_result"
    }
   ],
   "source": [
    "r_random_arr"
   ]
  },
  {
   "cell_type": "code",
   "execution_count": 161,
   "id": "69473265",
   "metadata": {},
   "outputs": [
    {
     "data": {
      "text/plain": [
       "(6, 6)"
      ]
     },
     "execution_count": 161,
     "metadata": {},
     "output_type": "execute_result"
    }
   ],
   "source": [
    "r_random_arr.shape"
   ]
  },
  {
   "cell_type": "code",
   "execution_count": 162,
   "id": "a6e62f63",
   "metadata": {},
   "outputs": [
    {
     "data": {
      "text/plain": [
       "array([[86,  3, 92,  9],\n",
       "       [82,  4, 21, 85],\n",
       "       [24, 71,  9, 25],\n",
       "       [62, 47, 24, 73]])"
      ]
     },
     "execution_count": 162,
     "metadata": {},
     "output_type": "execute_result"
    }
   ],
   "source": [
    "c_random_arr = r_random_arr[1:5,1:5].copy()\n",
    "c_random_arr"
   ]
  },
  {
   "cell_type": "markdown",
   "id": "7953714c",
   "metadata": {},
   "source": [
    "- Create two matrices of shape (2, 4) and perform the following, if possible:\n",
    "    - Element wise multiplication\n",
    "    - How to transpose the matrix?\n",
    "    - Can they be multiplied together (matrix multiplication)? If yes, perform the multiplication, else show a way to multiply the matrices together.\n"
   ]
  },
  {
   "cell_type": "code",
   "execution_count": 163,
   "id": "2889cb9a",
   "metadata": {},
   "outputs": [],
   "source": [
    "first_arr = np.random.randint(10,size=2*4).reshape(2,4)"
   ]
  },
  {
   "cell_type": "code",
   "execution_count": 170,
   "id": "64086da2",
   "metadata": {},
   "outputs": [
    {
     "data": {
      "text/plain": [
       "array([[1, 8, 9, 3],\n",
       "       [0, 7, 8, 1]])"
      ]
     },
     "execution_count": 170,
     "metadata": {},
     "output_type": "execute_result"
    }
   ],
   "source": [
    "first_arr"
   ]
  },
  {
   "cell_type": "code",
   "execution_count": 171,
   "id": "2d6c380b",
   "metadata": {},
   "outputs": [
    {
     "data": {
      "text/plain": [
       "(2, 4)"
      ]
     },
     "execution_count": 171,
     "metadata": {},
     "output_type": "execute_result"
    }
   ],
   "source": [
    "first_arr.shape"
   ]
  },
  {
   "cell_type": "code",
   "execution_count": 166,
   "id": "3b8edbc8",
   "metadata": {},
   "outputs": [],
   "source": [
    "second_arr = np.random.randint(10,size=2*4).reshape(2,4)"
   ]
  },
  {
   "cell_type": "code",
   "execution_count": 172,
   "id": "1c1defb6",
   "metadata": {},
   "outputs": [
    {
     "data": {
      "text/plain": [
       "array([[2, 6, 6, 3],\n",
       "       [9, 9, 5, 4]])"
      ]
     },
     "execution_count": 172,
     "metadata": {},
     "output_type": "execute_result"
    }
   ],
   "source": [
    "second_arr"
   ]
  },
  {
   "cell_type": "code",
   "execution_count": 173,
   "id": "86e081bb",
   "metadata": {},
   "outputs": [
    {
     "data": {
      "text/plain": [
       "(2, 4)"
      ]
     },
     "execution_count": 173,
     "metadata": {},
     "output_type": "execute_result"
    }
   ],
   "source": [
    "second_arr.shape"
   ]
  },
  {
   "cell_type": "code",
   "execution_count": 174,
   "id": "283c0c68",
   "metadata": {},
   "outputs": [
    {
     "data": {
      "text/plain": [
       "array([[ 2, 48, 54,  9],\n",
       "       [ 0, 63, 40,  4]])"
      ]
     },
     "execution_count": 174,
     "metadata": {},
     "output_type": "execute_result"
    }
   ],
   "source": [
    "# ELEMENT WISE MULTIPLICATION\n",
    "first_arr * second_arr"
   ]
  },
  {
   "cell_type": "code",
   "execution_count": 175,
   "id": "a7b7044b",
   "metadata": {},
   "outputs": [
    {
     "data": {
      "text/plain": [
       "array([[1, 0],\n",
       "       [8, 7],\n",
       "       [9, 8],\n",
       "       [3, 1]])"
      ]
     },
     "execution_count": 175,
     "metadata": {},
     "output_type": "execute_result"
    }
   ],
   "source": [
    "first_arr.T"
   ]
  },
  {
   "cell_type": "code",
   "execution_count": 185,
   "id": "96929ae5",
   "metadata": {},
   "outputs": [
    {
     "data": {
      "text/plain": [
       "array([[2, 9],\n",
       "       [6, 9],\n",
       "       [6, 5],\n",
       "       [3, 4]])"
      ]
     },
     "execution_count": 185,
     "metadata": {},
     "output_type": "execute_result"
    }
   ],
   "source": [
    "second_arr.T"
   ]
  },
  {
   "cell_type": "markdown",
   "id": "6a644d62",
   "metadata": {},
   "source": [
    "### Cannot multipy"
   ]
  },
  {
   "cell_type": "code",
   "execution_count": 186,
   "id": "91fdfe7d",
   "metadata": {},
   "outputs": [
    {
     "ename": "ValueError",
     "evalue": "operands could not be broadcast together with shapes (2,4) (4,2) ",
     "output_type": "error",
     "traceback": [
      "\u001b[0;31m---------------------------------------------------------------------------\u001b[0m",
      "\u001b[0;31mValueError\u001b[0m                                Traceback (most recent call last)",
      "\u001b[0;32m<ipython-input-186-0abcc85170df>\u001b[0m in \u001b[0;36m<module>\u001b[0;34m\u001b[0m\n\u001b[0;32m----> 1\u001b[0;31m \u001b[0mfirst_arr\u001b[0m \u001b[0;34m*\u001b[0m \u001b[0msecond_arr\u001b[0m\u001b[0;34m.\u001b[0m\u001b[0mT\u001b[0m\u001b[0;34m\u001b[0m\u001b[0;34m\u001b[0m\u001b[0m\n\u001b[0m",
      "\u001b[0;31mValueError\u001b[0m: operands could not be broadcast together with shapes (2,4) (4,2) "
     ]
    }
   ],
   "source": [
    "first_arr * second_arr.T"
   ]
  },
  {
   "cell_type": "code",
   "execution_count": 183,
   "id": "4a3e2eb6",
   "metadata": {},
   "outputs": [
    {
     "data": {
      "text/plain": [
       "array([[113, 138],\n",
       "       [ 93, 107]])"
      ]
     },
     "execution_count": 183,
     "metadata": {},
     "output_type": "execute_result"
    }
   ],
   "source": [
    "first_arr.dot(second_arr.T)"
   ]
  },
  {
   "cell_type": "code",
   "execution_count": 184,
   "id": "19f5c48e",
   "metadata": {},
   "outputs": [
    {
     "data": {
      "text/plain": [
       "array([[113,  93],\n",
       "       [138, 107]])"
      ]
     },
     "execution_count": 184,
     "metadata": {},
     "output_type": "execute_result"
    }
   ],
   "source": [
    "second_arr.dot(first_arr.T)"
   ]
  },
  {
   "cell_type": "markdown",
   "id": "219b23bd",
   "metadata": {},
   "source": [
    "- Create the matrix shown below:\n",
    "![Alt text](https://lh5.googleusercontent.com/Mn3CjFwKAZ6tCI05NHQbMe8eCOBhwNpTqIX3M3IguQAp9p2Y-X9z5xGJAXPQ6kVK7UOXMhEE9yR3BU7Dl5jQWif_Lk3LK2inwm9WkJR0AHTsuVwtAGbcnLFfOXzxhL906cyJm_Te)\n",
    "    - Slice the array to obtain subarrays shown in each color\n",
    "    - Find the:\n",
    "        - unique elements in the array\n",
    "        - Number of unique elements\n",
    "        - The maximum element\n",
    "        - The minimum element\n",
    "        - The index of the maximum element\n",
    "        - The index of the minimum element\n",
    "        - The mean of the array\n",
    "        - The standard deviation\n",
    "    - Perform the following operations:\n",
    "        - Sum the array column wise (Read about axis in numpy)\n",
    "        - Sum the array row wise\n",
    "        - Find maximum element for each column\n",
    "        - Find maximum element for each row\n",
    "        - Find the mean across each column\n",
    "        - Find the mean across each row\n",
    "        - Change the datatype of the array to : int, float and object\n",
    "    - Considering that the rows represent each data point and columns represent the features which we will feed to a ML model, perform the following feature scaling operations (without SKLearn):\n",
    "        - Normalization\n",
    "        - Standardization\n"
   ]
  },
  {
   "cell_type": "code",
   "execution_count": 210,
   "id": "bd408db6",
   "metadata": {},
   "outputs": [],
   "source": [
    "new_arr = np.array([12,20,30,0,8,12,2,0,34,70,37,4,112,100,25,12]).reshape((4,4))"
   ]
  },
  {
   "cell_type": "code",
   "execution_count": 230,
   "id": "38cf093a",
   "metadata": {},
   "outputs": [
    {
     "data": {
      "text/plain": [
       "array([[ 12,  20,  30,   0],\n",
       "       [  8,  12,   2,   0],\n",
       "       [ 34,  70,  37,   4],\n",
       "       [112, 100,  25,  12]])"
      ]
     },
     "execution_count": 230,
     "metadata": {},
     "output_type": "execute_result"
    }
   ],
   "source": [
    "new_arr"
   ]
  },
  {
   "cell_type": "code",
   "execution_count": 212,
   "id": "30c0d521",
   "metadata": {},
   "outputs": [
    {
     "data": {
      "text/plain": [
       "(4, 4)"
      ]
     },
     "execution_count": 212,
     "metadata": {},
     "output_type": "execute_result"
    }
   ],
   "source": [
    "new_arr.shape"
   ]
  },
  {
   "cell_type": "code",
   "execution_count": 213,
   "id": "88e8e151",
   "metadata": {},
   "outputs": [
    {
     "data": {
      "text/plain": [
       "array([[12, 20],\n",
       "       [ 8, 12]])"
      ]
     },
     "execution_count": 213,
     "metadata": {},
     "output_type": "execute_result"
    }
   ],
   "source": [
    "red = new_arr[0:2,0:2]\n",
    "red"
   ]
  },
  {
   "cell_type": "code",
   "execution_count": 214,
   "id": "63691e2e",
   "metadata": {},
   "outputs": [
    {
     "data": {
      "text/plain": [
       "array([[30,  0],\n",
       "       [ 2,  0]])"
      ]
     },
     "execution_count": 214,
     "metadata": {},
     "output_type": "execute_result"
    }
   ],
   "source": [
    "yellow = new_arr[0:2,2:]\n",
    "yellow"
   ]
  },
  {
   "cell_type": "code",
   "execution_count": 215,
   "id": "e7e699c0",
   "metadata": {},
   "outputs": [
    {
     "data": {
      "text/plain": [
       "array([[ 34,  70],\n",
       "       [112, 100]])"
      ]
     },
     "execution_count": 215,
     "metadata": {},
     "output_type": "execute_result"
    }
   ],
   "source": [
    "purple = new_arr[2:,0:2]\n",
    "purple"
   ]
  },
  {
   "cell_type": "code",
   "execution_count": 216,
   "id": "867c0492",
   "metadata": {},
   "outputs": [
    {
     "data": {
      "text/plain": [
       "array([[37,  4],\n",
       "       [25, 12]])"
      ]
     },
     "execution_count": 216,
     "metadata": {},
     "output_type": "execute_result"
    }
   ],
   "source": [
    "green = new_arr[2:,2:]\n",
    "green"
   ]
  },
  {
   "cell_type": "code",
   "execution_count": 217,
   "id": "544201b2",
   "metadata": {},
   "outputs": [],
   "source": [
    "u_new_arr = np.unique(new_arr)"
   ]
  },
  {
   "cell_type": "code",
   "execution_count": 218,
   "id": "e06a1d56",
   "metadata": {},
   "outputs": [
    {
     "data": {
      "text/plain": [
       "array([  0,   2,   4,   8,  12,  20,  25,  30,  34,  37,  70, 100, 112])"
      ]
     },
     "execution_count": 218,
     "metadata": {},
     "output_type": "execute_result"
    }
   ],
   "source": [
    "u_new_arr"
   ]
  },
  {
   "cell_type": "code",
   "execution_count": 219,
   "id": "fd929447",
   "metadata": {},
   "outputs": [
    {
     "data": {
      "text/plain": [
       "(13,)"
      ]
     },
     "execution_count": 219,
     "metadata": {},
     "output_type": "execute_result"
    }
   ],
   "source": [
    "u_new_arr.shape"
   ]
  },
  {
   "cell_type": "code",
   "execution_count": 220,
   "id": "2d0c4102",
   "metadata": {},
   "outputs": [
    {
     "data": {
      "text/plain": [
       "13"
      ]
     },
     "execution_count": 220,
     "metadata": {},
     "output_type": "execute_result"
    }
   ],
   "source": [
    "len(u_new_arr)"
   ]
  },
  {
   "cell_type": "code",
   "execution_count": 222,
   "id": "24ec2e24",
   "metadata": {},
   "outputs": [
    {
     "data": {
      "text/plain": [
       "112"
      ]
     },
     "execution_count": 222,
     "metadata": {},
     "output_type": "execute_result"
    }
   ],
   "source": [
    "u_new_arr.max()"
   ]
  },
  {
   "cell_type": "code",
   "execution_count": 223,
   "id": "da75ec3b",
   "metadata": {},
   "outputs": [
    {
     "data": {
      "text/plain": [
       "0"
      ]
     },
     "execution_count": 223,
     "metadata": {},
     "output_type": "execute_result"
    }
   ],
   "source": [
    "u_new_arr.min()"
   ]
  },
  {
   "cell_type": "code",
   "execution_count": 227,
   "id": "90d7ee78",
   "metadata": {},
   "outputs": [
    {
     "data": {
      "text/plain": [
       "12"
      ]
     },
     "execution_count": 227,
     "metadata": {},
     "output_type": "execute_result"
    }
   ],
   "source": [
    "u_new_arr.argmax()"
   ]
  },
  {
   "cell_type": "code",
   "execution_count": 226,
   "id": "66fda638",
   "metadata": {},
   "outputs": [
    {
     "data": {
      "text/plain": [
       "0"
      ]
     },
     "execution_count": 226,
     "metadata": {},
     "output_type": "execute_result"
    }
   ],
   "source": [
    "u_new_arr.argmin()"
   ]
  },
  {
   "cell_type": "code",
   "execution_count": 228,
   "id": "482e7795",
   "metadata": {},
   "outputs": [
    {
     "data": {
      "text/plain": [
       "34.92307692307692"
      ]
     },
     "execution_count": 228,
     "metadata": {},
     "output_type": "execute_result"
    }
   ],
   "source": [
    "u_new_arr.mean()"
   ]
  },
  {
   "cell_type": "code",
   "execution_count": 229,
   "id": "8405bba4",
   "metadata": {},
   "outputs": [
    {
     "data": {
      "text/plain": [
       "35.37374414941015"
      ]
     },
     "execution_count": 229,
     "metadata": {},
     "output_type": "execute_result"
    }
   ],
   "source": [
    "u_new_arr.std()"
   ]
  },
  {
   "cell_type": "code",
   "execution_count": 241,
   "id": "5390b52b",
   "metadata": {},
   "outputs": [
    {
     "data": {
      "text/plain": [
       "array([[ 12,  20,  30,   0],\n",
       "       [  8,  12,   2,   0],\n",
       "       [ 34,  70,  37,   4],\n",
       "       [112, 100,  25,  12]])"
      ]
     },
     "execution_count": 241,
     "metadata": {},
     "output_type": "execute_result"
    }
   ],
   "source": [
    "new_arr"
   ]
  },
  {
   "cell_type": "code",
   "execution_count": 244,
   "id": "a8e13c35",
   "metadata": {},
   "outputs": [
    {
     "data": {
      "text/plain": [
       "array([ 62,  22, 145, 249])"
      ]
     },
     "execution_count": 244,
     "metadata": {},
     "output_type": "execute_result"
    }
   ],
   "source": [
    "new_arr.sum(axis=1)"
   ]
  },
  {
   "cell_type": "code",
   "execution_count": 245,
   "id": "e255b878",
   "metadata": {},
   "outputs": [
    {
     "data": {
      "text/plain": [
       "array([166, 202,  94,  16])"
      ]
     },
     "execution_count": 245,
     "metadata": {},
     "output_type": "execute_result"
    }
   ],
   "source": [
    "new_arr.sum(axis=0)"
   ]
  },
  {
   "cell_type": "code",
   "execution_count": 246,
   "id": "136317e4",
   "metadata": {},
   "outputs": [
    {
     "data": {
      "text/plain": [
       "array([ 30,  12,  70, 112])"
      ]
     },
     "execution_count": 246,
     "metadata": {},
     "output_type": "execute_result"
    }
   ],
   "source": [
    "new_arr.max(axis=1)"
   ]
  },
  {
   "cell_type": "code",
   "execution_count": 247,
   "id": "b4effe47",
   "metadata": {},
   "outputs": [
    {
     "data": {
      "text/plain": [
       "array([112, 100,  37,  12])"
      ]
     },
     "execution_count": 247,
     "metadata": {},
     "output_type": "execute_result"
    }
   ],
   "source": [
    "new_arr.max(axis=0)"
   ]
  },
  {
   "cell_type": "code",
   "execution_count": 248,
   "id": "f0960ab8",
   "metadata": {},
   "outputs": [
    {
     "data": {
      "text/plain": [
       "array([15.5 ,  5.5 , 36.25, 62.25])"
      ]
     },
     "execution_count": 248,
     "metadata": {},
     "output_type": "execute_result"
    }
   ],
   "source": [
    "new_arr.mean(axis=1)"
   ]
  },
  {
   "cell_type": "code",
   "execution_count": 249,
   "id": "6b4d4528",
   "metadata": {},
   "outputs": [
    {
     "data": {
      "text/plain": [
       "array([41.5, 50.5, 23.5,  4. ])"
      ]
     },
     "execution_count": 249,
     "metadata": {},
     "output_type": "execute_result"
    }
   ],
   "source": [
    "new_arr.mean(axis=0)"
   ]
  },
  {
   "cell_type": "code",
   "execution_count": 261,
   "id": "8c91739f",
   "metadata": {},
   "outputs": [],
   "source": [
    "i_new_arr = new_arr.astype('int')"
   ]
  },
  {
   "cell_type": "code",
   "execution_count": 262,
   "id": "a548e364",
   "metadata": {},
   "outputs": [
    {
     "data": {
      "text/plain": [
       "array([[ 12,  20,  30,   0],\n",
       "       [  8,  12,   2,   0],\n",
       "       [ 34,  70,  37,   4],\n",
       "       [112, 100,  25,  12]])"
      ]
     },
     "execution_count": 262,
     "metadata": {},
     "output_type": "execute_result"
    }
   ],
   "source": [
    "i_new_arr"
   ]
  },
  {
   "cell_type": "code",
   "execution_count": 263,
   "id": "2bd3bec8",
   "metadata": {},
   "outputs": [],
   "source": [
    "f_new_arr = new_arr.astype('float')"
   ]
  },
  {
   "cell_type": "code",
   "execution_count": 264,
   "id": "e11bde48",
   "metadata": {},
   "outputs": [
    {
     "data": {
      "text/plain": [
       "array([[ 12.,  20.,  30.,   0.],\n",
       "       [  8.,  12.,   2.,   0.],\n",
       "       [ 34.,  70.,  37.,   4.],\n",
       "       [112., 100.,  25.,  12.]])"
      ]
     },
     "execution_count": 264,
     "metadata": {},
     "output_type": "execute_result"
    }
   ],
   "source": [
    "f_new_arr"
   ]
  },
  {
   "cell_type": "code",
   "execution_count": 265,
   "id": "b2d7df6f",
   "metadata": {},
   "outputs": [],
   "source": [
    "o_new_arr = new_arr.astype('object')"
   ]
  },
  {
   "cell_type": "code",
   "execution_count": 266,
   "id": "daf765ff",
   "metadata": {},
   "outputs": [
    {
     "data": {
      "text/plain": [
       "array([[12, 20, 30, 0],\n",
       "       [8, 12, 2, 0],\n",
       "       [34, 70, 37, 4],\n",
       "       [112, 100, 25, 12]], dtype=object)"
      ]
     },
     "execution_count": 266,
     "metadata": {},
     "output_type": "execute_result"
    }
   ],
   "source": [
    "o_new_arr"
   ]
  },
  {
   "cell_type": "code",
   "execution_count": 267,
   "id": "0dac3aab",
   "metadata": {},
   "outputs": [
    {
     "data": {
      "text/plain": [
       "array([[ 12,  20,  30,   0],\n",
       "       [  8,  12,   2,   0],\n",
       "       [ 34,  70,  37,   4],\n",
       "       [112, 100,  25,  12]])"
      ]
     },
     "execution_count": 267,
     "metadata": {},
     "output_type": "execute_result"
    }
   ],
   "source": [
    "new_arr"
   ]
  },
  {
   "cell_type": "code",
   "execution_count": 278,
   "id": "d5ab34bf",
   "metadata": {},
   "outputs": [],
   "source": [
    "class Standardizer:\n",
    "    \n",
    "    def fit(self,data):\n",
    "        self.__mean = np.mean(data)\n",
    "        self.__std = np.std(data)\n",
    "        \n",
    "    def transform(self,data):\n",
    "        return (data - self.__mean)/self.__std"
   ]
  },
  {
   "cell_type": "code",
   "execution_count": 279,
   "id": "6cea5fa7",
   "metadata": {},
   "outputs": [],
   "source": [
    "std_scaler = Standardizer()"
   ]
  },
  {
   "cell_type": "code",
   "execution_count": 280,
   "id": "36e78fa2",
   "metadata": {},
   "outputs": [],
   "source": [
    "std_scaler.fit(new_arr)"
   ]
  },
  {
   "cell_type": "code",
   "execution_count": 308,
   "id": "4c4f97d0",
   "metadata": {},
   "outputs": [
    {
     "data": {
      "text/plain": [
       "array([[-0.53101909, -0.2933602 ,  0.00371342, -0.88750743],\n",
       "       [-0.64984854, -0.53101909, -0.82809271, -0.88750743],\n",
       "       [ 0.12254287,  1.19200789,  0.21166495, -0.76867798],\n",
       "       [ 2.43971708,  2.08322874, -0.14482339, -0.53101909]])"
      ]
     },
     "execution_count": 308,
     "metadata": {},
     "output_type": "execute_result"
    }
   ],
   "source": [
    "std_scaler.transform(new_arr)"
   ]
  },
  {
   "cell_type": "code",
   "execution_count": 293,
   "id": "c4c3f47e",
   "metadata": {},
   "outputs": [],
   "source": [
    "class Normalizer:\n",
    "    \n",
    "    def fit(self,data):\n",
    "        self.__min = np.min(data)\n",
    "        self.__max = np.max(data)\n",
    "        \n",
    "    def transform(self,data):\n",
    "        return (data - self.__min)/(self.__max - self.__min)"
   ]
  },
  {
   "cell_type": "code",
   "execution_count": 294,
   "id": "ab394271",
   "metadata": {},
   "outputs": [],
   "source": [
    "normal_scaler = Normalizer()"
   ]
  },
  {
   "cell_type": "code",
   "execution_count": 295,
   "id": "c0717876",
   "metadata": {},
   "outputs": [],
   "source": [
    "normal_scaler.fit(new_arr)"
   ]
  },
  {
   "cell_type": "code",
   "execution_count": 296,
   "id": "a2cde8d9",
   "metadata": {},
   "outputs": [
    {
     "data": {
      "text/plain": [
       "array([[0.10714286, 0.17857143, 0.26785714, 0.        ],\n",
       "       [0.07142857, 0.10714286, 0.01785714, 0.        ],\n",
       "       [0.30357143, 0.625     , 0.33035714, 0.03571429],\n",
       "       [1.        , 0.89285714, 0.22321429, 0.10714286]])"
      ]
     },
     "execution_count": 296,
     "metadata": {},
     "output_type": "execute_result"
    }
   ],
   "source": [
    "normal_scaler.transform(new_arr)"
   ]
  },
  {
   "cell_type": "markdown",
   "id": "7e513332",
   "metadata": {},
   "source": [
    "Load an image using opencv, which gives you a numpy array and inspect its shape. Interpret the shape of the array.\n",
    "- Plot each color channel individually using matplotlib\n"
   ]
  },
  {
   "cell_type": "code",
   "execution_count": 43,
   "id": "d0bb871b",
   "metadata": {},
   "outputs": [],
   "source": [
    "import cv2"
   ]
  },
  {
   "cell_type": "code",
   "execution_count": 114,
   "id": "e034f000",
   "metadata": {},
   "outputs": [
    {
     "data": {
      "text/plain": [
       "array([[229, 229, 229, ...,  22,  22,  22],\n",
       "       [229, 228, 228, ...,  22,  22,  22],\n",
       "       [228, 227, 227, ...,  22,  22,  22],\n",
       "       ...,\n",
       "       [  6,   7,   8, ...,   9,   9,   9],\n",
       "       [  6,   7,   8, ...,   9,   9,   9],\n",
       "       [  6,   7,   8, ...,   9,   9,   9]], dtype=uint8)"
      ]
     },
     "execution_count": 114,
     "metadata": {},
     "output_type": "execute_result"
    }
   ],
   "source": [
    "img_gs = cv2.imread('/home/prabesh013/Pictures/Wallpapers/wp3864527.jpg', 0)\n",
    "img_gs"
   ]
  },
  {
   "cell_type": "code",
   "execution_count": 115,
   "id": "8e2ea3de",
   "metadata": {},
   "outputs": [
    {
     "data": {
      "text/plain": [
       "dtype('uint8')"
      ]
     },
     "execution_count": 115,
     "metadata": {},
     "output_type": "execute_result"
    }
   ],
   "source": [
    "img_gs.dtype"
   ]
  },
  {
   "cell_type": "code",
   "execution_count": 116,
   "id": "63837557",
   "metadata": {},
   "outputs": [
    {
     "data": {
      "text/plain": [
       "(2160, 3840)"
      ]
     },
     "execution_count": 116,
     "metadata": {},
     "output_type": "execute_result"
    }
   ],
   "source": [
    "img_gs.shape"
   ]
  },
  {
   "cell_type": "code",
   "execution_count": 102,
   "id": "a8322d01",
   "metadata": {},
   "outputs": [],
   "source": [
    "img_rgb = cv2.imread('/home/prabesh013/Pictures/Wallpapers/wp3864527.jpg', 1)"
   ]
  },
  {
   "cell_type": "code",
   "execution_count": 103,
   "id": "2853518b",
   "metadata": {},
   "outputs": [
    {
     "data": {
      "text/plain": [
       "(2160, 3840, 3)"
      ]
     },
     "execution_count": 103,
     "metadata": {},
     "output_type": "execute_result"
    }
   ],
   "source": [
    "img_rgb.shape"
   ]
  },
  {
   "cell_type": "code",
   "execution_count": 104,
   "id": "1e37acdf",
   "metadata": {},
   "outputs": [],
   "source": [
    "zeros = np.zeros(img_rgb.shape[:2],dtype=\"uint8\")"
   ]
  },
  {
   "cell_type": "code",
   "execution_count": 106,
   "id": "f251e17f",
   "metadata": {},
   "outputs": [],
   "source": [
    "b,g,r = cv2.split(img_rgb)"
   ]
  },
  {
   "cell_type": "code",
   "execution_count": 118,
   "id": "11a5172a",
   "metadata": {},
   "outputs": [
    {
     "data": {
      "text/plain": [
       "<matplotlib.image.AxesImage at 0x7fa49a150df0>"
      ]
     },
     "execution_count": 118,
     "metadata": {},
     "output_type": "execute_result"
    },
    {
     "data": {
      "image/png": "[encoded data removed]",
      "text/plain": [
       "<Figure size 432x288 with 1 Axes>"
      ]
     },
     "metadata": {
      "needs_background": "light"
     },
     "output_type": "display_data"
    }
   ],
   "source": [
    "red = cv2.merge([r,zeros,zeros])\n",
    "plt.imshow(red)"
   ]
  },
  {
   "cell_type": "code",
   "execution_count": 109,
   "id": "942d9083",
   "metadata": {},
   "outputs": [
    {
     "data": {
      "text/plain": [
       "<matplotlib.image.AxesImage at 0x7fa498e207f0>"
      ]
     },
     "execution_count": 109,
     "metadata": {},
     "output_type": "execute_result"
    },
    {
     "data": {
      "image/png": "[encoded data removed]",
      "text/plain": [
       "<Figure size 432x288 with 1 Axes>"
      ]
     },
     "metadata": {
      "needs_background": "light"
     },
     "output_type": "display_data"
    }
   ],
   "source": [
    "green = red = cv2.merge([zeros,g,zeros])\n",
    "plt.imshow(green)"
   ]
  },
  {
   "cell_type": "code",
   "execution_count": 120,
   "id": "6c1a3ac5",
   "metadata": {},
   "outputs": [
    {
     "data": {
      "text/plain": [
       "<matplotlib.image.AxesImage at 0x7fa49800d1f0>"
      ]
     },
     "execution_count": 120,
     "metadata": {},
     "output_type": "execute_result"
    },
    {
     "data": {
      "image/png": "[encoded data removed]",
      "text/plain": [
       "<Figure size 432x288 with 1 Axes>"
      ]
     },
     "metadata": {
      "needs_background": "light"
     },
     "output_type": "display_data"
    }
   ],
   "source": [
    "blue = cv2.merge([zeros,zeros,b])\n",
    "plt.imshow(blue)"
   ]
  },
  {
   "cell_type": "markdown",
   "id": "47e461b0",
   "metadata": {},
   "source": [
    "- Create a 3d matrix with 1s in the diagonal, 0 in all other positions"
   ]
  },
  {
   "cell_type": "code",
   "execution_count": 156,
   "id": "eca7f4cb",
   "metadata": {},
   "outputs": [
    {
     "data": {
      "text/plain": [
       "3"
      ]
     },
     "execution_count": 156,
     "metadata": {},
     "output_type": "execute_result"
    }
   ],
   "source": [
    "three_d = np.zeros((3,3,3),dtype=\"int\")\n",
    "three_d.ndim"
   ]
  },
  {
   "cell_type": "code",
   "execution_count": 157,
   "id": "12baae7b",
   "metadata": {},
   "outputs": [],
   "source": [
    "i,j,k = np.diag_indices(3,ndim=3)"
   ]
  },
  {
   "cell_type": "code",
   "execution_count": 158,
   "id": "3288776d",
   "metadata": {},
   "outputs": [],
   "source": [
    "three_d[i,j,k]=1"
   ]
  },
  {
   "cell_type": "code",
   "execution_count": 159,
   "id": "e0519ff7",
   "metadata": {},
   "outputs": [
    {
     "data": {
      "text/plain": [
       "array([[[1, 0, 0],\n",
       "        [0, 0, 0],\n",
       "        [0, 0, 0]],\n",
       "\n",
       "       [[0, 0, 0],\n",
       "        [0, 1, 0],\n",
       "        [0, 0, 0]],\n",
       "\n",
       "       [[0, 0, 0],\n",
       "        [0, 0, 0],\n",
       "        [0, 0, 1]]])"
      ]
     },
     "execution_count": 159,
     "metadata": {},
     "output_type": "execute_result"
    }
   ],
   "source": [
    "three_d"
   ]
  },
  {
   "cell_type": "markdown",
   "id": "5d59c6e8",
   "metadata": {},
   "source": [
    "- Implement 1d convolution in numpy. Given any (1, n) shape array, it should perform convolution with a given (1, m) array"
   ]
  },
  {
   "cell_type": "code",
   "execution_count": null,
   "id": "3aea90a7",
   "metadata": {},
   "outputs": [],
   "source": []
  }
 ],
 "metadata": {
  "kernelspec": {
   "display_name": "Python 3",
   "language": "python",
   "name": "python3"
  },
  "language_info": {
   "codemirror_mode": {
    "name": "ipython",
    "version": 3
   },
   "file_extension": ".py",
   "mimetype": "text/x-python",
   "name": "python",
   "nbconvert_exporter": "python",
   "pygments_lexer": "ipython3",
   "version": "3.8.5"
  }
 },
 "nbformat": 4,
 "nbformat_minor": 5
}
