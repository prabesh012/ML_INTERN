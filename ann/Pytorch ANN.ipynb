{
 "cells": [
  {
   "cell_type": "code",
   "execution_count": 1,
   "id": "a09f8940",
   "metadata": {},
   "outputs": [],
   "source": [
    "import numpy as np\n",
    "import pandas as pd\n",
    "import matplotlib.pyplot as plt\n",
    "import seaborn as sns"
   ]
  },
  {
   "cell_type": "code",
   "execution_count": 2,
   "id": "fcd27f0b",
   "metadata": {},
   "outputs": [],
   "source": [
    "train_df = pd.read_csv('../application_train.csv')"
   ]
  },
  {
   "cell_type": "code",
   "execution_count": 3,
   "id": "12eef825",
   "metadata": {},
   "outputs": [
    {
     "data": {
      "text/html": [
       "<div>\n",
       "<style scoped>\n",
       "    .dataframe tbody tr th:only-of-type {\n",
       "        vertical-align: middle;\n",
       "    }\n",
       "\n",
       "    .dataframe tbody tr th {\n",
       "        vertical-align: top;\n",
       "    }\n",
       "\n",
       "    .dataframe thead th {\n",
       "        text-align: right;\n",
       "    }\n",
       "</style>\n",
       "<table border=\"1\" class=\"dataframe\">\n",
       "  <thead>\n",
       "    <tr style=\"text-align: right;\">\n",
       "      <th></th>\n",
       "      <th>SK_ID_CURR</th>\n",
       "      <th>TARGET</th>\n",
       "      <th>NAME_CONTRACT_TYPE</th>\n",
       "      <th>CODE_GENDER</th>\n",
       "      <th>FLAG_OWN_CAR</th>\n",
       "      <th>FLAG_OWN_REALTY</th>\n",
       "      <th>CNT_CHILDREN</th>\n",
       "      <th>AMT_INCOME_TOTAL</th>\n",
       "      <th>AMT_CREDIT</th>\n",
       "      <th>AMT_ANNUITY</th>\n",
       "      <th>...</th>\n",
       "      <th>FLAG_DOCUMENT_18</th>\n",
       "      <th>FLAG_DOCUMENT_19</th>\n",
       "      <th>FLAG_DOCUMENT_20</th>\n",
       "      <th>FLAG_DOCUMENT_21</th>\n",
       "      <th>AMT_REQ_CREDIT_BUREAU_HOUR</th>\n",
       "      <th>AMT_REQ_CREDIT_BUREAU_DAY</th>\n",
       "      <th>AMT_REQ_CREDIT_BUREAU_WEEK</th>\n",
       "      <th>AMT_REQ_CREDIT_BUREAU_MON</th>\n",
       "      <th>AMT_REQ_CREDIT_BUREAU_QRT</th>\n",
       "      <th>AMT_REQ_CREDIT_BUREAU_YEAR</th>\n",
       "    </tr>\n",
       "  </thead>\n",
       "  <tbody>\n",
       "    <tr>\n",
       "      <th>0</th>\n",
       "      <td>100002</td>\n",
       "      <td>1</td>\n",
       "      <td>Cash loans</td>\n",
       "      <td>M</td>\n",
       "      <td>N</td>\n",
       "      <td>Y</td>\n",
       "      <td>0</td>\n",
       "      <td>202500.0</td>\n",
       "      <td>406597.5</td>\n",
       "      <td>24700.5</td>\n",
       "      <td>...</td>\n",
       "      <td>0</td>\n",
       "      <td>0</td>\n",
       "      <td>0</td>\n",
       "      <td>0</td>\n",
       "      <td>0.0</td>\n",
       "      <td>0.0</td>\n",
       "      <td>0.0</td>\n",
       "      <td>0.0</td>\n",
       "      <td>0.0</td>\n",
       "      <td>1.0</td>\n",
       "    </tr>\n",
       "    <tr>\n",
       "      <th>1</th>\n",
       "      <td>100003</td>\n",
       "      <td>0</td>\n",
       "      <td>Cash loans</td>\n",
       "      <td>F</td>\n",
       "      <td>N</td>\n",
       "      <td>N</td>\n",
       "      <td>0</td>\n",
       "      <td>270000.0</td>\n",
       "      <td>1293502.5</td>\n",
       "      <td>35698.5</td>\n",
       "      <td>...</td>\n",
       "      <td>0</td>\n",
       "      <td>0</td>\n",
       "      <td>0</td>\n",
       "      <td>0</td>\n",
       "      <td>0.0</td>\n",
       "      <td>0.0</td>\n",
       "      <td>0.0</td>\n",
       "      <td>0.0</td>\n",
       "      <td>0.0</td>\n",
       "      <td>0.0</td>\n",
       "    </tr>\n",
       "    <tr>\n",
       "      <th>2</th>\n",
       "      <td>100004</td>\n",
       "      <td>0</td>\n",
       "      <td>Revolving loans</td>\n",
       "      <td>M</td>\n",
       "      <td>Y</td>\n",
       "      <td>Y</td>\n",
       "      <td>0</td>\n",
       "      <td>67500.0</td>\n",
       "      <td>135000.0</td>\n",
       "      <td>6750.0</td>\n",
       "      <td>...</td>\n",
       "      <td>0</td>\n",
       "      <td>0</td>\n",
       "      <td>0</td>\n",
       "      <td>0</td>\n",
       "      <td>0.0</td>\n",
       "      <td>0.0</td>\n",
       "      <td>0.0</td>\n",
       "      <td>0.0</td>\n",
       "      <td>0.0</td>\n",
       "      <td>0.0</td>\n",
       "    </tr>\n",
       "    <tr>\n",
       "      <th>3</th>\n",
       "      <td>100006</td>\n",
       "      <td>0</td>\n",
       "      <td>Cash loans</td>\n",
       "      <td>F</td>\n",
       "      <td>N</td>\n",
       "      <td>Y</td>\n",
       "      <td>0</td>\n",
       "      <td>135000.0</td>\n",
       "      <td>312682.5</td>\n",
       "      <td>29686.5</td>\n",
       "      <td>...</td>\n",
       "      <td>0</td>\n",
       "      <td>0</td>\n",
       "      <td>0</td>\n",
       "      <td>0</td>\n",
       "      <td>NaN</td>\n",
       "      <td>NaN</td>\n",
       "      <td>NaN</td>\n",
       "      <td>NaN</td>\n",
       "      <td>NaN</td>\n",
       "      <td>NaN</td>\n",
       "    </tr>\n",
       "    <tr>\n",
       "      <th>4</th>\n",
       "      <td>100007</td>\n",
       "      <td>0</td>\n",
       "      <td>Cash loans</td>\n",
       "      <td>M</td>\n",
       "      <td>N</td>\n",
       "      <td>Y</td>\n",
       "      <td>0</td>\n",
       "      <td>121500.0</td>\n",
       "      <td>513000.0</td>\n",
       "      <td>21865.5</td>\n",
       "      <td>...</td>\n",
       "      <td>0</td>\n",
       "      <td>0</td>\n",
       "      <td>0</td>\n",
       "      <td>0</td>\n",
       "      <td>0.0</td>\n",
       "      <td>0.0</td>\n",
       "      <td>0.0</td>\n",
       "      <td>0.0</td>\n",
       "      <td>0.0</td>\n",
       "      <td>0.0</td>\n",
       "    </tr>\n",
       "    <tr>\n",
       "      <th>...</th>\n",
       "      <td>...</td>\n",
       "      <td>...</td>\n",
       "      <td>...</td>\n",
       "      <td>...</td>\n",
       "      <td>...</td>\n",
       "      <td>...</td>\n",
       "      <td>...</td>\n",
       "      <td>...</td>\n",
       "      <td>...</td>\n",
       "      <td>...</td>\n",
       "      <td>...</td>\n",
       "      <td>...</td>\n",
       "      <td>...</td>\n",
       "      <td>...</td>\n",
       "      <td>...</td>\n",
       "      <td>...</td>\n",
       "      <td>...</td>\n",
       "      <td>...</td>\n",
       "      <td>...</td>\n",
       "      <td>...</td>\n",
       "      <td>...</td>\n",
       "    </tr>\n",
       "    <tr>\n",
       "      <th>307506</th>\n",
       "      <td>456251</td>\n",
       "      <td>0</td>\n",
       "      <td>Cash loans</td>\n",
       "      <td>M</td>\n",
       "      <td>N</td>\n",
       "      <td>N</td>\n",
       "      <td>0</td>\n",
       "      <td>157500.0</td>\n",
       "      <td>254700.0</td>\n",
       "      <td>27558.0</td>\n",
       "      <td>...</td>\n",
       "      <td>0</td>\n",
       "      <td>0</td>\n",
       "      <td>0</td>\n",
       "      <td>0</td>\n",
       "      <td>NaN</td>\n",
       "      <td>NaN</td>\n",
       "      <td>NaN</td>\n",
       "      <td>NaN</td>\n",
       "      <td>NaN</td>\n",
       "      <td>NaN</td>\n",
       "    </tr>\n",
       "    <tr>\n",
       "      <th>307507</th>\n",
       "      <td>456252</td>\n",
       "      <td>0</td>\n",
       "      <td>Cash loans</td>\n",
       "      <td>F</td>\n",
       "      <td>N</td>\n",
       "      <td>Y</td>\n",
       "      <td>0</td>\n",
       "      <td>72000.0</td>\n",
       "      <td>269550.0</td>\n",
       "      <td>12001.5</td>\n",
       "      <td>...</td>\n",
       "      <td>0</td>\n",
       "      <td>0</td>\n",
       "      <td>0</td>\n",
       "      <td>0</td>\n",
       "      <td>NaN</td>\n",
       "      <td>NaN</td>\n",
       "      <td>NaN</td>\n",
       "      <td>NaN</td>\n",
       "      <td>NaN</td>\n",
       "      <td>NaN</td>\n",
       "    </tr>\n",
       "    <tr>\n",
       "      <th>307508</th>\n",
       "      <td>456253</td>\n",
       "      <td>0</td>\n",
       "      <td>Cash loans</td>\n",
       "      <td>F</td>\n",
       "      <td>N</td>\n",
       "      <td>Y</td>\n",
       "      <td>0</td>\n",
       "      <td>153000.0</td>\n",
       "      <td>677664.0</td>\n",
       "      <td>29979.0</td>\n",
       "      <td>...</td>\n",
       "      <td>0</td>\n",
       "      <td>0</td>\n",
       "      <td>0</td>\n",
       "      <td>0</td>\n",
       "      <td>1.0</td>\n",
       "      <td>0.0</td>\n",
       "      <td>0.0</td>\n",
       "      <td>1.0</td>\n",
       "      <td>0.0</td>\n",
       "      <td>1.0</td>\n",
       "    </tr>\n",
       "    <tr>\n",
       "      <th>307509</th>\n",
       "      <td>456254</td>\n",
       "      <td>1</td>\n",
       "      <td>Cash loans</td>\n",
       "      <td>F</td>\n",
       "      <td>N</td>\n",
       "      <td>Y</td>\n",
       "      <td>0</td>\n",
       "      <td>171000.0</td>\n",
       "      <td>370107.0</td>\n",
       "      <td>20205.0</td>\n",
       "      <td>...</td>\n",
       "      <td>0</td>\n",
       "      <td>0</td>\n",
       "      <td>0</td>\n",
       "      <td>0</td>\n",
       "      <td>0.0</td>\n",
       "      <td>0.0</td>\n",
       "      <td>0.0</td>\n",
       "      <td>0.0</td>\n",
       "      <td>0.0</td>\n",
       "      <td>0.0</td>\n",
       "    </tr>\n",
       "    <tr>\n",
       "      <th>307510</th>\n",
       "      <td>456255</td>\n",
       "      <td>0</td>\n",
       "      <td>Cash loans</td>\n",
       "      <td>F</td>\n",
       "      <td>N</td>\n",
       "      <td>N</td>\n",
       "      <td>0</td>\n",
       "      <td>157500.0</td>\n",
       "      <td>675000.0</td>\n",
       "      <td>49117.5</td>\n",
       "      <td>...</td>\n",
       "      <td>0</td>\n",
       "      <td>0</td>\n",
       "      <td>0</td>\n",
       "      <td>0</td>\n",
       "      <td>0.0</td>\n",
       "      <td>0.0</td>\n",
       "      <td>0.0</td>\n",
       "      <td>2.0</td>\n",
       "      <td>0.0</td>\n",
       "      <td>1.0</td>\n",
       "    </tr>\n",
       "  </tbody>\n",
       "</table>\n",
       "<p>307511 rows × 122 columns</p>\n",
       "</div>"
      ],
      "text/plain": [
       "        SK_ID_CURR  TARGET NAME_CONTRACT_TYPE CODE_GENDER FLAG_OWN_CAR  \\\n",
       "0           100002       1         Cash loans           M            N   \n",
       "1           100003       0         Cash loans           F            N   \n",
       "2           100004       0    Revolving loans           M            Y   \n",
       "3           100006       0         Cash loans           F            N   \n",
       "4           100007       0         Cash loans           M            N   \n",
       "...            ...     ...                ...         ...          ...   \n",
       "307506      456251       0         Cash loans           M            N   \n",
       "307507      456252       0         Cash loans           F            N   \n",
       "307508      456253       0         Cash loans           F            N   \n",
       "307509      456254       1         Cash loans           F            N   \n",
       "307510      456255       0         Cash loans           F            N   \n",
       "\n",
       "       FLAG_OWN_REALTY  CNT_CHILDREN  AMT_INCOME_TOTAL  AMT_CREDIT  \\\n",
       "0                    Y             0          202500.0    406597.5   \n",
       "1                    N             0          270000.0   1293502.5   \n",
       "2                    Y             0           67500.0    135000.0   \n",
       "3                    Y             0          135000.0    312682.5   \n",
       "4                    Y             0          121500.0    513000.0   \n",
       "...                ...           ...               ...         ...   \n",
       "307506               N             0          157500.0    254700.0   \n",
       "307507               Y             0           72000.0    269550.0   \n",
       "307508               Y             0          153000.0    677664.0   \n",
       "307509               Y             0          171000.0    370107.0   \n",
       "307510               N             0          157500.0    675000.0   \n",
       "\n",
       "        AMT_ANNUITY  ...  FLAG_DOCUMENT_18 FLAG_DOCUMENT_19 FLAG_DOCUMENT_20  \\\n",
       "0           24700.5  ...                 0                0                0   \n",
       "1           35698.5  ...                 0                0                0   \n",
       "2            6750.0  ...                 0                0                0   \n",
       "3           29686.5  ...                 0                0                0   \n",
       "4           21865.5  ...                 0                0                0   \n",
       "...             ...  ...               ...              ...              ...   \n",
       "307506      27558.0  ...                 0                0                0   \n",
       "307507      12001.5  ...                 0                0                0   \n",
       "307508      29979.0  ...                 0                0                0   \n",
       "307509      20205.0  ...                 0                0                0   \n",
       "307510      49117.5  ...                 0                0                0   \n",
       "\n",
       "       FLAG_DOCUMENT_21 AMT_REQ_CREDIT_BUREAU_HOUR AMT_REQ_CREDIT_BUREAU_DAY  \\\n",
       "0                     0                        0.0                       0.0   \n",
       "1                     0                        0.0                       0.0   \n",
       "2                     0                        0.0                       0.0   \n",
       "3                     0                        NaN                       NaN   \n",
       "4                     0                        0.0                       0.0   \n",
       "...                 ...                        ...                       ...   \n",
       "307506                0                        NaN                       NaN   \n",
       "307507                0                        NaN                       NaN   \n",
       "307508                0                        1.0                       0.0   \n",
       "307509                0                        0.0                       0.0   \n",
       "307510                0                        0.0                       0.0   \n",
       "\n",
       "        AMT_REQ_CREDIT_BUREAU_WEEK  AMT_REQ_CREDIT_BUREAU_MON  \\\n",
       "0                              0.0                        0.0   \n",
       "1                              0.0                        0.0   \n",
       "2                              0.0                        0.0   \n",
       "3                              NaN                        NaN   \n",
       "4                              0.0                        0.0   \n",
       "...                            ...                        ...   \n",
       "307506                         NaN                        NaN   \n",
       "307507                         NaN                        NaN   \n",
       "307508                         0.0                        1.0   \n",
       "307509                         0.0                        0.0   \n",
       "307510                         0.0                        2.0   \n",
       "\n",
       "        AMT_REQ_CREDIT_BUREAU_QRT  AMT_REQ_CREDIT_BUREAU_YEAR  \n",
       "0                             0.0                         1.0  \n",
       "1                             0.0                         0.0  \n",
       "2                             0.0                         0.0  \n",
       "3                             NaN                         NaN  \n",
       "4                             0.0                         0.0  \n",
       "...                           ...                         ...  \n",
       "307506                        NaN                         NaN  \n",
       "307507                        NaN                         NaN  \n",
       "307508                        0.0                         1.0  \n",
       "307509                        0.0                         0.0  \n",
       "307510                        0.0                         1.0  \n",
       "\n",
       "[307511 rows x 122 columns]"
      ]
     },
     "execution_count": 3,
     "metadata": {},
     "output_type": "execute_result"
    }
   ],
   "source": [
    "train_df"
   ]
  },
  {
   "cell_type": "code",
   "execution_count": 4,
   "id": "c45cdaac",
   "metadata": {},
   "outputs": [
    {
     "data": {
      "text/plain": [
       "(307511, 122)"
      ]
     },
     "execution_count": 4,
     "metadata": {},
     "output_type": "execute_result"
    }
   ],
   "source": [
    "train_df.shape\n"
   ]
  },
  {
   "cell_type": "code",
   "execution_count": 5,
   "id": "b1a09904",
   "metadata": {},
   "outputs": [
    {
     "data": {
      "image/png": "[encoded data removed]",
      "text/plain": [
       "<Figure size 432x288 with 1 Axes>"
      ]
     },
     "metadata": {
      "needs_background": "light"
     },
     "output_type": "display_data"
    }
   ],
   "source": [
    "sns.countplot(x='TARGET',data=train_df);"
   ]
  },
  {
   "cell_type": "code",
   "execution_count": 6,
   "id": "7382304e",
   "metadata": {},
   "outputs": [
    {
     "data": {
      "text/plain": [
       "SK_ID_CURR                    False\n",
       "TARGET                        False\n",
       "NAME_CONTRACT_TYPE            False\n",
       "CODE_GENDER                   False\n",
       "FLAG_OWN_CAR                  False\n",
       "                              ...  \n",
       "AMT_REQ_CREDIT_BUREAU_DAY      True\n",
       "AMT_REQ_CREDIT_BUREAU_WEEK     True\n",
       "AMT_REQ_CREDIT_BUREAU_MON      True\n",
       "AMT_REQ_CREDIT_BUREAU_QRT      True\n",
       "AMT_REQ_CREDIT_BUREAU_YEAR     True\n",
       "Length: 122, dtype: bool"
      ]
     },
     "execution_count": 6,
     "metadata": {},
     "output_type": "execute_result"
    }
   ],
   "source": [
    "train_df.isna().sum() != 0"
   ]
  },
  {
   "cell_type": "code",
   "execution_count": 7,
   "id": "4dc616f5",
   "metadata": {},
   "outputs": [
    {
     "data": {
      "text/plain": [
       "(122,)"
      ]
     },
     "execution_count": 7,
     "metadata": {},
     "output_type": "execute_result"
    }
   ],
   "source": [
    "# no of columns\n",
    "train_df.columns.shape"
   ]
  },
  {
   "cell_type": "code",
   "execution_count": 8,
   "id": "787a00f9",
   "metadata": {},
   "outputs": [
    {
     "data": {
      "text/plain": [
       "(67,)"
      ]
     },
     "execution_count": 8,
     "metadata": {},
     "output_type": "execute_result"
    }
   ],
   "source": [
    "# no of columns with nan values\n",
    "train_df.columns[train_df.isna().sum() != 0].shape"
   ]
  },
  {
   "cell_type": "code",
   "execution_count": 9,
   "id": "7ff0652d",
   "metadata": {},
   "outputs": [],
   "source": [
    "cols_with_nan = train_df.columns[train_df.isna().sum() != 0]"
   ]
  },
  {
   "cell_type": "code",
   "execution_count": 10,
   "id": "36c3d6e2",
   "metadata": {},
   "outputs": [
    {
     "data": {
      "text/plain": [
       "(307511,)"
      ]
     },
     "execution_count": 10,
     "metadata": {},
     "output_type": "execute_result"
    }
   ],
   "source": [
    "(train_df.isna().sum(axis=1) != 0).shape"
   ]
  },
  {
   "cell_type": "code",
   "execution_count": 11,
   "id": "d3c495fc",
   "metadata": {},
   "outputs": [
    {
     "data": {
      "text/plain": [
       "(307511, 122)"
      ]
     },
     "execution_count": 11,
     "metadata": {},
     "output_type": "execute_result"
    }
   ],
   "source": [
    "train_df.shape"
   ]
  },
  {
   "cell_type": "code",
   "execution_count": 12,
   "id": "3b913513",
   "metadata": {},
   "outputs": [],
   "source": [
    "cols_with_50_perc_nan = {}\n",
    "for col,no_of_nans in train_df[train_df.columns[train_df.isna().sum() != 0]].isna().sum().sort_values(ascending=False).iteritems():\n",
    "    if (no_of_nans/train_df.shape[0]*100) > 50:\n",
    "        cols_with_50_perc_nan[col] = no_of_nans/train_df.shape[0]*100"
   ]
  },
  {
   "cell_type": "code",
   "execution_count": 13,
   "id": "48368f6f",
   "metadata": {},
   "outputs": [
    {
     "data": {
      "text/plain": [
       "41"
      ]
     },
     "execution_count": 13,
     "metadata": {},
     "output_type": "execute_result"
    }
   ],
   "source": [
    "len(cols_with_50_perc_nan)"
   ]
  },
  {
   "cell_type": "code",
   "execution_count": 14,
   "id": "d29794d4",
   "metadata": {},
   "outputs": [],
   "source": [
    "col_with_50_float_nan = [col for col,value in (train_df[cols_with_50_perc_nan].dtypes == 'float64').iteritems() if value]"
   ]
  },
  {
   "cell_type": "code",
   "execution_count": 15,
   "id": "265c013d",
   "metadata": {},
   "outputs": [
    {
     "data": {
      "text/plain": [
       "38"
      ]
     },
     "execution_count": 15,
     "metadata": {},
     "output_type": "execute_result"
    }
   ],
   "source": [
    "len(col_with_50_float_nan)"
   ]
  },
  {
   "cell_type": "code",
   "execution_count": 16,
   "id": "a84c4639",
   "metadata": {},
   "outputs": [],
   "source": [
    "train_df.drop(col_with_50_float_nan,axis=1,inplace=True)"
   ]
  },
  {
   "cell_type": "code",
   "execution_count": 17,
   "id": "8c1fa53a",
   "metadata": {},
   "outputs": [
    {
     "data": {
      "text/plain": [
       "(307511, 84)"
      ]
     },
     "execution_count": 17,
     "metadata": {},
     "output_type": "execute_result"
    }
   ],
   "source": [
    "train_df.shape"
   ]
  },
  {
   "cell_type": "code",
   "execution_count": 18,
   "id": "e2857959",
   "metadata": {},
   "outputs": [],
   "source": [
    "object_cols_name_with_nan = train_df.columns[train_df.dtypes == 'object'][train_df[train_df.columns[train_df.dtypes == 'object']].isna().sum() != 0]"
   ]
  },
  {
   "cell_type": "code",
   "execution_count": 19,
   "id": "6d2d718b",
   "metadata": {},
   "outputs": [],
   "source": [
    "non_numerical_cols_to_drop = ['FONDKAPREMONT_MODE','HOUSETYPE_MODE','WALLSMATERIAL_MODE']"
   ]
  },
  {
   "cell_type": "code",
   "execution_count": 20,
   "id": "3370cf8b",
   "metadata": {},
   "outputs": [],
   "source": [
    "train_df.drop(non_numerical_cols_to_drop,axis=1,inplace=True)"
   ]
  },
  {
   "cell_type": "code",
   "execution_count": 21,
   "id": "6c00a1cb",
   "metadata": {},
   "outputs": [
    {
     "data": {
      "text/plain": [
       "(307511, 81)"
      ]
     },
     "execution_count": 21,
     "metadata": {},
     "output_type": "execute_result"
    }
   ],
   "source": [
    "train_df.shape"
   ]
  },
  {
   "cell_type": "code",
   "execution_count": 22,
   "id": "becfc60a",
   "metadata": {},
   "outputs": [
    {
     "data": {
      "text/plain": [
       "(13,)"
      ]
     },
     "execution_count": 22,
     "metadata": {},
     "output_type": "execute_result"
    }
   ],
   "source": [
    "object_cols_name = train_df.columns[train_df.dtypes=='object']\n",
    "object_cols_name.shape"
   ]
  },
  {
   "cell_type": "code",
   "execution_count": 23,
   "id": "6602b9b6",
   "metadata": {},
   "outputs": [
    {
     "data": {
      "text/plain": [
       "NAME_CONTRACT_TYPE                 0\n",
       "CODE_GENDER                        0\n",
       "FLAG_OWN_CAR                       0\n",
       "FLAG_OWN_REALTY                    0\n",
       "NAME_TYPE_SUITE                 1292\n",
       "NAME_INCOME_TYPE                   0\n",
       "NAME_EDUCATION_TYPE                0\n",
       "NAME_FAMILY_STATUS                 0\n",
       "NAME_HOUSING_TYPE                  0\n",
       "OCCUPATION_TYPE                96391\n",
       "WEEKDAY_APPR_PROCESS_START         0\n",
       "ORGANIZATION_TYPE                  0\n",
       "EMERGENCYSTATE_MODE           145755\n",
       "dtype: int64"
      ]
     },
     "execution_count": 23,
     "metadata": {},
     "output_type": "execute_result"
    }
   ],
   "source": [
    "train_df[object_cols_name.values].isna().sum()"
   ]
  },
  {
   "cell_type": "code",
   "execution_count": 24,
   "id": "17027447",
   "metadata": {},
   "outputs": [],
   "source": [
    "train_df['NAME_TYPE_SUITE'] = train_df['NAME_TYPE_SUITE'].fillna('Unaccompanied')"
   ]
  },
  {
   "cell_type": "code",
   "execution_count": 25,
   "id": "0fbe1d26",
   "metadata": {},
   "outputs": [
    {
     "name": "stdout",
     "output_type": "stream",
     "text": [
      "211120\n",
      "['Laborers', 'Sales staff', 'Core staff', 'Managers', 'Drivers', 'High skill tech staff', 'Accountants', 'Medicine staff', 'Security staff', 'Cooking staff', 'Cleaning staff', 'Private service staff', 'Low-skill Laborers', 'Waiters/barmen staff', 'Secretaries', 'Realty agents', 'HR staff', 'IT staff']\n",
      "[0.2613963622584312, 0.15205570291777187, 0.13058923834785904, 0.10122679045092839, 0.08811576354679802, 0.053902993558165975, 0.046480674497915875, 0.04043671845395983, 0.031834975369458125, 0.028164077302008338, 0.02203959833270178, 0.012561576354679803, 0.009913793103448277, 0.006384994316028798, 0.006181318681318681, 0.00355721864342554, 0.0026667298219022356, 0.002491474043198181]\n"
     ]
    }
   ],
   "source": [
    "total = train_df['OCCUPATION_TYPE'].value_counts().sum()\n",
    "print(total)\n",
    "population = []\n",
    "weights = []\n",
    "for i,j in train_df['OCCUPATION_TYPE'].value_counts().iteritems():\n",
    "    population.append(i)\n",
    "    weights.append(j/total)\n",
    "print(population)\n",
    "print(weights)"
   ]
  },
  {
   "cell_type": "code",
   "execution_count": 26,
   "id": "3858c7ab",
   "metadata": {},
   "outputs": [],
   "source": [
    "import random\n",
    "occupation_filling_values = random.choices(population=population,weights=weights,k=96391)"
   ]
  },
  {
   "cell_type": "code",
   "execution_count": 27,
   "id": "7d8090d0",
   "metadata": {},
   "outputs": [],
   "source": [
    "def get_random_occupation():\n",
    "    return np.random.choice(occupation_filling_values)"
   ]
  },
  {
   "cell_type": "code",
   "execution_count": 28,
   "id": "6f0d338c",
   "metadata": {},
   "outputs": [],
   "source": [
    "train_df['OCCUPATION_TYPE'] = train_df['OCCUPATION_TYPE'].fillna(get_random_occupation())"
   ]
  },
  {
   "cell_type": "code",
   "execution_count": 29,
   "id": "3c624588",
   "metadata": {},
   "outputs": [
    {
     "name": "stdout",
     "output_type": "stream",
     "text": [
      "161756\n",
      "['No', 'Yes']\n",
      "[0.98560795271891, 0.014392047281090036]\n"
     ]
    }
   ],
   "source": [
    "total = train_df['EMERGENCYSTATE_MODE'].value_counts().sum()\n",
    "print(total)\n",
    "population = []\n",
    "weights = []\n",
    "for i,j in train_df['EMERGENCYSTATE_MODE'].value_counts().iteritems():\n",
    "    population.append(i)\n",
    "    weights.append(j/total)\n",
    "print(population)\n",
    "print(weights)"
   ]
  },
  {
   "cell_type": "code",
   "execution_count": 30,
   "id": "bbc56a67",
   "metadata": {},
   "outputs": [],
   "source": [
    "emergency_filling_values = random.choices(population=population,weights=weights,k=145755)"
   ]
  },
  {
   "cell_type": "code",
   "execution_count": 31,
   "id": "563e494a",
   "metadata": {},
   "outputs": [],
   "source": [
    "def get_random_emergency():\n",
    "    return np.random.choice(emergency_filling_values)"
   ]
  },
  {
   "cell_type": "code",
   "execution_count": 32,
   "id": "3ed981e9",
   "metadata": {},
   "outputs": [],
   "source": [
    "train_df['EMERGENCYSTATE_MODE'] = train_df['EMERGENCYSTATE_MODE'].fillna(get_random_emergency())"
   ]
  },
  {
   "cell_type": "code",
   "execution_count": 33,
   "id": "27a9b07a",
   "metadata": {},
   "outputs": [
    {
     "data": {
      "text/plain": [
       "NAME_CONTRACT_TYPE            0\n",
       "CODE_GENDER                   0\n",
       "FLAG_OWN_CAR                  0\n",
       "FLAG_OWN_REALTY               0\n",
       "NAME_TYPE_SUITE               0\n",
       "NAME_INCOME_TYPE              0\n",
       "NAME_EDUCATION_TYPE           0\n",
       "NAME_FAMILY_STATUS            0\n",
       "NAME_HOUSING_TYPE             0\n",
       "OCCUPATION_TYPE               0\n",
       "WEEKDAY_APPR_PROCESS_START    0\n",
       "ORGANIZATION_TYPE             0\n",
       "EMERGENCYSTATE_MODE           0\n",
       "dtype: int64"
      ]
     },
     "execution_count": 33,
     "metadata": {},
     "output_type": "execute_result"
    }
   ],
   "source": [
    "train_df[object_cols_name.values].isna().sum()"
   ]
  },
  {
   "cell_type": "code",
   "execution_count": 34,
   "id": "a9f7532f",
   "metadata": {},
   "outputs": [
    {
     "data": {
      "text/plain": [
       "Index(['AMT_ANNUITY', 'AMT_GOODS_PRICE', 'CNT_FAM_MEMBERS', 'EXT_SOURCE_2',\n",
       "       'EXT_SOURCE_3', 'YEARS_BEGINEXPLUATATION_AVG', 'FLOORSMAX_AVG',\n",
       "       'YEARS_BEGINEXPLUATATION_MODE', 'FLOORSMAX_MODE',\n",
       "       'YEARS_BEGINEXPLUATATION_MEDI', 'FLOORSMAX_MEDI', 'TOTALAREA_MODE',\n",
       "       'OBS_30_CNT_SOCIAL_CIRCLE', 'DEF_30_CNT_SOCIAL_CIRCLE',\n",
       "       'OBS_60_CNT_SOCIAL_CIRCLE', 'DEF_60_CNT_SOCIAL_CIRCLE',\n",
       "       'DAYS_LAST_PHONE_CHANGE', 'AMT_REQ_CREDIT_BUREAU_HOUR',\n",
       "       'AMT_REQ_CREDIT_BUREAU_DAY', 'AMT_REQ_CREDIT_BUREAU_WEEK',\n",
       "       'AMT_REQ_CREDIT_BUREAU_MON', 'AMT_REQ_CREDIT_BUREAU_QRT',\n",
       "       'AMT_REQ_CREDIT_BUREAU_YEAR'],\n",
       "      dtype='object')"
      ]
     },
     "execution_count": 34,
     "metadata": {},
     "output_type": "execute_result"
    }
   ],
   "source": [
    "\n",
    "float_nan_cols = train_df.columns[train_df.dtypes == 'float64'][train_df[train_df.columns[train_df.dtypes == 'float64']].isna().sum() != 0]\n",
    "float_nan_cols"
   ]
  },
  {
   "cell_type": "code",
   "execution_count": 35,
   "id": "697214ad",
   "metadata": {},
   "outputs": [],
   "source": [
    "float_cols_with_outliers = [col for col in float_nan_cols]"
   ]
  },
  {
   "cell_type": "code",
   "execution_count": 36,
   "id": "aecfe03e",
   "metadata": {},
   "outputs": [],
   "source": [
    "for col in float_cols_with_outliers:\n",
    "    median = train_df[col].median()\n",
    "    train_df[col] = train_df[col].fillna(median)"
   ]
  },
  {
   "cell_type": "code",
   "execution_count": 37,
   "id": "fdbccdac",
   "metadata": {},
   "outputs": [
    {
     "data": {
      "text/plain": [
       "AMT_ANNUITY                     0\n",
       "AMT_GOODS_PRICE                 0\n",
       "CNT_FAM_MEMBERS                 0\n",
       "EXT_SOURCE_2                    0\n",
       "EXT_SOURCE_3                    0\n",
       "YEARS_BEGINEXPLUATATION_AVG     0\n",
       "FLOORSMAX_AVG                   0\n",
       "YEARS_BEGINEXPLUATATION_MODE    0\n",
       "FLOORSMAX_MODE                  0\n",
       "YEARS_BEGINEXPLUATATION_MEDI    0\n",
       "FLOORSMAX_MEDI                  0\n",
       "TOTALAREA_MODE                  0\n",
       "OBS_30_CNT_SOCIAL_CIRCLE        0\n",
       "DEF_30_CNT_SOCIAL_CIRCLE        0\n",
       "OBS_60_CNT_SOCIAL_CIRCLE        0\n",
       "DEF_60_CNT_SOCIAL_CIRCLE        0\n",
       "DAYS_LAST_PHONE_CHANGE          0\n",
       "AMT_REQ_CREDIT_BUREAU_HOUR      0\n",
       "AMT_REQ_CREDIT_BUREAU_DAY       0\n",
       "AMT_REQ_CREDIT_BUREAU_WEEK      0\n",
       "AMT_REQ_CREDIT_BUREAU_MON       0\n",
       "AMT_REQ_CREDIT_BUREAU_QRT       0\n",
       "AMT_REQ_CREDIT_BUREAU_YEAR      0\n",
       "dtype: int64"
      ]
     },
     "execution_count": 37,
     "metadata": {},
     "output_type": "execute_result"
    }
   ],
   "source": [
    "train_df[float_nan_cols.values].isna().sum()"
   ]
  },
  {
   "cell_type": "code",
   "execution_count": 38,
   "id": "86ed9784",
   "metadata": {},
   "outputs": [],
   "source": [
    "from sklearn.preprocessing import RobustScaler"
   ]
  },
  {
   "cell_type": "code",
   "execution_count": 39,
   "id": "dfb6977f",
   "metadata": {},
   "outputs": [],
   "source": [
    "scaler = RobustScaler()\n",
    "scaler.fit(train_df[float_nan_cols])\n",
    "train_df[float_nan_cols] = scaler.transform(train_df[float_nan_cols])"
   ]
  },
  {
   "cell_type": "code",
   "execution_count": 40,
   "id": "637af2d3",
   "metadata": {},
   "outputs": [],
   "source": [
    "train_df = train_df.join(pd.get_dummies(train_df['NAME_CONTRACT_TYPE'],prefix='NAME_CONTRACT_TYPE'))\n",
    "train_df.drop('NAME_CONTRACT_TYPE',axis=1,inplace=True)"
   ]
  },
  {
   "cell_type": "code",
   "execution_count": 41,
   "id": "cca83321",
   "metadata": {},
   "outputs": [],
   "source": [
    "CODE_GENDER_mapping = {\n",
    "    \"M\": 1,\n",
    "    \"F\": 0,\n",
    "    \"XNA\": 0\n",
    "}\n",
    "\n",
    "train_df['CODE_GENDER'] = train_df['CODE_GENDER'].map(CODE_GENDER_mapping)"
   ]
  },
  {
   "cell_type": "code",
   "execution_count": 42,
   "id": "b49db83a",
   "metadata": {},
   "outputs": [],
   "source": [
    "FLAG_OWN_REALTY_mapping = {\n",
    "    'N':0,\n",
    "    'Y':1\n",
    "}\n",
    "train_df['FLAG_OWN_REALTY'] = train_df['FLAG_OWN_REALTY'].map(FLAG_OWN_REALTY_mapping)"
   ]
  },
  {
   "cell_type": "code",
   "execution_count": 43,
   "id": "0ddaf911",
   "metadata": {},
   "outputs": [],
   "source": [
    "FLAG_OWN_CAR_mapping = {\n",
    "    'N':0,\n",
    "    'Y':1\n",
    "}\n",
    "\n",
    "train_df['FLAG_OWN_CAR'] = train_df['FLAG_OWN_CAR'].map(FLAG_OWN_CAR_mapping)"
   ]
  },
  {
   "cell_type": "code",
   "execution_count": 44,
   "id": "a98c9781",
   "metadata": {},
   "outputs": [],
   "source": [
    "NAME_EDUCATION_TYPE_mapping = {\n",
    "    'Academic degree':4,\n",
    "    'Higher education':3, \n",
    "    'Incomplete higher':2, \n",
    "    'Lower secondary':0, \n",
    "    'Secondary / secondary special':1\n",
    "}\n",
    "train_df['NAME_EDUCATION_TYPE'] = train_df['NAME_EDUCATION_TYPE'].map(NAME_EDUCATION_TYPE_mapping)"
   ]
  },
  {
   "cell_type": "code",
   "execution_count": 45,
   "id": "1513ed65",
   "metadata": {},
   "outputs": [],
   "source": [
    "EMERGENCYSTATE_MODE_mapping = {\n",
    "    'No': 0,\n",
    "    'Yes':1\n",
    "}\n",
    "train_df['EMERGENCYSTATE_MODE'] = train_df['EMERGENCYSTATE_MODE'].map(EMERGENCYSTATE_MODE_mapping)"
   ]
  },
  {
   "cell_type": "code",
   "execution_count": 46,
   "id": "558a733e",
   "metadata": {},
   "outputs": [],
   "source": [
    "\n",
    "cols_for_encoding = ['NAME_TYPE_SUITE',\n",
    "                           'NAME_INCOME_TYPE',\n",
    "                           'NAME_FAMILY_STATUS',\n",
    "                           'NAME_HOUSING_TYPE',\n",
    "                           'OCCUPATION_TYPE',\n",
    "                           'WEEKDAY_APPR_PROCESS_START',\n",
    "                           'ORGANIZATION_TYPE'\n",
    "                          ]\n",
    "for col in cols_for_encoding:\n",
    "    mapped_value = train_df.groupby([col])['TARGET'].mean().to_dict()\n",
    "    train_df[col] = train_df[col].map(mapped_value)"
   ]
  },
  {
   "cell_type": "code",
   "execution_count": 47,
   "id": "52048984",
   "metadata": {},
   "outputs": [],
   "source": [
    "from imblearn.under_sampling import RandomUnderSampler"
   ]
  },
  {
   "cell_type": "code",
   "execution_count": 48,
   "id": "6872d2fb",
   "metadata": {},
   "outputs": [],
   "source": [
    "X = train_df.drop('TARGET' , axis =1)\n",
    "y = train_df['TARGET']\n",
    "under = RandomUnderSampler(sampling_strategy='majority')\n",
    "X , y = under.fit_resample(X, y)"
   ]
  },
  {
   "cell_type": "code",
   "execution_count": 49,
   "id": "608da2ee",
   "metadata": {},
   "outputs": [
    {
     "data": {
      "image/png": "[encoded data removed]",
      "text/plain": [
       "<Figure size 432x288 with 1 Axes>"
      ]
     },
     "metadata": {
      "needs_background": "light"
     },
     "output_type": "display_data"
    }
   ],
   "source": [
    "sns.countplot(x='TARGET',data=y.to_frame(name='TARGET'));"
   ]
  },
  {
   "cell_type": "code",
   "execution_count": 50,
   "id": "99b7b63a",
   "metadata": {},
   "outputs": [],
   "source": [
    "import torch\n",
    "import torch.nn as nn"
   ]
  },
  {
   "cell_type": "code",
   "execution_count": 51,
   "id": "94face06",
   "metadata": {},
   "outputs": [],
   "source": [
    "class Model(nn.Module):\n",
    "    def __init__(self, input_dim, output_dim):\n",
    "        super(Model, self).__init__()\n",
    "        self.linear = torch.nn.Linear(input_dim, output_dim)\n",
    "    \n",
    "    def forward(self, x):\n",
    "        outputs = self.linear(x)\n",
    "        return outputs"
   ]
  },
  {
   "cell_type": "code",
   "execution_count": 52,
   "id": "ae65df22",
   "metadata": {},
   "outputs": [],
   "source": [
    "model = Model(81,2)"
   ]
  },
  {
   "cell_type": "code",
   "execution_count": 53,
   "id": "be52dcf8",
   "metadata": {},
   "outputs": [],
   "source": [
    "criterion = nn.CrossEntropyLoss()\n",
    "optimizer = torch.optim.Adam(model.parameters(), lr=0.001)"
   ]
  },
  {
   "cell_type": "code",
   "execution_count": 54,
   "id": "dbb86592",
   "metadata": {},
   "outputs": [],
   "source": [
    "from sklearn.model_selection import train_test_split\n",
    "X_train, X_test, y_train, y_test = train_test_split(X.values,y.values,test_size=0.2,random_state=33)"
   ]
  },
  {
   "cell_type": "code",
   "execution_count": 55,
   "id": "b43b4e12",
   "metadata": {},
   "outputs": [],
   "source": [
    "X_train = torch.FloatTensor(X_train)\n",
    "X_test = torch.FloatTensor(X_test)\n",
    "y_train = torch.LongTensor(y_train)\n",
    "y_test = torch.LongTensor(y_test)"
   ]
  },
  {
   "cell_type": "code",
   "execution_count": 56,
   "id": "59cb55d3",
   "metadata": {},
   "outputs": [],
   "source": [
    "from torch.utils.data import Dataset, DataLoader\n",
    "trainloader = DataLoader(X_train, batch_size=60, shuffle=True)\n",
    "testloader = DataLoader(X_test, batch_size=60, shuffle=False)"
   ]
  },
  {
   "cell_type": "code",
   "execution_count": 57,
   "id": "9283609b",
   "metadata": {},
   "outputs": [
    {
     "name": "stdout",
     "output_type": "stream",
     "text": [
      "epoch:  1  loss: 25568.25781250\n",
      "epoch: 11  loss: 19858.94140625\n",
      "epoch: 21  loss: 17553.15234375\n",
      "epoch: 31  loss: 15973.18554688\n",
      "epoch: 41  loss: 14005.79101562\n",
      "epoch: 51  loss: 11959.57421875\n",
      "epoch: 61  loss: 9890.80273438\n",
      "epoch: 71  loss: 7773.04150391\n",
      "epoch: 81  loss: 5664.99072266\n",
      "epoch: 91  loss: 3646.13134766\n",
      "epoch: 101  loss: 2035.74768066\n",
      "epoch: 111  loss: 1269.82958984\n",
      "epoch: 121  loss: 841.26007080\n",
      "epoch: 131  loss: 457.23641968\n",
      "epoch: 141  loss: 382.32394409\n",
      "epoch: 151  loss: 320.54019165\n",
      "epoch: 161  loss: 265.89334106\n",
      "epoch: 171  loss: 216.30697632\n",
      "epoch: 181  loss: 168.38163757\n",
      "epoch: 191  loss: 121.51059723\n",
      "epoch: 201  loss: 116.28664398\n",
      "epoch: 211  loss: 50.79714584\n",
      "epoch: 221  loss: 197.82211304\n",
      "epoch: 231  loss: 225.46673584\n",
      "epoch: 241  loss: 273.01806641\n",
      "epoch: 251  loss: 239.59992981\n",
      "epoch: 261  loss: 21.81420898\n",
      "epoch: 271  loss: 115.10809326\n",
      "epoch: 281  loss: 90.32343292\n",
      "epoch: 291  loss: 44.74139786\n",
      "epoch: 301  loss: 284.09631348\n",
      "epoch: 311  loss: 34.71616745\n",
      "epoch: 321  loss: 180.62774658\n",
      "epoch: 331  loss: 188.06324768\n",
      "epoch: 341  loss: 263.59725952\n",
      "epoch: 351  loss: 125.91660309\n",
      "epoch: 361  loss: 360.42221069\n",
      "epoch: 371  loss: 149.96582031\n",
      "epoch: 381  loss: 214.28678894\n",
      "epoch: 391  loss: 48.78606033\n",
      "epoch: 401  loss: 125.43633270\n",
      "epoch: 411  loss: 79.47256470\n",
      "epoch: 421  loss: 287.84420776\n",
      "epoch: 431  loss: 52.61855316\n",
      "epoch: 441  loss: 115.97656250\n",
      "epoch: 451  loss: 78.81506348\n",
      "epoch: 461  loss: 276.51199341\n",
      "epoch: 471  loss: 67.14053345\n",
      "epoch: 481  loss: 91.86826324\n",
      "epoch: 491  loss: 168.47833252\n"
     ]
    }
   ],
   "source": [
    "epochs = 500\n",
    "losses = []\n",
    "\n",
    "for i in range(epochs):\n",
    "    i+=1\n",
    "    y_pred = model.forward(X_train)\n",
    "    loss = criterion(y_pred, y_train)\n",
    "    losses.append(loss.item())\n",
    "    \n",
    "    if i%10 == 1:\n",
    "        print(f'epoch: {i:2}  loss: {loss.item():10.8f}')\n",
    "\n",
    "    optimizer.zero_grad()\n",
    "    loss.backward()\n",
    "    optimizer.step()"
   ]
  },
  {
   "cell_type": "code",
   "execution_count": 58,
   "id": "d6d2f689",
   "metadata": {},
   "outputs": [
    {
     "data": {
      "image/png": "[encoded data removed]",
      "text/plain": [
       "<Figure size 432x288 with 1 Axes>"
      ]
     },
     "metadata": {
      "needs_background": "light"
     },
     "output_type": "display_data"
    }
   ],
   "source": [
    "plt.plot(range(epochs), losses)\n",
    "plt.ylabel('Cross Entropy Loss')\n",
    "plt.xlabel('epoch');"
   ]
  },
  {
   "cell_type": "code",
   "execution_count": 69,
   "id": "7514741e",
   "metadata": {},
   "outputs": [
    {
     "name": "stdout",
     "output_type": "stream",
     "text": [
      "139.84693909\n"
     ]
    }
   ],
   "source": [
    "with torch.no_grad():\n",
    "    y_val = model.forward(X_test)\n",
    "    loss = criterion(y_val, y_test)\n",
    "print(f'{loss:.8f}')"
   ]
  },
  {
   "cell_type": "code",
   "execution_count": 64,
   "id": "8de02be0",
   "metadata": {},
   "outputs": [],
   "source": [
    "from sklearn.metrics import accuracy_score, classification_report"
   ]
  },
  {
   "cell_type": "code",
   "execution_count": 86,
   "id": "7551192e",
   "metadata": {},
   "outputs": [
    {
     "data": {
      "text/plain": [
       "0.5023162134944612"
      ]
     },
     "execution_count": 86,
     "metadata": {},
     "output_type": "execute_result"
    }
   ],
   "source": [
    "accuracy_score(y_test.numpy(), np.array([y.argmax().item() for y in y_val]))"
   ]
  },
  {
   "cell_type": "code",
   "execution_count": null,
   "id": "58708e70",
   "metadata": {},
   "outputs": [],
   "source": []
  }
 ],
 "metadata": {
  "kernelspec": {
   "display_name": "Python 3",
   "language": "python",
   "name": "python3"
  },
  "language_info": {
   "codemirror_mode": {
    "name": "ipython",
    "version": 3
   },
   "file_extension": ".py",
   "mimetype": "text/x-python",
   "name": "python",
   "nbconvert_exporter": "python",
   "pygments_lexer": "ipython3",
   "version": "3.9.5"
  }
 },
 "nbformat": 4,
 "nbformat_minor": 5
}
